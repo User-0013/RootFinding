{
 "cells": [
  {
   "cell_type": "markdown",
   "metadata": {},
   "source": [
    "<h1 align=\"center\">YRoots</h1>\n",
    "\n",
    "YRoots is a numerical rootfinding package to find all the real roots of a system of equations in a compact interval in $\\mathbb{R}^n$ under mild assumptions on the roots."
   ]
  },
  {
   "cell_type": "markdown",
   "metadata": {},
   "source": [
    "# Installation\n",
    "\n",
    "In Linux or a Mac terminal, download YRoots from github with the following command, while in the directory where you want YRoots installed:\n",
    "\n",
    "  ```git\n",
    "      git clone https://github.com/tylerjarvis/RootFinding/tree/master   \n",
    "  ```\n",
    "  \n",
    "Now make the yroots module availabe to Python with: \n",
    "\n",
    "  ```\n",
    "      pip install -e ./RootFinding\n",
    "  ```\n",
    "That's it.  You can use yroots in this notebook or in your own python code."
   ]
  },
  {
   "cell_type": "markdown",
   "metadata": {},
   "source": [
    "# Some examples of how to use yroots"
   ]
  },
  {
   "cell_type": "code",
   "execution_count": 2,
   "metadata": {},
   "outputs": [],
   "source": [
    "#imports\n",
    "import numpy as np\n",
    "import yroots as yr\n",
    "\n",
    "#plotting tools\n",
    "%matplotlib inline\n",
    "from matplotlib import pyplot as plt\n",
    "from mpl_toolkits.mplot3d import Axes3D"
   ]
  },
  {
   "cell_type": "markdown",
   "metadata": {},
   "source": [
    "## Multivariate Functions\n",
    "\n",
    "To find the commmon zeros of a set of multivariate functions, input a list of functions and a search interval. The syntax for this is:\n",
    "\n",
    "```python\n",
    "yr.solve(funcs, a, b)\n",
    "```\n",
    "\n",
    "where `funcs` is a list of $n$ **vectorized** functions in $n$ variables and `a` and `b` are array-like objects of upper and lower bounds (respectively) of the search domain in each dimension. For bivariate systems, the optional parameter `plot` allows the user to graph the zero-loci and roots of the functions. The parameter `polish` can improve the accuracy for multivariate systems, using Newton's method, provided the derivatives are reliable.\n",
    "\n",
    "YRoots returns a numpy array where each row is a root."
   ]
  },
  {
   "cell_type": "markdown",
   "metadata": {},
   "source": [
    "### Two variables, basic example\n",
    "Here is an example of YRoots solving the bivariate system of equations\n",
    "\n",
    "$$0 = \\sin(xy) + x\\log(y+3) - x^2 + \\frac{1}{y-4}$$\n",
    "$$6 = \\cos(3xy) + e^{\\frac{3y}{x-2}} - x.$$\n",
    "\n",
    "Solutions of the system subject to the constrains $-1\\leq x\\leq0,-2\\leq y\\leq1$ are common roots of the functions\n",
    "\n",
    "$$f(x,y) = \\sin(xy) + x\\log(y+3) - x^2 + \\frac{1}{y-4} $$\n",
    "$$g(x,y) = \\cos(3xy) + e^{\\frac{3y}{x-2}} - x - 6$$ on the search domain $[-1,0]\\times[-2,1]$."
   ]
  },
  {
   "cell_type": "code",
   "execution_count": 2,
   "metadata": {
    "scrolled": false
   },
   "outputs": [
    {
     "name": "stdout",
     "output_type": "stream",
     "text": [
      "Percent Finished: 100%                                                  \n",
      "Total intervals checked was 583\n",
      "Methods used were ['constant_term_check', 'quadratic_check', 'Base Case', 'Spectral', 'Too Deep']\n",
      "The percent solved by each was [10.2916 87.9931  1.7153  0.      0.    ]\n",
      "Wall time: 2.34 s\n",
      "[[-0.410034   -1.40471685]\n",
      " [-0.73720226 -1.65461673]]\n"
     ]
    }
   ],
   "source": [
    "#define the functions\n",
    "f = lambda x,y : np.sin(x*y) + x*np.log(y+3) - x**2 + 1/(y-4)\n",
    "g = lambda x,y : np.cos(3*x*y) + np.exp(3*y/(x-2)) - x - 6\n",
    "\n",
    "#search domain bounds\n",
    "a = [-1,-2] #lower bounds on x and y\n",
    "b = [0,1] #upper bounds on x and y\n",
    "\n",
    "\n",
    "# compute the roots and time the process\n",
    "%time roots = yr.solve([f,g], a, b)\n",
    "\n",
    "print(roots)\n"
   ]
  },
  {
   "cell_type": "code",
   "execution_count": 3,
   "metadata": {},
   "outputs": [
    {
     "name": "stdout",
     "output_type": "stream",
     "text": [
      "Percent Finished: 100%                                                  \n",
      "Total intervals checked was 583\n",
      "Methods used were ['constant_term_check', 'quadratic_check', 'Base Case', 'Spectral', 'Too Deep']\n",
      "The percent solved by each was [10.2916 87.9931  1.7153  0.      0.    ]\n"
     ]
    },
    {
     "data": {
      "text/plain": [
       "<Figure size 3600x2400 with 0 Axes>"
      ]
     },
     "metadata": {},
     "output_type": "display_data"
    },
    {
     "data": {
      "image/png": "[encoded data removed]",
      "text/plain": [
       "<Figure size 468x216 with 1 Axes>"
      ]
     },
     "metadata": {
      "needs_background": "light"
     },
     "output_type": "display_data"
    }
   ],
   "source": [
    "#Plot the zero loci of each function and the common roots\n",
    "\n",
    "roots = yr.solve([f,g], a, b, plot=True)\n"
   ]
  },
  {
   "cell_type": "markdown",
   "metadata": {},
   "source": [
    "How good are these estimated roots?  Let's compute residuals:"
   ]
  },
  {
   "cell_type": "code",
   "execution_count": 4,
   "metadata": {},
   "outputs": [
    {
     "name": "stdout",
     "output_type": "stream",
     "text": [
      "residuals for f are [1.94289029e-16 1.66533454e-16]\n",
      "residuals for g are [5.32907052e-15 4.44089210e-15]\n"
     ]
    }
   ],
   "source": [
    "#Compute the residuals for each function and root\n",
    "print('residuals for f are {}'.format(np.abs(f(roots[:,0],roots[:,1]))))\n",
    "print('residuals for g are {}'.format(np.abs(g(roots[:,0],roots[:,1]))))"
   ]
  },
  {
   "cell_type": "markdown",
   "metadata": {},
   "source": [
    "We could improve the accuracy by Yroot polishing:"
   ]
  },
  {
   "cell_type": "code",
   "execution_count": 5,
   "metadata": {},
   "outputs": [
    {
     "name": "stdout",
     "output_type": "stream",
     "text": [
      "Percent Finished: 100%                                                  \n",
      "Total intervals checked was 364\n",
      "Methods used were ['constant_term_check', 'quadratic_check', 'Base Case', 'Spectral', 'Too Deep']\n",
      "The percent solved by each was [ 0.8242 96.978   2.1978  0.      0.    ]\n",
      "residuals for f are [7.49400542e-16 2.08166817e-15]\n",
      "residuals for g are [1.06581410e-14 3.28626015e-14]\n"
     ]
    }
   ],
   "source": [
    "roots = yr.solve([f,g], a, b, rel_approx_tol=[1.e-6, 1.e-8, 1.e-10], abs_approx_tol=[1.e-10, 1.e-12, 1.e-13],\n",
    "                 max_cond_num=[1e6, 1e5, 1e4], macaulay_zero_tol=[1e-12, 1e-13, 1e-14], good_zeros_factor=[100, 10, 10],\n",
    "                 min_good_zeros_tol=[1e-5, 1e-7, 1e-9])\n",
    "#Compute the residuals for each function and root\n",
    "print('residuals for f are {}'.format(np.abs(f(roots[:,0],roots[:,1]))))\n",
    "print('residuals for g are {}'.format(np.abs(g(roots[:,0],roots[:,1]))))"
   ]
  },
  {
   "cell_type": "markdown",
   "metadata": {},
   "source": [
    "### Two variables, second example\n",
    "\n",
    "Here is a slightly more complex system on the search domain $[-1,1]\\times[-1,1]$ from [this paper](https://link.springer.com/article/10.1007/s00211-014-0635-z).\n",
    "\n",
    "$$f(x,y) =\\sin(30x−y/30)+y$$\n",
    "$$g(x,y) =\\cos(x/30−30y)−x$$"
   ]
  },
  {
   "cell_type": "code",
   "execution_count": 6,
   "metadata": {},
   "outputs": [
    {
     "name": "stderr",
     "output_type": "stream",
     "text": [
      "D:\\Users\\Daniel\\Documents\\Work Research\\RootFinding\\yroots\\polynomial.py:44: NumbaWarning: \u001b[1m\n",
      "Compilation is falling back to object mode WITH looplifting enabled because Function \"chebval2\" failed type inference due to: \u001b[1m\u001b[1mInvalid use of Function(<built-in function mul>) with argument(s) of type(s): (tuple(int64 x 1), Literal[int](1))\n",
      "Known signatures:\n",
      " * (int64, int64) -> int64\n",
      " * (int64, uint64) -> int64\n",
      " * (uint64, int64) -> int64\n",
      " * (uint64, uint64) -> uint64\n",
      " * (float32, float32) -> float32\n",
      " * (float64, float64) -> float64\n",
      " * (complex64, complex64) -> complex64\n",
      " * (complex128, complex128) -> complex128\n",
      " * parameterized\n",
      "\u001b[1mIn definition 0:\u001b[0m\n",
      "\u001b[1m    All templates rejected with literals.\u001b[0m\n",
      "\u001b[1mIn definition 1:\u001b[0m\n",
      "\u001b[1m    All templates rejected without literals.\u001b[0m\n",
      "\u001b[1mIn definition 2:\u001b[0m\n",
      "\u001b[1m    All templates rejected with literals.\u001b[0m\n",
      "\u001b[1mIn definition 3:\u001b[0m\n",
      "\u001b[1m    All templates rejected without literals.\u001b[0m\n",
      "\u001b[1mIn definition 4:\u001b[0m\n",
      "\u001b[1m    All templates rejected with literals.\u001b[0m\n",
      "\u001b[1mIn definition 5:\u001b[0m\n",
      "\u001b[1m    All templates rejected without literals.\u001b[0m\n",
      "\u001b[1mIn definition 6:\u001b[0m\n",
      "\u001b[1m    All templates rejected with literals.\u001b[0m\n",
      "\u001b[1mIn definition 7:\u001b[0m\n",
      "\u001b[1m    All templates rejected without literals.\u001b[0m\n",
      "\u001b[1mIn definition 8:\u001b[0m\n",
      "\u001b[1m    All templates rejected with literals.\u001b[0m\n",
      "\u001b[1mIn definition 9:\u001b[0m\n",
      "\u001b[1m    All templates rejected without literals.\u001b[0m\n",
      "\u001b[1mIn definition 10:\u001b[0m\n",
      "\u001b[1m    All templates rejected with literals.\u001b[0m\n",
      "\u001b[1mIn definition 11:\u001b[0m\n",
      "\u001b[1m    All templates rejected without literals.\u001b[0m\n",
      "\u001b[1mThis error is usually caused by passing an argument of a type that is unsupported by the named function.\u001b[0m\u001b[0m\n",
      "\u001b[0m\u001b[1m[1] During: typing of intrinsic-call at D:\\Users\\Daniel\\Documents\\Work Research\\RootFinding\\yroots\\polynomial.py (46)\u001b[0m\n",
      "\u001b[1m\n",
      "File \"yroots\\polynomial.py\", line 46:\u001b[0m\n",
      "\u001b[1mdef chebval2(x, cc): #pragma: no cover\n",
      "\u001b[1m    cc = cc.reshape(cc.shape + (1,)*x.ndim)\n",
      "\u001b[0m    \u001b[1m^\u001b[0m\u001b[0m\n",
      "\u001b[0m\n",
      "  @jit(cache=True)\n",
      "D:\\Users\\Daniel\\Documents\\Work Research\\RootFinding\\yroots\\polynomial.py:44: NumbaWarning: \u001b[1m\n",
      "Compilation is falling back to object mode WITHOUT looplifting enabled because Function \"chebval2\" failed type inference due to: \u001b[1m\u001b[1mcannot determine Numba type of <class 'numba.dispatcher.LiftedLoop'>\u001b[0m\n",
      "\u001b[1m\n",
      "File \"yroots\\polynomial.py\", line 57:\u001b[0m\n",
      "\u001b[1mdef chebval2(x, cc): #pragma: no cover\n",
      "    <source elided>\n",
      "        c1 = cc[-1]\n",
      "\u001b[1m        for i in range(3, len(cc) + 1):\n",
      "\u001b[0m        \u001b[1m^\u001b[0m\u001b[0m\n",
      "\u001b[0m\u001b[0m\n",
      "  @jit(cache=True)\n",
      "D:\\Users\\Daniel\\Anaconda3\\lib\\site-packages\\numba\\object_mode_passes.py:178: NumbaWarning: \u001b[1mFunction \"chebval2\" was compiled in object mode without forceobj=True, but has lifted loops.\n",
      "\u001b[1m\n",
      "File \"yroots\\polynomial.py\", line 45:\u001b[0m\n",
      "\u001b[1m@jit(cache=True)\n",
      "\u001b[1mdef chebval2(x, cc): #pragma: no cover\n",
      "\u001b[0m\u001b[1m^\u001b[0m\u001b[0m\n",
      "\u001b[0m\n",
      "  state.func_ir.loc))\n",
      "D:\\Users\\Daniel\\Anaconda3\\lib\\site-packages\\numba\\object_mode_passes.py:187: NumbaDeprecationWarning: \u001b[1m\n",
      "Fall-back from the nopython compilation path to the object mode compilation path has been detected, this is deprecated behaviour.\n",
      "\n",
      "For more information visit http://numba.pydata.org/numba-doc/latest/reference/deprecation.html#deprecation-of-object-mode-fall-back-behaviour-when-using-jit\n",
      "\u001b[1m\n",
      "File \"yroots\\polynomial.py\", line 45:\u001b[0m\n",
      "\u001b[1m@jit(cache=True)\n",
      "\u001b[1mdef chebval2(x, cc): #pragma: no cover\n",
      "\u001b[0m\u001b[1m^\u001b[0m\u001b[0m\n",
      "\u001b[0m\n",
      "  warnings.warn(errors.NumbaDeprecationWarning(msg, state.func_ir.loc))\n",
      "D:\\Users\\Daniel\\Documents\\Work Research\\RootFinding\\yroots\\polynomial.py:44: NumbaWarning: \u001b[1mCannot cache compiled function \"chebval2\" as it uses lifted loops\u001b[0m\n",
      "  @jit(cache=True)\n",
      "D:\\Users\\Daniel\\Documents\\Work Research\\RootFinding\\yroots\\polynomial.py:44: NumbaWarning: \u001b[1m\n",
      "Compilation is falling back to object mode WITHOUT looplifting enabled because Function \"chebval2\" failed type inference due to: \u001b[1m\u001b[1mCannot unify array(float64, 2d, A) and array(complex128, 2d, C) for 'c1', defined at D:\\Users\\Daniel\\Documents\\Work Research\\RootFinding\\yroots\\polynomial.py (57)\n",
      "\u001b[1m\n",
      "File \"yroots\\polynomial.py\", line 57:\u001b[0m\n",
      "\u001b[1mdef chebval2(x, cc): #pragma: no cover\n",
      "    <source elided>\n",
      "        c1 = cc[-1]\n",
      "\u001b[1m        for i in range(3, len(cc) + 1):\n",
      "\u001b[0m        \u001b[1m^\u001b[0m\u001b[0m\n",
      "\u001b[0m\n",
      "\u001b[0m\u001b[1m[1] During: typing of assignment at D:\\Users\\Daniel\\Documents\\Work Research\\RootFinding\\yroots\\polynomial.py (60)\u001b[0m\n",
      "\u001b[1m\n",
      "File \"yroots\\polynomial.py\", line 60:\u001b[0m\n",
      "\u001b[1mdef chebval2(x, cc): #pragma: no cover\n",
      "    <source elided>\n",
      "            c0 = cc[-i] - c1\n",
      "\u001b[1m            c1 = tmp + c1*x2\n",
      "\u001b[0m            \u001b[1m^\u001b[0m\u001b[0m\n",
      "\u001b[0m\n",
      "  @jit(cache=True)\n",
      "D:\\Users\\Daniel\\Anaconda3\\lib\\site-packages\\numba\\object_mode_passes.py:178: NumbaWarning: \u001b[1mFunction \"chebval2\" was compiled in object mode without forceobj=True.\n",
      "\u001b[1m\n",
      "File \"yroots\\polynomial.py\", line 57:\u001b[0m\n",
      "\u001b[1mdef chebval2(x, cc): #pragma: no cover\n",
      "    <source elided>\n",
      "        c1 = cc[-1]\n",
      "\u001b[1m        for i in range(3, len(cc) + 1):\n",
      "\u001b[0m        \u001b[1m^\u001b[0m\u001b[0m\n",
      "\u001b[0m\n",
      "  state.func_ir.loc))\n",
      "D:\\Users\\Daniel\\Anaconda3\\lib\\site-packages\\numba\\object_mode_passes.py:187: NumbaDeprecationWarning: \u001b[1m\n",
      "Fall-back from the nopython compilation path to the object mode compilation path has been detected, this is deprecated behaviour.\n",
      "\n",
      "For more information visit http://numba.pydata.org/numba-doc/latest/reference/deprecation.html#deprecation-of-object-mode-fall-back-behaviour-when-using-jit\n",
      "\u001b[1m\n",
      "File \"yroots\\polynomial.py\", line 57:\u001b[0m\n",
      "\u001b[1mdef chebval2(x, cc): #pragma: no cover\n",
      "    <source elided>\n",
      "        c1 = cc[-1]\n",
      "\u001b[1m        for i in range(3, len(cc) + 1):\n",
      "\u001b[0m        \u001b[1m^\u001b[0m\u001b[0m\n",
      "\u001b[0m\n",
      "  warnings.warn(errors.NumbaDeprecationWarning(msg, state.func_ir.loc))\n",
      "D:\\Users\\Daniel\\Documents\\Work Research\\RootFinding\\yroots\\polynomial.py:26: NumbaWarning: \u001b[1m\n",
      "Compilation is falling back to object mode WITH looplifting enabled because Function \"chebval\" failed type inference due to: \u001b[1m\u001b[1mCannot unify Literal[int](0) and array(complex128, 1d, C) for 'c1', defined at D:\\Users\\Daniel\\Documents\\Work Research\\RootFinding\\yroots\\polynomial.py (30)\n",
      "\u001b[1m\n",
      "File \"yroots\\polynomial.py\", line 30:\u001b[0m\n",
      "\u001b[1mdef chebval(x, cc): #pragma: no cover\n",
      "    <source elided>\n",
      "        c0 = cc[0]\n",
      "\u001b[1m        c1 = 0\n",
      "\u001b[0m        \u001b[1m^\u001b[0m\u001b[0m\n",
      "\u001b[0m\n",
      "\u001b[0m\u001b[1m[1] During: typing of assignment at D:\\Users\\Daniel\\Documents\\Work Research\\RootFinding\\yroots\\polynomial.py (33)\u001b[0m\n",
      "\u001b[1m\n",
      "File \"yroots\\polynomial.py\", line 33:\u001b[0m\n",
      "\u001b[1mdef chebval(x, cc): #pragma: no cover\n",
      "    <source elided>\n",
      "        c0 = cc[0]\n",
      "\u001b[1m        c1 = cc[1]\n",
      "\u001b[0m        \u001b[1m^\u001b[0m\u001b[0m\n",
      "\u001b[0m\n",
      "  @jit(cache=True)\n",
      "D:\\Users\\Daniel\\Documents\\Work Research\\RootFinding\\yroots\\polynomial.py:26: NumbaWarning: \u001b[1m\n",
      "Compilation is falling back to object mode WITHOUT looplifting enabled because Function \"chebval\" failed type inference due to: \u001b[1m\u001b[1mcannot determine Numba type of <class 'numba.dispatcher.LiftedLoop'>\u001b[0m\n",
      "\u001b[1m\n",
      "File \"yroots\\polynomial.py\", line 38:\u001b[0m\n",
      "\u001b[1mdef chebval(x, cc): #pragma: no cover\n",
      "    <source elided>\n",
      "        c1 = cc[-1]\n",
      "\u001b[1m        for i in range(3, len(cc) + 1):\n",
      "\u001b[0m        \u001b[1m^\u001b[0m\u001b[0m\n",
      "\u001b[0m\u001b[0m\n",
      "  @jit(cache=True)\n",
      "D:\\Users\\Daniel\\Anaconda3\\lib\\site-packages\\numba\\object_mode_passes.py:178: NumbaWarning: \u001b[1mFunction \"chebval\" was compiled in object mode without forceobj=True, but has lifted loops.\n",
      "\u001b[1m\n",
      "File \"yroots\\polynomial.py\", line 27:\u001b[0m\n",
      "\u001b[1m@jit(cache=True)\n",
      "\u001b[1mdef chebval(x, cc): #pragma: no cover\n",
      "\u001b[0m\u001b[1m^\u001b[0m\u001b[0m\n",
      "\u001b[0m\n",
      "  state.func_ir.loc))\n",
      "D:\\Users\\Daniel\\Anaconda3\\lib\\site-packages\\numba\\object_mode_passes.py:187: NumbaDeprecationWarning: \u001b[1m\n",
      "Fall-back from the nopython compilation path to the object mode compilation path has been detected, this is deprecated behaviour.\n",
      "\n",
      "For more information visit http://numba.pydata.org/numba-doc/latest/reference/deprecation.html#deprecation-of-object-mode-fall-back-behaviour-when-using-jit\n",
      "\u001b[1m\n",
      "File \"yroots\\polynomial.py\", line 27:\u001b[0m\n",
      "\u001b[1m@jit(cache=True)\n",
      "\u001b[1mdef chebval(x, cc): #pragma: no cover\n",
      "\u001b[0m\u001b[1m^\u001b[0m\u001b[0m\n",
      "\u001b[0m\n",
      "  warnings.warn(errors.NumbaDeprecationWarning(msg, state.func_ir.loc))\n",
      "D:\\Users\\Daniel\\Documents\\Work Research\\RootFinding\\yroots\\polynomial.py:26: NumbaWarning: \u001b[1mCannot cache compiled function \"chebval\" as it uses lifted loops\u001b[0m\n",
      "  @jit(cache=True)\n"
     ]
    },
    {
     "name": "stdout",
     "output_type": "stream",
     "text": [
      "Percent Finished: 7.67%       "
     ]
    },
    {
     "ename": "KeyboardInterrupt",
     "evalue": "",
     "output_type": "error",
     "traceback": [
      "\u001b[1;31m---------------------------------------------------------------------------\u001b[0m",
      "\u001b[1;31mKeyboardInterrupt\u001b[0m                         Traceback (most recent call last)",
      "\u001b[1;32m<timed exec>\u001b[0m in \u001b[0;36m<module>\u001b[1;34m\u001b[0m\n",
      "\u001b[1;32mD:\\Users\\Daniel\\Documents\\Work Research\\RootFinding\\yroots\\subdivision.py\u001b[0m in \u001b[0;36msolve\u001b[1;34m(funcs, a, b, rel_approx_tol, abs_approx_tol, max_cond_num, macaulay_zero_tol, good_zeros_factor, min_good_zeros_tol, check_eval_error, check_eval_freq, plot, plot_intervals, deg, max_level)\u001b[0m\n\u001b[0;32m    119\u001b[0m \u001b[1;33m\u001b[0m\u001b[0m\n\u001b[0;32m    120\u001b[0m     \u001b[1;31m#Initial Solve\u001b[0m\u001b[1;33m\u001b[0m\u001b[1;33m\u001b[0m\u001b[1;33m\u001b[0m\u001b[0m\n\u001b[1;32m--> 121\u001b[1;33m     \u001b[0msolve_func\u001b[0m\u001b[1;33m(\u001b[0m\u001b[0mfuncs\u001b[0m\u001b[1;33m,\u001b[0m\u001b[0ma\u001b[0m\u001b[1;33m,\u001b[0m\u001b[0mb\u001b[0m\u001b[1;33m,\u001b[0m\u001b[0mdeg\u001b[0m\u001b[1;33m,\u001b[0m\u001b[0minterval_data\u001b[0m\u001b[1;33m,\u001b[0m\u001b[0mroot_tracker\u001b[0m\u001b[1;33m,\u001b[0m\u001b[0mtols\u001b[0m\u001b[1;33m,\u001b[0m\u001b[0mmax_level\u001b[0m\u001b[1;33m)\u001b[0m\u001b[1;33m\u001b[0m\u001b[1;33m\u001b[0m\u001b[0m\n\u001b[0m\u001b[0;32m    122\u001b[0m     \u001b[0mroot_tracker\u001b[0m\u001b[1;33m.\u001b[0m\u001b[0mkeep_possible_duplicates\u001b[0m\u001b[1;33m(\u001b[0m\u001b[1;33m)\u001b[0m\u001b[1;33m\u001b[0m\u001b[1;33m\u001b[0m\u001b[0m\n\u001b[0;32m    123\u001b[0m \u001b[1;33m\u001b[0m\u001b[0m\n",
      "\u001b[1;32mD:\\Users\\Daniel\\Documents\\Work Research\\RootFinding\\yroots\\subdivision.py\u001b[0m in \u001b[0;36msubdivision_solve_nd\u001b[1;34m(funcs, a, b, deg, interval_data, root_tracker, tols, max_level, good_degs, level)\u001b[0m\n\u001b[0;32m    601\u001b[0m             \u001b[0mintervals\u001b[0m \u001b[1;33m=\u001b[0m \u001b[0mget_subintervals\u001b[0m\u001b[1;33m(\u001b[0m\u001b[0ma\u001b[0m\u001b[1;33m,\u001b[0m\u001b[0mb\u001b[0m\u001b[1;33m,\u001b[0m\u001b[0mchange_sign\u001b[0m\u001b[1;33m,\u001b[0m\u001b[1;32mNone\u001b[0m\u001b[1;33m,\u001b[0m\u001b[1;32mNone\u001b[0m\u001b[1;33m,\u001b[0m\u001b[1;32mNone\u001b[0m\u001b[1;33m,\u001b[0m\u001b[0mapprox_errors\u001b[0m\u001b[1;33m)\u001b[0m\u001b[1;33m\u001b[0m\u001b[1;33m\u001b[0m\u001b[0m\n\u001b[0;32m    602\u001b[0m             \u001b[1;32mfor\u001b[0m \u001b[0mnew_a\u001b[0m\u001b[1;33m,\u001b[0m \u001b[0mnew_b\u001b[0m \u001b[1;32min\u001b[0m \u001b[0mintervals\u001b[0m\u001b[1;33m:\u001b[0m\u001b[1;33m\u001b[0m\u001b[1;33m\u001b[0m\u001b[0m\n\u001b[1;32m--> 603\u001b[1;33m                 \u001b[0msubdivision_solve_nd\u001b[0m\u001b[1;33m(\u001b[0m\u001b[0mfuncs\u001b[0m\u001b[1;33m,\u001b[0m\u001b[0mnew_a\u001b[0m\u001b[1;33m,\u001b[0m\u001b[0mnew_b\u001b[0m\u001b[1;33m,\u001b[0m\u001b[0mdeg\u001b[0m\u001b[1;33m,\u001b[0m\u001b[0minterval_data\u001b[0m\u001b[1;33m,\u001b[0m\u001b[0mroot_tracker\u001b[0m\u001b[1;33m,\u001b[0m\u001b[0mtols\u001b[0m\u001b[1;33m,\u001b[0m\u001b[0mmax_level\u001b[0m\u001b[1;33m,\u001b[0m\u001b[0mlevel\u001b[0m\u001b[1;33m=\u001b[0m\u001b[0mlevel\u001b[0m\u001b[1;33m+\u001b[0m\u001b[1;36m1\u001b[0m\u001b[1;33m)\u001b[0m\u001b[1;33m\u001b[0m\u001b[1;33m\u001b[0m\u001b[0m\n\u001b[0m\u001b[0;32m    604\u001b[0m             \u001b[1;32mreturn\u001b[0m\u001b[1;33m\u001b[0m\u001b[1;33m\u001b[0m\u001b[0m\n\u001b[0;32m    605\u001b[0m         \u001b[1;32melse\u001b[0m\u001b[1;33m:\u001b[0m\u001b[1;33m\u001b[0m\u001b[1;33m\u001b[0m\u001b[0m\n",
      "\u001b[1;32mD:\\Users\\Daniel\\Documents\\Work Research\\RootFinding\\yroots\\subdivision.py\u001b[0m in \u001b[0;36msubdivision_solve_nd\u001b[1;34m(funcs, a, b, deg, interval_data, root_tracker, tols, max_level, good_degs, level)\u001b[0m\n\u001b[0;32m    601\u001b[0m             \u001b[0mintervals\u001b[0m \u001b[1;33m=\u001b[0m \u001b[0mget_subintervals\u001b[0m\u001b[1;33m(\u001b[0m\u001b[0ma\u001b[0m\u001b[1;33m,\u001b[0m\u001b[0mb\u001b[0m\u001b[1;33m,\u001b[0m\u001b[0mchange_sign\u001b[0m\u001b[1;33m,\u001b[0m\u001b[1;32mNone\u001b[0m\u001b[1;33m,\u001b[0m\u001b[1;32mNone\u001b[0m\u001b[1;33m,\u001b[0m\u001b[1;32mNone\u001b[0m\u001b[1;33m,\u001b[0m\u001b[0mapprox_errors\u001b[0m\u001b[1;33m)\u001b[0m\u001b[1;33m\u001b[0m\u001b[1;33m\u001b[0m\u001b[0m\n\u001b[0;32m    602\u001b[0m             \u001b[1;32mfor\u001b[0m \u001b[0mnew_a\u001b[0m\u001b[1;33m,\u001b[0m \u001b[0mnew_b\u001b[0m \u001b[1;32min\u001b[0m \u001b[0mintervals\u001b[0m\u001b[1;33m:\u001b[0m\u001b[1;33m\u001b[0m\u001b[1;33m\u001b[0m\u001b[0m\n\u001b[1;32m--> 603\u001b[1;33m                 \u001b[0msubdivision_solve_nd\u001b[0m\u001b[1;33m(\u001b[0m\u001b[0mfuncs\u001b[0m\u001b[1;33m,\u001b[0m\u001b[0mnew_a\u001b[0m\u001b[1;33m,\u001b[0m\u001b[0mnew_b\u001b[0m\u001b[1;33m,\u001b[0m\u001b[0mdeg\u001b[0m\u001b[1;33m,\u001b[0m\u001b[0minterval_data\u001b[0m\u001b[1;33m,\u001b[0m\u001b[0mroot_tracker\u001b[0m\u001b[1;33m,\u001b[0m\u001b[0mtols\u001b[0m\u001b[1;33m,\u001b[0m\u001b[0mmax_level\u001b[0m\u001b[1;33m,\u001b[0m\u001b[0mlevel\u001b[0m\u001b[1;33m=\u001b[0m\u001b[0mlevel\u001b[0m\u001b[1;33m+\u001b[0m\u001b[1;36m1\u001b[0m\u001b[1;33m)\u001b[0m\u001b[1;33m\u001b[0m\u001b[1;33m\u001b[0m\u001b[0m\n\u001b[0m\u001b[0;32m    604\u001b[0m             \u001b[1;32mreturn\u001b[0m\u001b[1;33m\u001b[0m\u001b[1;33m\u001b[0m\u001b[0m\n\u001b[0;32m    605\u001b[0m         \u001b[1;32melse\u001b[0m\u001b[1;33m:\u001b[0m\u001b[1;33m\u001b[0m\u001b[1;33m\u001b[0m\u001b[0m\n",
      "\u001b[1;32mD:\\Users\\Daniel\\Documents\\Work Research\\RootFinding\\yroots\\subdivision.py\u001b[0m in \u001b[0;36msubdivision_solve_nd\u001b[1;34m(funcs, a, b, deg, interval_data, root_tracker, tols, max_level, good_degs, level)\u001b[0m\n\u001b[0;32m    601\u001b[0m             \u001b[0mintervals\u001b[0m \u001b[1;33m=\u001b[0m \u001b[0mget_subintervals\u001b[0m\u001b[1;33m(\u001b[0m\u001b[0ma\u001b[0m\u001b[1;33m,\u001b[0m\u001b[0mb\u001b[0m\u001b[1;33m,\u001b[0m\u001b[0mchange_sign\u001b[0m\u001b[1;33m,\u001b[0m\u001b[1;32mNone\u001b[0m\u001b[1;33m,\u001b[0m\u001b[1;32mNone\u001b[0m\u001b[1;33m,\u001b[0m\u001b[1;32mNone\u001b[0m\u001b[1;33m,\u001b[0m\u001b[0mapprox_errors\u001b[0m\u001b[1;33m)\u001b[0m\u001b[1;33m\u001b[0m\u001b[1;33m\u001b[0m\u001b[0m\n\u001b[0;32m    602\u001b[0m             \u001b[1;32mfor\u001b[0m \u001b[0mnew_a\u001b[0m\u001b[1;33m,\u001b[0m \u001b[0mnew_b\u001b[0m \u001b[1;32min\u001b[0m \u001b[0mintervals\u001b[0m\u001b[1;33m:\u001b[0m\u001b[1;33m\u001b[0m\u001b[1;33m\u001b[0m\u001b[0m\n\u001b[1;32m--> 603\u001b[1;33m                 \u001b[0msubdivision_solve_nd\u001b[0m\u001b[1;33m(\u001b[0m\u001b[0mfuncs\u001b[0m\u001b[1;33m,\u001b[0m\u001b[0mnew_a\u001b[0m\u001b[1;33m,\u001b[0m\u001b[0mnew_b\u001b[0m\u001b[1;33m,\u001b[0m\u001b[0mdeg\u001b[0m\u001b[1;33m,\u001b[0m\u001b[0minterval_data\u001b[0m\u001b[1;33m,\u001b[0m\u001b[0mroot_tracker\u001b[0m\u001b[1;33m,\u001b[0m\u001b[0mtols\u001b[0m\u001b[1;33m,\u001b[0m\u001b[0mmax_level\u001b[0m\u001b[1;33m,\u001b[0m\u001b[0mlevel\u001b[0m\u001b[1;33m=\u001b[0m\u001b[0mlevel\u001b[0m\u001b[1;33m+\u001b[0m\u001b[1;36m1\u001b[0m\u001b[1;33m)\u001b[0m\u001b[1;33m\u001b[0m\u001b[1;33m\u001b[0m\u001b[0m\n\u001b[0m\u001b[0;32m    604\u001b[0m             \u001b[1;32mreturn\u001b[0m\u001b[1;33m\u001b[0m\u001b[1;33m\u001b[0m\u001b[0m\n\u001b[0;32m    605\u001b[0m         \u001b[1;32melse\u001b[0m\u001b[1;33m:\u001b[0m\u001b[1;33m\u001b[0m\u001b[1;33m\u001b[0m\u001b[0m\n",
      "\u001b[1;32mD:\\Users\\Daniel\\Documents\\Work Research\\RootFinding\\yroots\\subdivision.py\u001b[0m in \u001b[0;36msubdivision_solve_nd\u001b[1;34m(funcs, a, b, deg, interval_data, root_tracker, tols, max_level, good_degs, level)\u001b[0m\n\u001b[0;32m    601\u001b[0m             \u001b[0mintervals\u001b[0m \u001b[1;33m=\u001b[0m \u001b[0mget_subintervals\u001b[0m\u001b[1;33m(\u001b[0m\u001b[0ma\u001b[0m\u001b[1;33m,\u001b[0m\u001b[0mb\u001b[0m\u001b[1;33m,\u001b[0m\u001b[0mchange_sign\u001b[0m\u001b[1;33m,\u001b[0m\u001b[1;32mNone\u001b[0m\u001b[1;33m,\u001b[0m\u001b[1;32mNone\u001b[0m\u001b[1;33m,\u001b[0m\u001b[1;32mNone\u001b[0m\u001b[1;33m,\u001b[0m\u001b[0mapprox_errors\u001b[0m\u001b[1;33m)\u001b[0m\u001b[1;33m\u001b[0m\u001b[1;33m\u001b[0m\u001b[0m\n\u001b[0;32m    602\u001b[0m             \u001b[1;32mfor\u001b[0m \u001b[0mnew_a\u001b[0m\u001b[1;33m,\u001b[0m \u001b[0mnew_b\u001b[0m \u001b[1;32min\u001b[0m \u001b[0mintervals\u001b[0m\u001b[1;33m:\u001b[0m\u001b[1;33m\u001b[0m\u001b[1;33m\u001b[0m\u001b[0m\n\u001b[1;32m--> 603\u001b[1;33m                 \u001b[0msubdivision_solve_nd\u001b[0m\u001b[1;33m(\u001b[0m\u001b[0mfuncs\u001b[0m\u001b[1;33m,\u001b[0m\u001b[0mnew_a\u001b[0m\u001b[1;33m,\u001b[0m\u001b[0mnew_b\u001b[0m\u001b[1;33m,\u001b[0m\u001b[0mdeg\u001b[0m\u001b[1;33m,\u001b[0m\u001b[0minterval_data\u001b[0m\u001b[1;33m,\u001b[0m\u001b[0mroot_tracker\u001b[0m\u001b[1;33m,\u001b[0m\u001b[0mtols\u001b[0m\u001b[1;33m,\u001b[0m\u001b[0mmax_level\u001b[0m\u001b[1;33m,\u001b[0m\u001b[0mlevel\u001b[0m\u001b[1;33m=\u001b[0m\u001b[0mlevel\u001b[0m\u001b[1;33m+\u001b[0m\u001b[1;36m1\u001b[0m\u001b[1;33m)\u001b[0m\u001b[1;33m\u001b[0m\u001b[1;33m\u001b[0m\u001b[0m\n\u001b[0m\u001b[0;32m    604\u001b[0m             \u001b[1;32mreturn\u001b[0m\u001b[1;33m\u001b[0m\u001b[1;33m\u001b[0m\u001b[0m\n\u001b[0;32m    605\u001b[0m         \u001b[1;32melse\u001b[0m\u001b[1;33m:\u001b[0m\u001b[1;33m\u001b[0m\u001b[1;33m\u001b[0m\u001b[0m\n",
      "\u001b[1;32mD:\\Users\\Daniel\\Documents\\Work Research\\RootFinding\\yroots\\subdivision.py\u001b[0m in \u001b[0;36msubdivision_solve_nd\u001b[1;34m(funcs, a, b, deg, interval_data, root_tracker, tols, max_level, good_degs, level)\u001b[0m\n\u001b[0;32m    601\u001b[0m             \u001b[0mintervals\u001b[0m \u001b[1;33m=\u001b[0m \u001b[0mget_subintervals\u001b[0m\u001b[1;33m(\u001b[0m\u001b[0ma\u001b[0m\u001b[1;33m,\u001b[0m\u001b[0mb\u001b[0m\u001b[1;33m,\u001b[0m\u001b[0mchange_sign\u001b[0m\u001b[1;33m,\u001b[0m\u001b[1;32mNone\u001b[0m\u001b[1;33m,\u001b[0m\u001b[1;32mNone\u001b[0m\u001b[1;33m,\u001b[0m\u001b[1;32mNone\u001b[0m\u001b[1;33m,\u001b[0m\u001b[0mapprox_errors\u001b[0m\u001b[1;33m)\u001b[0m\u001b[1;33m\u001b[0m\u001b[1;33m\u001b[0m\u001b[0m\n\u001b[0;32m    602\u001b[0m             \u001b[1;32mfor\u001b[0m \u001b[0mnew_a\u001b[0m\u001b[1;33m,\u001b[0m \u001b[0mnew_b\u001b[0m \u001b[1;32min\u001b[0m \u001b[0mintervals\u001b[0m\u001b[1;33m:\u001b[0m\u001b[1;33m\u001b[0m\u001b[1;33m\u001b[0m\u001b[0m\n\u001b[1;32m--> 603\u001b[1;33m                 \u001b[0msubdivision_solve_nd\u001b[0m\u001b[1;33m(\u001b[0m\u001b[0mfuncs\u001b[0m\u001b[1;33m,\u001b[0m\u001b[0mnew_a\u001b[0m\u001b[1;33m,\u001b[0m\u001b[0mnew_b\u001b[0m\u001b[1;33m,\u001b[0m\u001b[0mdeg\u001b[0m\u001b[1;33m,\u001b[0m\u001b[0minterval_data\u001b[0m\u001b[1;33m,\u001b[0m\u001b[0mroot_tracker\u001b[0m\u001b[1;33m,\u001b[0m\u001b[0mtols\u001b[0m\u001b[1;33m,\u001b[0m\u001b[0mmax_level\u001b[0m\u001b[1;33m,\u001b[0m\u001b[0mlevel\u001b[0m\u001b[1;33m=\u001b[0m\u001b[0mlevel\u001b[0m\u001b[1;33m+\u001b[0m\u001b[1;36m1\u001b[0m\u001b[1;33m)\u001b[0m\u001b[1;33m\u001b[0m\u001b[1;33m\u001b[0m\u001b[0m\n\u001b[0m\u001b[0;32m    604\u001b[0m             \u001b[1;32mreturn\u001b[0m\u001b[1;33m\u001b[0m\u001b[1;33m\u001b[0m\u001b[0m\n\u001b[0;32m    605\u001b[0m         \u001b[1;32melse\u001b[0m\u001b[1;33m:\u001b[0m\u001b[1;33m\u001b[0m\u001b[1;33m\u001b[0m\u001b[0m\n",
      "\u001b[1;32mD:\\Users\\Daniel\\Documents\\Work Research\\RootFinding\\yroots\\subdivision.py\u001b[0m in \u001b[0;36msubdivision_solve_nd\u001b[1;34m(funcs, a, b, deg, interval_data, root_tracker, tols, max_level, good_degs, level)\u001b[0m\n\u001b[0;32m    601\u001b[0m             \u001b[0mintervals\u001b[0m \u001b[1;33m=\u001b[0m \u001b[0mget_subintervals\u001b[0m\u001b[1;33m(\u001b[0m\u001b[0ma\u001b[0m\u001b[1;33m,\u001b[0m\u001b[0mb\u001b[0m\u001b[1;33m,\u001b[0m\u001b[0mchange_sign\u001b[0m\u001b[1;33m,\u001b[0m\u001b[1;32mNone\u001b[0m\u001b[1;33m,\u001b[0m\u001b[1;32mNone\u001b[0m\u001b[1;33m,\u001b[0m\u001b[1;32mNone\u001b[0m\u001b[1;33m,\u001b[0m\u001b[0mapprox_errors\u001b[0m\u001b[1;33m)\u001b[0m\u001b[1;33m\u001b[0m\u001b[1;33m\u001b[0m\u001b[0m\n\u001b[0;32m    602\u001b[0m             \u001b[1;32mfor\u001b[0m \u001b[0mnew_a\u001b[0m\u001b[1;33m,\u001b[0m \u001b[0mnew_b\u001b[0m \u001b[1;32min\u001b[0m \u001b[0mintervals\u001b[0m\u001b[1;33m:\u001b[0m\u001b[1;33m\u001b[0m\u001b[1;33m\u001b[0m\u001b[0m\n\u001b[1;32m--> 603\u001b[1;33m                 \u001b[0msubdivision_solve_nd\u001b[0m\u001b[1;33m(\u001b[0m\u001b[0mfuncs\u001b[0m\u001b[1;33m,\u001b[0m\u001b[0mnew_a\u001b[0m\u001b[1;33m,\u001b[0m\u001b[0mnew_b\u001b[0m\u001b[1;33m,\u001b[0m\u001b[0mdeg\u001b[0m\u001b[1;33m,\u001b[0m\u001b[0minterval_data\u001b[0m\u001b[1;33m,\u001b[0m\u001b[0mroot_tracker\u001b[0m\u001b[1;33m,\u001b[0m\u001b[0mtols\u001b[0m\u001b[1;33m,\u001b[0m\u001b[0mmax_level\u001b[0m\u001b[1;33m,\u001b[0m\u001b[0mlevel\u001b[0m\u001b[1;33m=\u001b[0m\u001b[0mlevel\u001b[0m\u001b[1;33m+\u001b[0m\u001b[1;36m1\u001b[0m\u001b[1;33m)\u001b[0m\u001b[1;33m\u001b[0m\u001b[1;33m\u001b[0m\u001b[0m\n\u001b[0m\u001b[0;32m    604\u001b[0m             \u001b[1;32mreturn\u001b[0m\u001b[1;33m\u001b[0m\u001b[1;33m\u001b[0m\u001b[0m\n\u001b[0;32m    605\u001b[0m         \u001b[1;32melse\u001b[0m\u001b[1;33m:\u001b[0m\u001b[1;33m\u001b[0m\u001b[1;33m\u001b[0m\u001b[0m\n",
      "\u001b[1;32mD:\\Users\\Daniel\\Documents\\Work Research\\RootFinding\\yroots\\subdivision.py\u001b[0m in \u001b[0;36msubdivision_solve_nd\u001b[1;34m(funcs, a, b, deg, interval_data, root_tracker, tols, max_level, good_degs, level)\u001b[0m\n\u001b[0;32m    594\u001b[0m     \u001b[1;31m#Get the chebyshev approximations\u001b[0m\u001b[1;33m\u001b[0m\u001b[1;33m\u001b[0m\u001b[1;33m\u001b[0m\u001b[0m\n\u001b[0;32m    595\u001b[0m     \u001b[1;32mfor\u001b[0m \u001b[0mfunc\u001b[0m\u001b[1;33m,\u001b[0m \u001b[0mgood_deg\u001b[0m \u001b[1;32min\u001b[0m \u001b[0mzip\u001b[0m\u001b[1;33m(\u001b[0m\u001b[0mfuncs\u001b[0m\u001b[1;33m,\u001b[0m \u001b[0mgood_degs\u001b[0m\u001b[1;33m)\u001b[0m\u001b[1;33m:\u001b[0m\u001b[1;33m\u001b[0m\u001b[1;33m\u001b[0m\u001b[0m\n\u001b[1;32m--> 596\u001b[1;33m         \u001b[0mcoeff\u001b[0m\u001b[1;33m,\u001b[0m\u001b[0mchange_sign\u001b[0m\u001b[1;33m,\u001b[0m\u001b[0minf_norm\u001b[0m\u001b[1;33m,\u001b[0m\u001b[0mapprox_error\u001b[0m \u001b[1;33m=\u001b[0m \u001b[0mfull_cheb_approximate\u001b[0m\u001b[1;33m(\u001b[0m\u001b[0mfunc\u001b[0m\u001b[1;33m,\u001b[0m\u001b[0ma\u001b[0m\u001b[1;33m,\u001b[0m\u001b[0mb\u001b[0m\u001b[1;33m,\u001b[0m\u001b[0mdeg\u001b[0m\u001b[1;33m,\u001b[0m\u001b[0mtols\u001b[0m\u001b[1;33m.\u001b[0m\u001b[0mabs_approx_tol\u001b[0m\u001b[1;33m,\u001b[0m\u001b[0mtols\u001b[0m\u001b[1;33m.\u001b[0m\u001b[0mrel_approx_tol\u001b[0m\u001b[1;33m,\u001b[0m \u001b[0mgood_deg\u001b[0m\u001b[1;33m)\u001b[0m\u001b[1;33m\u001b[0m\u001b[1;33m\u001b[0m\u001b[0m\n\u001b[0m\u001b[0;32m    597\u001b[0m         \u001b[0minf_norms\u001b[0m\u001b[1;33m.\u001b[0m\u001b[0mappend\u001b[0m\u001b[1;33m(\u001b[0m\u001b[0minf_norm\u001b[0m\u001b[1;33m)\u001b[0m\u001b[1;33m\u001b[0m\u001b[1;33m\u001b[0m\u001b[0m\n\u001b[0;32m    598\u001b[0m         \u001b[0mapprox_errors\u001b[0m\u001b[1;33m.\u001b[0m\u001b[0mappend\u001b[0m\u001b[1;33m(\u001b[0m\u001b[0mapprox_error\u001b[0m\u001b[1;33m)\u001b[0m\u001b[1;33m\u001b[0m\u001b[1;33m\u001b[0m\u001b[0m\n",
      "\u001b[1;32mD:\\Users\\Daniel\\Documents\\Work Research\\RootFinding\\yroots\\subdivision.py\u001b[0m in \u001b[0;36mfull_cheb_approximate\u001b[1;34m(f, a, b, deg, abs_approx_tol, rel_approx_tol, good_deg)\u001b[0m\n\u001b[0;32m    429\u001b[0m     \u001b[1;31m#Try degree deg and see if it's good enough\u001b[0m\u001b[1;33m\u001b[0m\u001b[1;33m\u001b[0m\u001b[1;33m\u001b[0m\u001b[0m\n\u001b[0;32m    430\u001b[0m     \u001b[0mcoeff\u001b[0m\u001b[1;33m,\u001b[0m \u001b[0minf_norm\u001b[0m \u001b[1;33m=\u001b[0m \u001b[0minterval_approximate_nd\u001b[0m\u001b[1;33m(\u001b[0m\u001b[0mf\u001b[0m\u001b[1;33m,\u001b[0m\u001b[0ma\u001b[0m\u001b[1;33m,\u001b[0m\u001b[0mb\u001b[0m\u001b[1;33m,\u001b[0m\u001b[0mdeg\u001b[0m\u001b[1;33m)\u001b[0m\u001b[1;33m\u001b[0m\u001b[1;33m\u001b[0m\u001b[0m\n\u001b[1;32m--> 431\u001b[1;33m     \u001b[0mcoeff2\u001b[0m\u001b[1;33m,\u001b[0m \u001b[0mbools\u001b[0m\u001b[1;33m,\u001b[0m \u001b[0minf_norm\u001b[0m \u001b[1;33m=\u001b[0m \u001b[0minterval_approximate_nd\u001b[0m\u001b[1;33m(\u001b[0m\u001b[0mf\u001b[0m\u001b[1;33m,\u001b[0m\u001b[0ma\u001b[0m\u001b[1;33m,\u001b[0m\u001b[0mb\u001b[0m\u001b[1;33m,\u001b[0m\u001b[0mdeg\u001b[0m\u001b[1;33m*\u001b[0m\u001b[1;36m2\u001b[0m\u001b[1;33m,\u001b[0m\u001b[0mreturn_bools\u001b[0m\u001b[1;33m=\u001b[0m\u001b[1;32mTrue\u001b[0m\u001b[1;33m,\u001b[0m \u001b[0minf_norm\u001b[0m\u001b[1;33m=\u001b[0m\u001b[0minf_norm\u001b[0m\u001b[1;33m)\u001b[0m\u001b[1;33m\u001b[0m\u001b[1;33m\u001b[0m\u001b[0m\n\u001b[0m\u001b[0;32m    432\u001b[0m \u001b[1;31m#     print(coeff)\u001b[0m\u001b[1;33m\u001b[0m\u001b[1;33m\u001b[0m\u001b[1;33m\u001b[0m\u001b[0m\n\u001b[0;32m    433\u001b[0m \u001b[1;31m#     print(coeff2)\u001b[0m\u001b[1;33m\u001b[0m\u001b[1;33m\u001b[0m\u001b[1;33m\u001b[0m\u001b[0m\n",
      "\u001b[1;32mD:\\Users\\Daniel\\Documents\\Work Research\\RootFinding\\yroots\\subdivision.py\u001b[0m in \u001b[0;36minterval_approximate_nd\u001b[1;34m(f, a, b, deg, return_bools, inf_norm)\u001b[0m\n\u001b[0;32m    320\u001b[0m         \u001b[0minf_norm\u001b[0m \u001b[1;33m=\u001b[0m \u001b[0mnp\u001b[0m\u001b[1;33m.\u001b[0m\u001b[0mmax\u001b[0m\u001b[1;33m(\u001b[0m\u001b[0mnp\u001b[0m\u001b[1;33m.\u001b[0m\u001b[0mabs\u001b[0m\u001b[1;33m(\u001b[0m\u001b[0mvalues_block\u001b[0m\u001b[1;33m)\u001b[0m\u001b[1;33m)\u001b[0m\u001b[1;33m\u001b[0m\u001b[1;33m\u001b[0m\u001b[0m\n\u001b[0;32m    321\u001b[0m \u001b[1;33m\u001b[0m\u001b[0m\n\u001b[1;32m--> 322\u001b[1;33m     \u001b[0mcoeffs\u001b[0m \u001b[1;33m=\u001b[0m \u001b[0mnp\u001b[0m\u001b[1;33m.\u001b[0m\u001b[0mreal\u001b[0m\u001b[1;33m(\u001b[0m\u001b[0mfftn\u001b[0m\u001b[1;33m(\u001b[0m\u001b[0mvalues\u001b[0m\u001b[1;33m/\u001b[0m\u001b[0mdeg\u001b[0m\u001b[1;33m**\u001b[0m\u001b[0mdim\u001b[0m\u001b[1;33m)\u001b[0m\u001b[1;33m)\u001b[0m\u001b[1;33m\u001b[0m\u001b[1;33m\u001b[0m\u001b[0m\n\u001b[0m\u001b[0;32m    323\u001b[0m \u001b[1;33m\u001b[0m\u001b[0m\n\u001b[0;32m    324\u001b[0m     \u001b[1;32mfor\u001b[0m \u001b[0mi\u001b[0m \u001b[1;32min\u001b[0m \u001b[0mrange\u001b[0m\u001b[1;33m(\u001b[0m\u001b[0mdim\u001b[0m\u001b[1;33m)\u001b[0m\u001b[1;33m:\u001b[0m\u001b[1;33m\u001b[0m\u001b[1;33m\u001b[0m\u001b[0m\n",
      "\u001b[1;32m<__array_function__ internals>\u001b[0m in \u001b[0;36mfftn\u001b[1;34m(*args, **kwargs)\u001b[0m\n",
      "\u001b[1;32mD:\\Users\\Daniel\\Anaconda3\\lib\\site-packages\\numpy\\fft\\_pocketfft.py\u001b[0m in \u001b[0;36mfftn\u001b[1;34m(a, s, axes, norm)\u001b[0m\n\u001b[0;32m    756\u001b[0m     \"\"\"\n\u001b[0;32m    757\u001b[0m \u001b[1;33m\u001b[0m\u001b[0m\n\u001b[1;32m--> 758\u001b[1;33m     \u001b[1;32mreturn\u001b[0m \u001b[0m_raw_fftnd\u001b[0m\u001b[1;33m(\u001b[0m\u001b[0ma\u001b[0m\u001b[1;33m,\u001b[0m \u001b[0ms\u001b[0m\u001b[1;33m,\u001b[0m \u001b[0maxes\u001b[0m\u001b[1;33m,\u001b[0m \u001b[0mfft\u001b[0m\u001b[1;33m,\u001b[0m \u001b[0mnorm\u001b[0m\u001b[1;33m)\u001b[0m\u001b[1;33m\u001b[0m\u001b[1;33m\u001b[0m\u001b[0m\n\u001b[0m\u001b[0;32m    759\u001b[0m \u001b[1;33m\u001b[0m\u001b[0m\n\u001b[0;32m    760\u001b[0m \u001b[1;33m\u001b[0m\u001b[0m\n",
      "\u001b[1;32mD:\\Users\\Daniel\\Anaconda3\\lib\\site-packages\\numpy\\fft\\_pocketfft.py\u001b[0m in \u001b[0;36m_raw_fftnd\u001b[1;34m(a, s, axes, function, norm)\u001b[0m\n\u001b[0;32m    653\u001b[0m     \u001b[0mitl\u001b[0m\u001b[1;33m.\u001b[0m\u001b[0mreverse\u001b[0m\u001b[1;33m(\u001b[0m\u001b[1;33m)\u001b[0m\u001b[1;33m\u001b[0m\u001b[1;33m\u001b[0m\u001b[0m\n\u001b[0;32m    654\u001b[0m     \u001b[1;32mfor\u001b[0m \u001b[0mii\u001b[0m \u001b[1;32min\u001b[0m \u001b[0mitl\u001b[0m\u001b[1;33m:\u001b[0m\u001b[1;33m\u001b[0m\u001b[1;33m\u001b[0m\u001b[0m\n\u001b[1;32m--> 655\u001b[1;33m         \u001b[0ma\u001b[0m \u001b[1;33m=\u001b[0m \u001b[0mfunction\u001b[0m\u001b[1;33m(\u001b[0m\u001b[0ma\u001b[0m\u001b[1;33m,\u001b[0m \u001b[0mn\u001b[0m\u001b[1;33m=\u001b[0m\u001b[0ms\u001b[0m\u001b[1;33m[\u001b[0m\u001b[0mii\u001b[0m\u001b[1;33m]\u001b[0m\u001b[1;33m,\u001b[0m \u001b[0maxis\u001b[0m\u001b[1;33m=\u001b[0m\u001b[0maxes\u001b[0m\u001b[1;33m[\u001b[0m\u001b[0mii\u001b[0m\u001b[1;33m]\u001b[0m\u001b[1;33m,\u001b[0m \u001b[0mnorm\u001b[0m\u001b[1;33m=\u001b[0m\u001b[0mnorm\u001b[0m\u001b[1;33m)\u001b[0m\u001b[1;33m\u001b[0m\u001b[1;33m\u001b[0m\u001b[0m\n\u001b[0m\u001b[0;32m    656\u001b[0m     \u001b[1;32mreturn\u001b[0m \u001b[0ma\u001b[0m\u001b[1;33m\u001b[0m\u001b[1;33m\u001b[0m\u001b[0m\n\u001b[0;32m    657\u001b[0m \u001b[1;33m\u001b[0m\u001b[0m\n",
      "\u001b[1;32m<__array_function__ internals>\u001b[0m in \u001b[0;36mfft\u001b[1;34m(*args, **kwargs)\u001b[0m\n",
      "\u001b[1;32mD:\\Users\\Daniel\\Anaconda3\\lib\\site-packages\\numpy\\fft\\_pocketfft.py\u001b[0m in \u001b[0;36mfft\u001b[1;34m(a, n, axis, norm)\u001b[0m\n\u001b[0;32m    186\u001b[0m     \u001b[1;32mif\u001b[0m \u001b[0mnorm\u001b[0m \u001b[1;32mis\u001b[0m \u001b[1;32mnot\u001b[0m \u001b[1;32mNone\u001b[0m \u001b[1;32mand\u001b[0m \u001b[0m_unitary\u001b[0m\u001b[1;33m(\u001b[0m\u001b[0mnorm\u001b[0m\u001b[1;33m)\u001b[0m\u001b[1;33m:\u001b[0m\u001b[1;33m\u001b[0m\u001b[1;33m\u001b[0m\u001b[0m\n\u001b[0;32m    187\u001b[0m         \u001b[0minv_norm\u001b[0m \u001b[1;33m=\u001b[0m \u001b[0msqrt\u001b[0m\u001b[1;33m(\u001b[0m\u001b[0mn\u001b[0m\u001b[1;33m)\u001b[0m\u001b[1;33m\u001b[0m\u001b[1;33m\u001b[0m\u001b[0m\n\u001b[1;32m--> 188\u001b[1;33m     \u001b[0moutput\u001b[0m \u001b[1;33m=\u001b[0m \u001b[0m_raw_fft\u001b[0m\u001b[1;33m(\u001b[0m\u001b[0ma\u001b[0m\u001b[1;33m,\u001b[0m \u001b[0mn\u001b[0m\u001b[1;33m,\u001b[0m \u001b[0maxis\u001b[0m\u001b[1;33m,\u001b[0m \u001b[1;32mFalse\u001b[0m\u001b[1;33m,\u001b[0m \u001b[1;32mTrue\u001b[0m\u001b[1;33m,\u001b[0m \u001b[0minv_norm\u001b[0m\u001b[1;33m)\u001b[0m\u001b[1;33m\u001b[0m\u001b[1;33m\u001b[0m\u001b[0m\n\u001b[0m\u001b[0;32m    189\u001b[0m     \u001b[1;32mreturn\u001b[0m \u001b[0moutput\u001b[0m\u001b[1;33m\u001b[0m\u001b[1;33m\u001b[0m\u001b[0m\n\u001b[0;32m    190\u001b[0m \u001b[1;33m\u001b[0m\u001b[0m\n",
      "\u001b[1;32mD:\\Users\\Daniel\\Anaconda3\\lib\\site-packages\\numpy\\fft\\_pocketfft.py\u001b[0m in \u001b[0;36m_raw_fft\u001b[1;34m(a, n, axis, is_real, is_forward, inv_norm)\u001b[0m\n\u001b[0;32m     75\u001b[0m \u001b[1;33m\u001b[0m\u001b[0m\n\u001b[0;32m     76\u001b[0m     \u001b[1;32mif\u001b[0m \u001b[0maxis\u001b[0m \u001b[1;33m==\u001b[0m \u001b[0ma\u001b[0m\u001b[1;33m.\u001b[0m\u001b[0mndim\u001b[0m\u001b[1;33m-\u001b[0m\u001b[1;36m1\u001b[0m\u001b[1;33m:\u001b[0m\u001b[1;33m\u001b[0m\u001b[1;33m\u001b[0m\u001b[0m\n\u001b[1;32m---> 77\u001b[1;33m         \u001b[0mr\u001b[0m \u001b[1;33m=\u001b[0m \u001b[0mpfi\u001b[0m\u001b[1;33m.\u001b[0m\u001b[0mexecute\u001b[0m\u001b[1;33m(\u001b[0m\u001b[0ma\u001b[0m\u001b[1;33m,\u001b[0m \u001b[0mis_real\u001b[0m\u001b[1;33m,\u001b[0m \u001b[0mis_forward\u001b[0m\u001b[1;33m,\u001b[0m \u001b[0mfct\u001b[0m\u001b[1;33m)\u001b[0m\u001b[1;33m\u001b[0m\u001b[1;33m\u001b[0m\u001b[0m\n\u001b[0m\u001b[0;32m     78\u001b[0m     \u001b[1;32melse\u001b[0m\u001b[1;33m:\u001b[0m\u001b[1;33m\u001b[0m\u001b[1;33m\u001b[0m\u001b[0m\n\u001b[0;32m     79\u001b[0m         \u001b[0ma\u001b[0m \u001b[1;33m=\u001b[0m \u001b[0mswapaxes\u001b[0m\u001b[1;33m(\u001b[0m\u001b[0ma\u001b[0m\u001b[1;33m,\u001b[0m \u001b[0maxis\u001b[0m\u001b[1;33m,\u001b[0m \u001b[1;33m-\u001b[0m\u001b[1;36m1\u001b[0m\u001b[1;33m)\u001b[0m\u001b[1;33m\u001b[0m\u001b[1;33m\u001b[0m\u001b[0m\n",
      "\u001b[1;31mKeyboardInterrupt\u001b[0m: "
     ]
    }
   ],
   "source": [
    "#functions\n",
    "f = lambda x,y: np.sin(30*x-y/30)+y\n",
    "g = lambda x,y: np.cos(x/30-30*y)-x\n",
    "#search domain\n",
    "a = [-1,-1] #lower\n",
    "b = [1,1] #upper\n",
    "#time\n",
    "%time roots =  yr.solve([f,g], a, b)"
   ]
  },
  {
   "cell_type": "code",
   "execution_count": 7,
   "metadata": {},
   "outputs": [
    {
     "name": "stdout",
     "output_type": "stream",
     "text": [
      "number of roots found is 2\n",
      " Maximal residual for f is 1.5849078598114499 \n",
      " Maximal residual for g is 1.5323445782936815\n"
     ]
    }
   ],
   "source": [
    "# show the number of roots (should be 363?)\n",
    "print(f'number of roots found is {roots.shape[0]}')\n",
    "\n",
    "# print the maximal residual\n",
    "print(' Maximal residual for f is {} \\n Maximal residual for g is {}'. format(np.max(np.abs(f(roots[:,0],roots[:,1]))),np.max(np.abs(g(roots[:,0],roots[:,1])))))\n"
   ]
  },
  {
   "cell_type": "markdown",
   "metadata": {},
   "source": [
    "So 363 real roots were found in this domain in under 7 seconds.  \n",
    "\n",
    "Let's plot them and the zero loci:"
   ]
  },
  {
   "cell_type": "code",
   "execution_count": 8,
   "metadata": {},
   "outputs": [
    {
     "name": "stdout",
     "output_type": "stream",
     "text": [
      "Percent Finished: 5.13%       "
     ]
    },
    {
     "ename": "KeyboardInterrupt",
     "evalue": "",
     "output_type": "error",
     "traceback": [
      "\u001b[1;31m---------------------------------------------------------------------------\u001b[0m",
      "\u001b[1;31mKeyboardInterrupt\u001b[0m                         Traceback (most recent call last)",
      "\u001b[1;32m<ipython-input-8-05140b66e661>\u001b[0m in \u001b[0;36m<module>\u001b[1;34m\u001b[0m\n\u001b[0;32m      1\u001b[0m \u001b[1;31m# Plot the zero loci and common roots\u001b[0m\u001b[1;33m\u001b[0m\u001b[1;33m\u001b[0m\u001b[1;33m\u001b[0m\u001b[0m\n\u001b[1;32m----> 2\u001b[1;33m \u001b[0mroots\u001b[0m \u001b[1;33m=\u001b[0m  \u001b[0myr\u001b[0m\u001b[1;33m.\u001b[0m\u001b[0msolve\u001b[0m\u001b[1;33m(\u001b[0m\u001b[1;33m[\u001b[0m\u001b[0mf\u001b[0m\u001b[1;33m,\u001b[0m\u001b[0mg\u001b[0m\u001b[1;33m]\u001b[0m\u001b[1;33m,\u001b[0m \u001b[0ma\u001b[0m\u001b[1;33m,\u001b[0m \u001b[0mb\u001b[0m\u001b[1;33m,\u001b[0m \u001b[0mplot\u001b[0m\u001b[1;33m=\u001b[0m\u001b[1;32mTrue\u001b[0m\u001b[1;33m)\u001b[0m\u001b[1;33m\u001b[0m\u001b[1;33m\u001b[0m\u001b[0m\n\u001b[0m",
      "\u001b[1;32mD:\\Users\\Daniel\\Documents\\Work Research\\RootFinding\\yroots\\subdivision.py\u001b[0m in \u001b[0;36msolve\u001b[1;34m(funcs, a, b, rel_approx_tol, abs_approx_tol, max_cond_num, macaulay_zero_tol, good_zeros_factor, min_good_zeros_tol, check_eval_error, check_eval_freq, plot, plot_intervals, deg, max_level)\u001b[0m\n\u001b[0;32m    119\u001b[0m \u001b[1;33m\u001b[0m\u001b[0m\n\u001b[0;32m    120\u001b[0m     \u001b[1;31m#Initial Solve\u001b[0m\u001b[1;33m\u001b[0m\u001b[1;33m\u001b[0m\u001b[1;33m\u001b[0m\u001b[0m\n\u001b[1;32m--> 121\u001b[1;33m     \u001b[0msolve_func\u001b[0m\u001b[1;33m(\u001b[0m\u001b[0mfuncs\u001b[0m\u001b[1;33m,\u001b[0m\u001b[0ma\u001b[0m\u001b[1;33m,\u001b[0m\u001b[0mb\u001b[0m\u001b[1;33m,\u001b[0m\u001b[0mdeg\u001b[0m\u001b[1;33m,\u001b[0m\u001b[0minterval_data\u001b[0m\u001b[1;33m,\u001b[0m\u001b[0mroot_tracker\u001b[0m\u001b[1;33m,\u001b[0m\u001b[0mtols\u001b[0m\u001b[1;33m,\u001b[0m\u001b[0mmax_level\u001b[0m\u001b[1;33m)\u001b[0m\u001b[1;33m\u001b[0m\u001b[1;33m\u001b[0m\u001b[0m\n\u001b[0m\u001b[0;32m    122\u001b[0m     \u001b[0mroot_tracker\u001b[0m\u001b[1;33m.\u001b[0m\u001b[0mkeep_possible_duplicates\u001b[0m\u001b[1;33m(\u001b[0m\u001b[1;33m)\u001b[0m\u001b[1;33m\u001b[0m\u001b[1;33m\u001b[0m\u001b[0m\n\u001b[0;32m    123\u001b[0m \u001b[1;33m\u001b[0m\u001b[0m\n",
      "\u001b[1;32mD:\\Users\\Daniel\\Documents\\Work Research\\RootFinding\\yroots\\subdivision.py\u001b[0m in \u001b[0;36msubdivision_solve_nd\u001b[1;34m(funcs, a, b, deg, interval_data, root_tracker, tols, max_level, good_degs, level)\u001b[0m\n\u001b[0;32m    601\u001b[0m             \u001b[0mintervals\u001b[0m \u001b[1;33m=\u001b[0m \u001b[0mget_subintervals\u001b[0m\u001b[1;33m(\u001b[0m\u001b[0ma\u001b[0m\u001b[1;33m,\u001b[0m\u001b[0mb\u001b[0m\u001b[1;33m,\u001b[0m\u001b[0mchange_sign\u001b[0m\u001b[1;33m,\u001b[0m\u001b[1;32mNone\u001b[0m\u001b[1;33m,\u001b[0m\u001b[1;32mNone\u001b[0m\u001b[1;33m,\u001b[0m\u001b[1;32mNone\u001b[0m\u001b[1;33m,\u001b[0m\u001b[0mapprox_errors\u001b[0m\u001b[1;33m)\u001b[0m\u001b[1;33m\u001b[0m\u001b[1;33m\u001b[0m\u001b[0m\n\u001b[0;32m    602\u001b[0m             \u001b[1;32mfor\u001b[0m \u001b[0mnew_a\u001b[0m\u001b[1;33m,\u001b[0m \u001b[0mnew_b\u001b[0m \u001b[1;32min\u001b[0m \u001b[0mintervals\u001b[0m\u001b[1;33m:\u001b[0m\u001b[1;33m\u001b[0m\u001b[1;33m\u001b[0m\u001b[0m\n\u001b[1;32m--> 603\u001b[1;33m                 \u001b[0msubdivision_solve_nd\u001b[0m\u001b[1;33m(\u001b[0m\u001b[0mfuncs\u001b[0m\u001b[1;33m,\u001b[0m\u001b[0mnew_a\u001b[0m\u001b[1;33m,\u001b[0m\u001b[0mnew_b\u001b[0m\u001b[1;33m,\u001b[0m\u001b[0mdeg\u001b[0m\u001b[1;33m,\u001b[0m\u001b[0minterval_data\u001b[0m\u001b[1;33m,\u001b[0m\u001b[0mroot_tracker\u001b[0m\u001b[1;33m,\u001b[0m\u001b[0mtols\u001b[0m\u001b[1;33m,\u001b[0m\u001b[0mmax_level\u001b[0m\u001b[1;33m,\u001b[0m\u001b[0mlevel\u001b[0m\u001b[1;33m=\u001b[0m\u001b[0mlevel\u001b[0m\u001b[1;33m+\u001b[0m\u001b[1;36m1\u001b[0m\u001b[1;33m)\u001b[0m\u001b[1;33m\u001b[0m\u001b[1;33m\u001b[0m\u001b[0m\n\u001b[0m\u001b[0;32m    604\u001b[0m             \u001b[1;32mreturn\u001b[0m\u001b[1;33m\u001b[0m\u001b[1;33m\u001b[0m\u001b[0m\n\u001b[0;32m    605\u001b[0m         \u001b[1;32melse\u001b[0m\u001b[1;33m:\u001b[0m\u001b[1;33m\u001b[0m\u001b[1;33m\u001b[0m\u001b[0m\n",
      "\u001b[1;32mD:\\Users\\Daniel\\Documents\\Work Research\\RootFinding\\yroots\\subdivision.py\u001b[0m in \u001b[0;36msubdivision_solve_nd\u001b[1;34m(funcs, a, b, deg, interval_data, root_tracker, tols, max_level, good_degs, level)\u001b[0m\n\u001b[0;32m    601\u001b[0m             \u001b[0mintervals\u001b[0m \u001b[1;33m=\u001b[0m \u001b[0mget_subintervals\u001b[0m\u001b[1;33m(\u001b[0m\u001b[0ma\u001b[0m\u001b[1;33m,\u001b[0m\u001b[0mb\u001b[0m\u001b[1;33m,\u001b[0m\u001b[0mchange_sign\u001b[0m\u001b[1;33m,\u001b[0m\u001b[1;32mNone\u001b[0m\u001b[1;33m,\u001b[0m\u001b[1;32mNone\u001b[0m\u001b[1;33m,\u001b[0m\u001b[1;32mNone\u001b[0m\u001b[1;33m,\u001b[0m\u001b[0mapprox_errors\u001b[0m\u001b[1;33m)\u001b[0m\u001b[1;33m\u001b[0m\u001b[1;33m\u001b[0m\u001b[0m\n\u001b[0;32m    602\u001b[0m             \u001b[1;32mfor\u001b[0m \u001b[0mnew_a\u001b[0m\u001b[1;33m,\u001b[0m \u001b[0mnew_b\u001b[0m \u001b[1;32min\u001b[0m \u001b[0mintervals\u001b[0m\u001b[1;33m:\u001b[0m\u001b[1;33m\u001b[0m\u001b[1;33m\u001b[0m\u001b[0m\n\u001b[1;32m--> 603\u001b[1;33m                 \u001b[0msubdivision_solve_nd\u001b[0m\u001b[1;33m(\u001b[0m\u001b[0mfuncs\u001b[0m\u001b[1;33m,\u001b[0m\u001b[0mnew_a\u001b[0m\u001b[1;33m,\u001b[0m\u001b[0mnew_b\u001b[0m\u001b[1;33m,\u001b[0m\u001b[0mdeg\u001b[0m\u001b[1;33m,\u001b[0m\u001b[0minterval_data\u001b[0m\u001b[1;33m,\u001b[0m\u001b[0mroot_tracker\u001b[0m\u001b[1;33m,\u001b[0m\u001b[0mtols\u001b[0m\u001b[1;33m,\u001b[0m\u001b[0mmax_level\u001b[0m\u001b[1;33m,\u001b[0m\u001b[0mlevel\u001b[0m\u001b[1;33m=\u001b[0m\u001b[0mlevel\u001b[0m\u001b[1;33m+\u001b[0m\u001b[1;36m1\u001b[0m\u001b[1;33m)\u001b[0m\u001b[1;33m\u001b[0m\u001b[1;33m\u001b[0m\u001b[0m\n\u001b[0m\u001b[0;32m    604\u001b[0m             \u001b[1;32mreturn\u001b[0m\u001b[1;33m\u001b[0m\u001b[1;33m\u001b[0m\u001b[0m\n\u001b[0;32m    605\u001b[0m         \u001b[1;32melse\u001b[0m\u001b[1;33m:\u001b[0m\u001b[1;33m\u001b[0m\u001b[1;33m\u001b[0m\u001b[0m\n",
      "\u001b[1;32mD:\\Users\\Daniel\\Documents\\Work Research\\RootFinding\\yroots\\subdivision.py\u001b[0m in \u001b[0;36msubdivision_solve_nd\u001b[1;34m(funcs, a, b, deg, interval_data, root_tracker, tols, max_level, good_degs, level)\u001b[0m\n\u001b[0;32m    601\u001b[0m             \u001b[0mintervals\u001b[0m \u001b[1;33m=\u001b[0m \u001b[0mget_subintervals\u001b[0m\u001b[1;33m(\u001b[0m\u001b[0ma\u001b[0m\u001b[1;33m,\u001b[0m\u001b[0mb\u001b[0m\u001b[1;33m,\u001b[0m\u001b[0mchange_sign\u001b[0m\u001b[1;33m,\u001b[0m\u001b[1;32mNone\u001b[0m\u001b[1;33m,\u001b[0m\u001b[1;32mNone\u001b[0m\u001b[1;33m,\u001b[0m\u001b[1;32mNone\u001b[0m\u001b[1;33m,\u001b[0m\u001b[0mapprox_errors\u001b[0m\u001b[1;33m)\u001b[0m\u001b[1;33m\u001b[0m\u001b[1;33m\u001b[0m\u001b[0m\n\u001b[0;32m    602\u001b[0m             \u001b[1;32mfor\u001b[0m \u001b[0mnew_a\u001b[0m\u001b[1;33m,\u001b[0m \u001b[0mnew_b\u001b[0m \u001b[1;32min\u001b[0m \u001b[0mintervals\u001b[0m\u001b[1;33m:\u001b[0m\u001b[1;33m\u001b[0m\u001b[1;33m\u001b[0m\u001b[0m\n\u001b[1;32m--> 603\u001b[1;33m                 \u001b[0msubdivision_solve_nd\u001b[0m\u001b[1;33m(\u001b[0m\u001b[0mfuncs\u001b[0m\u001b[1;33m,\u001b[0m\u001b[0mnew_a\u001b[0m\u001b[1;33m,\u001b[0m\u001b[0mnew_b\u001b[0m\u001b[1;33m,\u001b[0m\u001b[0mdeg\u001b[0m\u001b[1;33m,\u001b[0m\u001b[0minterval_data\u001b[0m\u001b[1;33m,\u001b[0m\u001b[0mroot_tracker\u001b[0m\u001b[1;33m,\u001b[0m\u001b[0mtols\u001b[0m\u001b[1;33m,\u001b[0m\u001b[0mmax_level\u001b[0m\u001b[1;33m,\u001b[0m\u001b[0mlevel\u001b[0m\u001b[1;33m=\u001b[0m\u001b[0mlevel\u001b[0m\u001b[1;33m+\u001b[0m\u001b[1;36m1\u001b[0m\u001b[1;33m)\u001b[0m\u001b[1;33m\u001b[0m\u001b[1;33m\u001b[0m\u001b[0m\n\u001b[0m\u001b[0;32m    604\u001b[0m             \u001b[1;32mreturn\u001b[0m\u001b[1;33m\u001b[0m\u001b[1;33m\u001b[0m\u001b[0m\n\u001b[0;32m    605\u001b[0m         \u001b[1;32melse\u001b[0m\u001b[1;33m:\u001b[0m\u001b[1;33m\u001b[0m\u001b[1;33m\u001b[0m\u001b[0m\n",
      "\u001b[1;32mD:\\Users\\Daniel\\Documents\\Work Research\\RootFinding\\yroots\\subdivision.py\u001b[0m in \u001b[0;36msubdivision_solve_nd\u001b[1;34m(funcs, a, b, deg, interval_data, root_tracker, tols, max_level, good_degs, level)\u001b[0m\n\u001b[0;32m    601\u001b[0m             \u001b[0mintervals\u001b[0m \u001b[1;33m=\u001b[0m \u001b[0mget_subintervals\u001b[0m\u001b[1;33m(\u001b[0m\u001b[0ma\u001b[0m\u001b[1;33m,\u001b[0m\u001b[0mb\u001b[0m\u001b[1;33m,\u001b[0m\u001b[0mchange_sign\u001b[0m\u001b[1;33m,\u001b[0m\u001b[1;32mNone\u001b[0m\u001b[1;33m,\u001b[0m\u001b[1;32mNone\u001b[0m\u001b[1;33m,\u001b[0m\u001b[1;32mNone\u001b[0m\u001b[1;33m,\u001b[0m\u001b[0mapprox_errors\u001b[0m\u001b[1;33m)\u001b[0m\u001b[1;33m\u001b[0m\u001b[1;33m\u001b[0m\u001b[0m\n\u001b[0;32m    602\u001b[0m             \u001b[1;32mfor\u001b[0m \u001b[0mnew_a\u001b[0m\u001b[1;33m,\u001b[0m \u001b[0mnew_b\u001b[0m \u001b[1;32min\u001b[0m \u001b[0mintervals\u001b[0m\u001b[1;33m:\u001b[0m\u001b[1;33m\u001b[0m\u001b[1;33m\u001b[0m\u001b[0m\n\u001b[1;32m--> 603\u001b[1;33m                 \u001b[0msubdivision_solve_nd\u001b[0m\u001b[1;33m(\u001b[0m\u001b[0mfuncs\u001b[0m\u001b[1;33m,\u001b[0m\u001b[0mnew_a\u001b[0m\u001b[1;33m,\u001b[0m\u001b[0mnew_b\u001b[0m\u001b[1;33m,\u001b[0m\u001b[0mdeg\u001b[0m\u001b[1;33m,\u001b[0m\u001b[0minterval_data\u001b[0m\u001b[1;33m,\u001b[0m\u001b[0mroot_tracker\u001b[0m\u001b[1;33m,\u001b[0m\u001b[0mtols\u001b[0m\u001b[1;33m,\u001b[0m\u001b[0mmax_level\u001b[0m\u001b[1;33m,\u001b[0m\u001b[0mlevel\u001b[0m\u001b[1;33m=\u001b[0m\u001b[0mlevel\u001b[0m\u001b[1;33m+\u001b[0m\u001b[1;36m1\u001b[0m\u001b[1;33m)\u001b[0m\u001b[1;33m\u001b[0m\u001b[1;33m\u001b[0m\u001b[0m\n\u001b[0m\u001b[0;32m    604\u001b[0m             \u001b[1;32mreturn\u001b[0m\u001b[1;33m\u001b[0m\u001b[1;33m\u001b[0m\u001b[0m\n\u001b[0;32m    605\u001b[0m         \u001b[1;32melse\u001b[0m\u001b[1;33m:\u001b[0m\u001b[1;33m\u001b[0m\u001b[1;33m\u001b[0m\u001b[0m\n",
      "\u001b[1;32mD:\\Users\\Daniel\\Documents\\Work Research\\RootFinding\\yroots\\subdivision.py\u001b[0m in \u001b[0;36msubdivision_solve_nd\u001b[1;34m(funcs, a, b, deg, interval_data, root_tracker, tols, max_level, good_degs, level)\u001b[0m\n\u001b[0;32m    601\u001b[0m             \u001b[0mintervals\u001b[0m \u001b[1;33m=\u001b[0m \u001b[0mget_subintervals\u001b[0m\u001b[1;33m(\u001b[0m\u001b[0ma\u001b[0m\u001b[1;33m,\u001b[0m\u001b[0mb\u001b[0m\u001b[1;33m,\u001b[0m\u001b[0mchange_sign\u001b[0m\u001b[1;33m,\u001b[0m\u001b[1;32mNone\u001b[0m\u001b[1;33m,\u001b[0m\u001b[1;32mNone\u001b[0m\u001b[1;33m,\u001b[0m\u001b[1;32mNone\u001b[0m\u001b[1;33m,\u001b[0m\u001b[0mapprox_errors\u001b[0m\u001b[1;33m)\u001b[0m\u001b[1;33m\u001b[0m\u001b[1;33m\u001b[0m\u001b[0m\n\u001b[0;32m    602\u001b[0m             \u001b[1;32mfor\u001b[0m \u001b[0mnew_a\u001b[0m\u001b[1;33m,\u001b[0m \u001b[0mnew_b\u001b[0m \u001b[1;32min\u001b[0m \u001b[0mintervals\u001b[0m\u001b[1;33m:\u001b[0m\u001b[1;33m\u001b[0m\u001b[1;33m\u001b[0m\u001b[0m\n\u001b[1;32m--> 603\u001b[1;33m                 \u001b[0msubdivision_solve_nd\u001b[0m\u001b[1;33m(\u001b[0m\u001b[0mfuncs\u001b[0m\u001b[1;33m,\u001b[0m\u001b[0mnew_a\u001b[0m\u001b[1;33m,\u001b[0m\u001b[0mnew_b\u001b[0m\u001b[1;33m,\u001b[0m\u001b[0mdeg\u001b[0m\u001b[1;33m,\u001b[0m\u001b[0minterval_data\u001b[0m\u001b[1;33m,\u001b[0m\u001b[0mroot_tracker\u001b[0m\u001b[1;33m,\u001b[0m\u001b[0mtols\u001b[0m\u001b[1;33m,\u001b[0m\u001b[0mmax_level\u001b[0m\u001b[1;33m,\u001b[0m\u001b[0mlevel\u001b[0m\u001b[1;33m=\u001b[0m\u001b[0mlevel\u001b[0m\u001b[1;33m+\u001b[0m\u001b[1;36m1\u001b[0m\u001b[1;33m)\u001b[0m\u001b[1;33m\u001b[0m\u001b[1;33m\u001b[0m\u001b[0m\n\u001b[0m\u001b[0;32m    604\u001b[0m             \u001b[1;32mreturn\u001b[0m\u001b[1;33m\u001b[0m\u001b[1;33m\u001b[0m\u001b[0m\n\u001b[0;32m    605\u001b[0m         \u001b[1;32melse\u001b[0m\u001b[1;33m:\u001b[0m\u001b[1;33m\u001b[0m\u001b[1;33m\u001b[0m\u001b[0m\n",
      "\u001b[1;32mD:\\Users\\Daniel\\Documents\\Work Research\\RootFinding\\yroots\\subdivision.py\u001b[0m in \u001b[0;36msubdivision_solve_nd\u001b[1;34m(funcs, a, b, deg, interval_data, root_tracker, tols, max_level, good_degs, level)\u001b[0m\n\u001b[0;32m    601\u001b[0m             \u001b[0mintervals\u001b[0m \u001b[1;33m=\u001b[0m \u001b[0mget_subintervals\u001b[0m\u001b[1;33m(\u001b[0m\u001b[0ma\u001b[0m\u001b[1;33m,\u001b[0m\u001b[0mb\u001b[0m\u001b[1;33m,\u001b[0m\u001b[0mchange_sign\u001b[0m\u001b[1;33m,\u001b[0m\u001b[1;32mNone\u001b[0m\u001b[1;33m,\u001b[0m\u001b[1;32mNone\u001b[0m\u001b[1;33m,\u001b[0m\u001b[1;32mNone\u001b[0m\u001b[1;33m,\u001b[0m\u001b[0mapprox_errors\u001b[0m\u001b[1;33m)\u001b[0m\u001b[1;33m\u001b[0m\u001b[1;33m\u001b[0m\u001b[0m\n\u001b[0;32m    602\u001b[0m             \u001b[1;32mfor\u001b[0m \u001b[0mnew_a\u001b[0m\u001b[1;33m,\u001b[0m \u001b[0mnew_b\u001b[0m \u001b[1;32min\u001b[0m \u001b[0mintervals\u001b[0m\u001b[1;33m:\u001b[0m\u001b[1;33m\u001b[0m\u001b[1;33m\u001b[0m\u001b[0m\n\u001b[1;32m--> 603\u001b[1;33m                 \u001b[0msubdivision_solve_nd\u001b[0m\u001b[1;33m(\u001b[0m\u001b[0mfuncs\u001b[0m\u001b[1;33m,\u001b[0m\u001b[0mnew_a\u001b[0m\u001b[1;33m,\u001b[0m\u001b[0mnew_b\u001b[0m\u001b[1;33m,\u001b[0m\u001b[0mdeg\u001b[0m\u001b[1;33m,\u001b[0m\u001b[0minterval_data\u001b[0m\u001b[1;33m,\u001b[0m\u001b[0mroot_tracker\u001b[0m\u001b[1;33m,\u001b[0m\u001b[0mtols\u001b[0m\u001b[1;33m,\u001b[0m\u001b[0mmax_level\u001b[0m\u001b[1;33m,\u001b[0m\u001b[0mlevel\u001b[0m\u001b[1;33m=\u001b[0m\u001b[0mlevel\u001b[0m\u001b[1;33m+\u001b[0m\u001b[1;36m1\u001b[0m\u001b[1;33m)\u001b[0m\u001b[1;33m\u001b[0m\u001b[1;33m\u001b[0m\u001b[0m\n\u001b[0m\u001b[0;32m    604\u001b[0m             \u001b[1;32mreturn\u001b[0m\u001b[1;33m\u001b[0m\u001b[1;33m\u001b[0m\u001b[0m\n\u001b[0;32m    605\u001b[0m         \u001b[1;32melse\u001b[0m\u001b[1;33m:\u001b[0m\u001b[1;33m\u001b[0m\u001b[1;33m\u001b[0m\u001b[0m\n",
      "\u001b[1;32mD:\\Users\\Daniel\\Documents\\Work Research\\RootFinding\\yroots\\subdivision.py\u001b[0m in \u001b[0;36msubdivision_solve_nd\u001b[1;34m(funcs, a, b, deg, interval_data, root_tracker, tols, max_level, good_degs, level)\u001b[0m\n\u001b[0;32m    601\u001b[0m             \u001b[0mintervals\u001b[0m \u001b[1;33m=\u001b[0m \u001b[0mget_subintervals\u001b[0m\u001b[1;33m(\u001b[0m\u001b[0ma\u001b[0m\u001b[1;33m,\u001b[0m\u001b[0mb\u001b[0m\u001b[1;33m,\u001b[0m\u001b[0mchange_sign\u001b[0m\u001b[1;33m,\u001b[0m\u001b[1;32mNone\u001b[0m\u001b[1;33m,\u001b[0m\u001b[1;32mNone\u001b[0m\u001b[1;33m,\u001b[0m\u001b[1;32mNone\u001b[0m\u001b[1;33m,\u001b[0m\u001b[0mapprox_errors\u001b[0m\u001b[1;33m)\u001b[0m\u001b[1;33m\u001b[0m\u001b[1;33m\u001b[0m\u001b[0m\n\u001b[0;32m    602\u001b[0m             \u001b[1;32mfor\u001b[0m \u001b[0mnew_a\u001b[0m\u001b[1;33m,\u001b[0m \u001b[0mnew_b\u001b[0m \u001b[1;32min\u001b[0m \u001b[0mintervals\u001b[0m\u001b[1;33m:\u001b[0m\u001b[1;33m\u001b[0m\u001b[1;33m\u001b[0m\u001b[0m\n\u001b[1;32m--> 603\u001b[1;33m                 \u001b[0msubdivision_solve_nd\u001b[0m\u001b[1;33m(\u001b[0m\u001b[0mfuncs\u001b[0m\u001b[1;33m,\u001b[0m\u001b[0mnew_a\u001b[0m\u001b[1;33m,\u001b[0m\u001b[0mnew_b\u001b[0m\u001b[1;33m,\u001b[0m\u001b[0mdeg\u001b[0m\u001b[1;33m,\u001b[0m\u001b[0minterval_data\u001b[0m\u001b[1;33m,\u001b[0m\u001b[0mroot_tracker\u001b[0m\u001b[1;33m,\u001b[0m\u001b[0mtols\u001b[0m\u001b[1;33m,\u001b[0m\u001b[0mmax_level\u001b[0m\u001b[1;33m,\u001b[0m\u001b[0mlevel\u001b[0m\u001b[1;33m=\u001b[0m\u001b[0mlevel\u001b[0m\u001b[1;33m+\u001b[0m\u001b[1;36m1\u001b[0m\u001b[1;33m)\u001b[0m\u001b[1;33m\u001b[0m\u001b[1;33m\u001b[0m\u001b[0m\n\u001b[0m\u001b[0;32m    604\u001b[0m             \u001b[1;32mreturn\u001b[0m\u001b[1;33m\u001b[0m\u001b[1;33m\u001b[0m\u001b[0m\n\u001b[0;32m    605\u001b[0m         \u001b[1;32melse\u001b[0m\u001b[1;33m:\u001b[0m\u001b[1;33m\u001b[0m\u001b[1;33m\u001b[0m\u001b[0m\n",
      "\u001b[1;32mD:\\Users\\Daniel\\Documents\\Work Research\\RootFinding\\yroots\\subdivision.py\u001b[0m in \u001b[0;36msubdivision_solve_nd\u001b[1;34m(funcs, a, b, deg, interval_data, root_tracker, tols, max_level, good_degs, level)\u001b[0m\n\u001b[0;32m    594\u001b[0m     \u001b[1;31m#Get the chebyshev approximations\u001b[0m\u001b[1;33m\u001b[0m\u001b[1;33m\u001b[0m\u001b[1;33m\u001b[0m\u001b[0m\n\u001b[0;32m    595\u001b[0m     \u001b[1;32mfor\u001b[0m \u001b[0mfunc\u001b[0m\u001b[1;33m,\u001b[0m \u001b[0mgood_deg\u001b[0m \u001b[1;32min\u001b[0m \u001b[0mzip\u001b[0m\u001b[1;33m(\u001b[0m\u001b[0mfuncs\u001b[0m\u001b[1;33m,\u001b[0m \u001b[0mgood_degs\u001b[0m\u001b[1;33m)\u001b[0m\u001b[1;33m:\u001b[0m\u001b[1;33m\u001b[0m\u001b[1;33m\u001b[0m\u001b[0m\n\u001b[1;32m--> 596\u001b[1;33m         \u001b[0mcoeff\u001b[0m\u001b[1;33m,\u001b[0m\u001b[0mchange_sign\u001b[0m\u001b[1;33m,\u001b[0m\u001b[0minf_norm\u001b[0m\u001b[1;33m,\u001b[0m\u001b[0mapprox_error\u001b[0m \u001b[1;33m=\u001b[0m \u001b[0mfull_cheb_approximate\u001b[0m\u001b[1;33m(\u001b[0m\u001b[0mfunc\u001b[0m\u001b[1;33m,\u001b[0m\u001b[0ma\u001b[0m\u001b[1;33m,\u001b[0m\u001b[0mb\u001b[0m\u001b[1;33m,\u001b[0m\u001b[0mdeg\u001b[0m\u001b[1;33m,\u001b[0m\u001b[0mtols\u001b[0m\u001b[1;33m.\u001b[0m\u001b[0mabs_approx_tol\u001b[0m\u001b[1;33m,\u001b[0m\u001b[0mtols\u001b[0m\u001b[1;33m.\u001b[0m\u001b[0mrel_approx_tol\u001b[0m\u001b[1;33m,\u001b[0m \u001b[0mgood_deg\u001b[0m\u001b[1;33m)\u001b[0m\u001b[1;33m\u001b[0m\u001b[1;33m\u001b[0m\u001b[0m\n\u001b[0m\u001b[0;32m    597\u001b[0m         \u001b[0minf_norms\u001b[0m\u001b[1;33m.\u001b[0m\u001b[0mappend\u001b[0m\u001b[1;33m(\u001b[0m\u001b[0minf_norm\u001b[0m\u001b[1;33m)\u001b[0m\u001b[1;33m\u001b[0m\u001b[1;33m\u001b[0m\u001b[0m\n\u001b[0;32m    598\u001b[0m         \u001b[0mapprox_errors\u001b[0m\u001b[1;33m.\u001b[0m\u001b[0mappend\u001b[0m\u001b[1;33m(\u001b[0m\u001b[0mapprox_error\u001b[0m\u001b[1;33m)\u001b[0m\u001b[1;33m\u001b[0m\u001b[1;33m\u001b[0m\u001b[0m\n",
      "\u001b[1;32mD:\\Users\\Daniel\\Documents\\Work Research\\RootFinding\\yroots\\subdivision.py\u001b[0m in \u001b[0;36mfull_cheb_approximate\u001b[1;34m(f, a, b, deg, abs_approx_tol, rel_approx_tol, good_deg)\u001b[0m\n\u001b[0;32m    428\u001b[0m \u001b[1;31m#         return coeff, bools, inf_norm\u001b[0m\u001b[1;33m\u001b[0m\u001b[1;33m\u001b[0m\u001b[1;33m\u001b[0m\u001b[0m\n\u001b[0;32m    429\u001b[0m     \u001b[1;31m#Try degree deg and see if it's good enough\u001b[0m\u001b[1;33m\u001b[0m\u001b[1;33m\u001b[0m\u001b[1;33m\u001b[0m\u001b[0m\n\u001b[1;32m--> 430\u001b[1;33m     \u001b[0mcoeff\u001b[0m\u001b[1;33m,\u001b[0m \u001b[0minf_norm\u001b[0m \u001b[1;33m=\u001b[0m \u001b[0minterval_approximate_nd\u001b[0m\u001b[1;33m(\u001b[0m\u001b[0mf\u001b[0m\u001b[1;33m,\u001b[0m\u001b[0ma\u001b[0m\u001b[1;33m,\u001b[0m\u001b[0mb\u001b[0m\u001b[1;33m,\u001b[0m\u001b[0mdeg\u001b[0m\u001b[1;33m)\u001b[0m\u001b[1;33m\u001b[0m\u001b[1;33m\u001b[0m\u001b[0m\n\u001b[0m\u001b[0;32m    431\u001b[0m     \u001b[0mcoeff2\u001b[0m\u001b[1;33m,\u001b[0m \u001b[0mbools\u001b[0m\u001b[1;33m,\u001b[0m \u001b[0minf_norm\u001b[0m \u001b[1;33m=\u001b[0m \u001b[0minterval_approximate_nd\u001b[0m\u001b[1;33m(\u001b[0m\u001b[0mf\u001b[0m\u001b[1;33m,\u001b[0m\u001b[0ma\u001b[0m\u001b[1;33m,\u001b[0m\u001b[0mb\u001b[0m\u001b[1;33m,\u001b[0m\u001b[0mdeg\u001b[0m\u001b[1;33m*\u001b[0m\u001b[1;36m2\u001b[0m\u001b[1;33m,\u001b[0m\u001b[0mreturn_bools\u001b[0m\u001b[1;33m=\u001b[0m\u001b[1;32mTrue\u001b[0m\u001b[1;33m,\u001b[0m \u001b[0minf_norm\u001b[0m\u001b[1;33m=\u001b[0m\u001b[0minf_norm\u001b[0m\u001b[1;33m)\u001b[0m\u001b[1;33m\u001b[0m\u001b[1;33m\u001b[0m\u001b[0m\n\u001b[0;32m    432\u001b[0m \u001b[1;31m#     print(coeff)\u001b[0m\u001b[1;33m\u001b[0m\u001b[1;33m\u001b[0m\u001b[1;33m\u001b[0m\u001b[0m\n",
      "\u001b[1;32mD:\\Users\\Daniel\\Documents\\Work Research\\RootFinding\\yroots\\subdivision.py\u001b[0m in \u001b[0;36minterval_approximate_nd\u001b[1;34m(f, a, b, deg, return_bools, inf_norm)\u001b[0m\n\u001b[0;32m    320\u001b[0m         \u001b[0minf_norm\u001b[0m \u001b[1;33m=\u001b[0m \u001b[0mnp\u001b[0m\u001b[1;33m.\u001b[0m\u001b[0mmax\u001b[0m\u001b[1;33m(\u001b[0m\u001b[0mnp\u001b[0m\u001b[1;33m.\u001b[0m\u001b[0mabs\u001b[0m\u001b[1;33m(\u001b[0m\u001b[0mvalues_block\u001b[0m\u001b[1;33m)\u001b[0m\u001b[1;33m)\u001b[0m\u001b[1;33m\u001b[0m\u001b[1;33m\u001b[0m\u001b[0m\n\u001b[0;32m    321\u001b[0m \u001b[1;33m\u001b[0m\u001b[0m\n\u001b[1;32m--> 322\u001b[1;33m     \u001b[0mcoeffs\u001b[0m \u001b[1;33m=\u001b[0m \u001b[0mnp\u001b[0m\u001b[1;33m.\u001b[0m\u001b[0mreal\u001b[0m\u001b[1;33m(\u001b[0m\u001b[0mfftn\u001b[0m\u001b[1;33m(\u001b[0m\u001b[0mvalues\u001b[0m\u001b[1;33m/\u001b[0m\u001b[0mdeg\u001b[0m\u001b[1;33m**\u001b[0m\u001b[0mdim\u001b[0m\u001b[1;33m)\u001b[0m\u001b[1;33m)\u001b[0m\u001b[1;33m\u001b[0m\u001b[1;33m\u001b[0m\u001b[0m\n\u001b[0m\u001b[0;32m    323\u001b[0m \u001b[1;33m\u001b[0m\u001b[0m\n\u001b[0;32m    324\u001b[0m     \u001b[1;32mfor\u001b[0m \u001b[0mi\u001b[0m \u001b[1;32min\u001b[0m \u001b[0mrange\u001b[0m\u001b[1;33m(\u001b[0m\u001b[0mdim\u001b[0m\u001b[1;33m)\u001b[0m\u001b[1;33m:\u001b[0m\u001b[1;33m\u001b[0m\u001b[1;33m\u001b[0m\u001b[0m\n",
      "\u001b[1;32m<__array_function__ internals>\u001b[0m in \u001b[0;36mfftn\u001b[1;34m(*args, **kwargs)\u001b[0m\n",
      "\u001b[1;32mD:\\Users\\Daniel\\Anaconda3\\lib\\site-packages\\numpy\\fft\\_pocketfft.py\u001b[0m in \u001b[0;36mfftn\u001b[1;34m(a, s, axes, norm)\u001b[0m\n\u001b[0;32m    756\u001b[0m     \"\"\"\n\u001b[0;32m    757\u001b[0m \u001b[1;33m\u001b[0m\u001b[0m\n\u001b[1;32m--> 758\u001b[1;33m     \u001b[1;32mreturn\u001b[0m \u001b[0m_raw_fftnd\u001b[0m\u001b[1;33m(\u001b[0m\u001b[0ma\u001b[0m\u001b[1;33m,\u001b[0m \u001b[0ms\u001b[0m\u001b[1;33m,\u001b[0m \u001b[0maxes\u001b[0m\u001b[1;33m,\u001b[0m \u001b[0mfft\u001b[0m\u001b[1;33m,\u001b[0m \u001b[0mnorm\u001b[0m\u001b[1;33m)\u001b[0m\u001b[1;33m\u001b[0m\u001b[1;33m\u001b[0m\u001b[0m\n\u001b[0m\u001b[0;32m    759\u001b[0m \u001b[1;33m\u001b[0m\u001b[0m\n\u001b[0;32m    760\u001b[0m \u001b[1;33m\u001b[0m\u001b[0m\n",
      "\u001b[1;32mD:\\Users\\Daniel\\Anaconda3\\lib\\site-packages\\numpy\\fft\\_pocketfft.py\u001b[0m in \u001b[0;36m_raw_fftnd\u001b[1;34m(a, s, axes, function, norm)\u001b[0m\n\u001b[0;32m    653\u001b[0m     \u001b[0mitl\u001b[0m\u001b[1;33m.\u001b[0m\u001b[0mreverse\u001b[0m\u001b[1;33m(\u001b[0m\u001b[1;33m)\u001b[0m\u001b[1;33m\u001b[0m\u001b[1;33m\u001b[0m\u001b[0m\n\u001b[0;32m    654\u001b[0m     \u001b[1;32mfor\u001b[0m \u001b[0mii\u001b[0m \u001b[1;32min\u001b[0m \u001b[0mitl\u001b[0m\u001b[1;33m:\u001b[0m\u001b[1;33m\u001b[0m\u001b[1;33m\u001b[0m\u001b[0m\n\u001b[1;32m--> 655\u001b[1;33m         \u001b[0ma\u001b[0m \u001b[1;33m=\u001b[0m \u001b[0mfunction\u001b[0m\u001b[1;33m(\u001b[0m\u001b[0ma\u001b[0m\u001b[1;33m,\u001b[0m \u001b[0mn\u001b[0m\u001b[1;33m=\u001b[0m\u001b[0ms\u001b[0m\u001b[1;33m[\u001b[0m\u001b[0mii\u001b[0m\u001b[1;33m]\u001b[0m\u001b[1;33m,\u001b[0m \u001b[0maxis\u001b[0m\u001b[1;33m=\u001b[0m\u001b[0maxes\u001b[0m\u001b[1;33m[\u001b[0m\u001b[0mii\u001b[0m\u001b[1;33m]\u001b[0m\u001b[1;33m,\u001b[0m \u001b[0mnorm\u001b[0m\u001b[1;33m=\u001b[0m\u001b[0mnorm\u001b[0m\u001b[1;33m)\u001b[0m\u001b[1;33m\u001b[0m\u001b[1;33m\u001b[0m\u001b[0m\n\u001b[0m\u001b[0;32m    656\u001b[0m     \u001b[1;32mreturn\u001b[0m \u001b[0ma\u001b[0m\u001b[1;33m\u001b[0m\u001b[1;33m\u001b[0m\u001b[0m\n\u001b[0;32m    657\u001b[0m \u001b[1;33m\u001b[0m\u001b[0m\n",
      "\u001b[1;32m<__array_function__ internals>\u001b[0m in \u001b[0;36mfft\u001b[1;34m(*args, **kwargs)\u001b[0m\n",
      "\u001b[1;32mD:\\Users\\Daniel\\Anaconda3\\lib\\site-packages\\numpy\\fft\\_pocketfft.py\u001b[0m in \u001b[0;36mfft\u001b[1;34m(a, n, axis, norm)\u001b[0m\n\u001b[0;32m    186\u001b[0m     \u001b[1;32mif\u001b[0m \u001b[0mnorm\u001b[0m \u001b[1;32mis\u001b[0m \u001b[1;32mnot\u001b[0m \u001b[1;32mNone\u001b[0m \u001b[1;32mand\u001b[0m \u001b[0m_unitary\u001b[0m\u001b[1;33m(\u001b[0m\u001b[0mnorm\u001b[0m\u001b[1;33m)\u001b[0m\u001b[1;33m:\u001b[0m\u001b[1;33m\u001b[0m\u001b[1;33m\u001b[0m\u001b[0m\n\u001b[0;32m    187\u001b[0m         \u001b[0minv_norm\u001b[0m \u001b[1;33m=\u001b[0m \u001b[0msqrt\u001b[0m\u001b[1;33m(\u001b[0m\u001b[0mn\u001b[0m\u001b[1;33m)\u001b[0m\u001b[1;33m\u001b[0m\u001b[1;33m\u001b[0m\u001b[0m\n\u001b[1;32m--> 188\u001b[1;33m     \u001b[0moutput\u001b[0m \u001b[1;33m=\u001b[0m \u001b[0m_raw_fft\u001b[0m\u001b[1;33m(\u001b[0m\u001b[0ma\u001b[0m\u001b[1;33m,\u001b[0m \u001b[0mn\u001b[0m\u001b[1;33m,\u001b[0m \u001b[0maxis\u001b[0m\u001b[1;33m,\u001b[0m \u001b[1;32mFalse\u001b[0m\u001b[1;33m,\u001b[0m \u001b[1;32mTrue\u001b[0m\u001b[1;33m,\u001b[0m \u001b[0minv_norm\u001b[0m\u001b[1;33m)\u001b[0m\u001b[1;33m\u001b[0m\u001b[1;33m\u001b[0m\u001b[0m\n\u001b[0m\u001b[0;32m    189\u001b[0m     \u001b[1;32mreturn\u001b[0m \u001b[0moutput\u001b[0m\u001b[1;33m\u001b[0m\u001b[1;33m\u001b[0m\u001b[0m\n\u001b[0;32m    190\u001b[0m \u001b[1;33m\u001b[0m\u001b[0m\n",
      "\u001b[1;32mD:\\Users\\Daniel\\Anaconda3\\lib\\site-packages\\numpy\\fft\\_pocketfft.py\u001b[0m in \u001b[0;36m_raw_fft\u001b[1;34m(a, n, axis, is_real, is_forward, inv_norm)\u001b[0m\n\u001b[0;32m     78\u001b[0m     \u001b[1;32melse\u001b[0m\u001b[1;33m:\u001b[0m\u001b[1;33m\u001b[0m\u001b[1;33m\u001b[0m\u001b[0m\n\u001b[0;32m     79\u001b[0m         \u001b[0ma\u001b[0m \u001b[1;33m=\u001b[0m \u001b[0mswapaxes\u001b[0m\u001b[1;33m(\u001b[0m\u001b[0ma\u001b[0m\u001b[1;33m,\u001b[0m \u001b[0maxis\u001b[0m\u001b[1;33m,\u001b[0m \u001b[1;33m-\u001b[0m\u001b[1;36m1\u001b[0m\u001b[1;33m)\u001b[0m\u001b[1;33m\u001b[0m\u001b[1;33m\u001b[0m\u001b[0m\n\u001b[1;32m---> 80\u001b[1;33m         \u001b[0mr\u001b[0m \u001b[1;33m=\u001b[0m \u001b[0mpfi\u001b[0m\u001b[1;33m.\u001b[0m\u001b[0mexecute\u001b[0m\u001b[1;33m(\u001b[0m\u001b[0ma\u001b[0m\u001b[1;33m,\u001b[0m \u001b[0mis_real\u001b[0m\u001b[1;33m,\u001b[0m \u001b[0mis_forward\u001b[0m\u001b[1;33m,\u001b[0m \u001b[0mfct\u001b[0m\u001b[1;33m)\u001b[0m\u001b[1;33m\u001b[0m\u001b[1;33m\u001b[0m\u001b[0m\n\u001b[0m\u001b[0;32m     81\u001b[0m         \u001b[0mr\u001b[0m \u001b[1;33m=\u001b[0m \u001b[0mswapaxes\u001b[0m\u001b[1;33m(\u001b[0m\u001b[0mr\u001b[0m\u001b[1;33m,\u001b[0m \u001b[0maxis\u001b[0m\u001b[1;33m,\u001b[0m \u001b[1;33m-\u001b[0m\u001b[1;36m1\u001b[0m\u001b[1;33m)\u001b[0m\u001b[1;33m\u001b[0m\u001b[1;33m\u001b[0m\u001b[0m\n\u001b[0;32m     82\u001b[0m     \u001b[1;32mreturn\u001b[0m \u001b[0mr\u001b[0m\u001b[1;33m\u001b[0m\u001b[1;33m\u001b[0m\u001b[0m\n",
      "\u001b[1;31mKeyboardInterrupt\u001b[0m: "
     ]
    }
   ],
   "source": [
    "# Plot the zero loci and common roots\n",
    "roots =  yr.solve([f,g], a, b, plot=True)"
   ]
  },
  {
   "cell_type": "markdown",
   "metadata": {},
   "source": [
    "### Bivariate example #3\n",
    "\n",
    "Here is a more complicated bivariate system on the region $[-5,5]\\times[-5,5]$.\n",
    "\n",
    "$$f(x,y) = \\sin(20x+y)$$\n",
    "$$g(x,y) = \\cos(x^2+xy)-\\frac{1}{4}$$\n",
    "\n",
    "Notice that YRoots correctly avoids points that are nearly roots but are not roots."
   ]
  },
  {
   "cell_type": "code",
   "execution_count": null,
   "metadata": {
    "scrolled": false
   },
   "outputs": [],
   "source": [
    "#define functions and search domain\n",
    "f = lambda x,y : np.sin(20*x+y)\n",
    "g = lambda x,y : np.cos(x**2+x*y)-.25\n",
    "a = [-5,-5]\n",
    "b = [5,5]\n",
    "\n",
    "#solve and time\n",
    "%time roots = yr.solve([f,g], a, b)\n",
    "\n",
    "# print the number of roots (should be 452)\n",
    "print(roots.shape[0])\n",
    "\n",
    "# print the maximal residuals\n",
    "print(' Maximal residual for f is {} \\n Maximal residual for g is {}'. format(np.max(np.abs(f(roots[:,0],roots[:,1]))),np.max(np.abs(g(roots[:,0],roots[:,1])))))\n",
    "\n"
   ]
  },
  {
   "cell_type": "code",
   "execution_count": null,
   "metadata": {},
   "outputs": [],
   "source": [
    "# Solve and plot\n",
    "roots = yr.solve([f,g], a, b, plot=True)"
   ]
  },
  {
   "cell_type": "markdown",
   "metadata": {},
   "source": [
    "Here is an ill-conditioned system from [this paper](https://link.springer.com/article/10.1007/s00211-014-0635-z) on the domain $[-1,1]\\times[-1,1]$.\n",
    "\n",
    "$$\\Pi_{i=0}^{10}(y^2(4y^2−\\frac{i}{10})−x^2(4x^2−1)) = 0$$\n",
    "$$256(x^2+y^2)^2+288(x^2+y^2)−512(x^3−3xy^2)=27$$"
   ]
  },
  {
   "cell_type": "code",
   "execution_count": null,
   "metadata": {
    "scrolled": false
   },
   "outputs": [],
   "source": [
    "#functions\n",
    "f = lambda x,y: np.prod([y**2*(4*y**2-i/10)-x**2*(4*x**2-1) for i in range(11)],axis=0)\n",
    "g = lambda x,y: 256*(x**2+y**2)**2+288*(x**2+y**2)-512*(x**3-3*x*y**2)-27\n",
    "#search domain\n",
    "a = [-1,-1] #lower\n",
    "b = [1,1] #upper\n",
    "#time\n",
    "%time roots = yr.solve([f,g], a, b)\n",
    "roots = yr.solve([f,g], a, b, plot=True)\n",
    "#show the number of roots and maximal residuals\n",
    "roots.shape[0],np.max(np.abs(f(roots[:,0],roots[:,1]))),np.max(np.abs(g(roots[:,0],roots[:,1])))"
   ]
  },
  {
   "cell_type": "markdown",
   "metadata": {},
   "source": [
    "### Using YRoots for optimization\n",
    "\n",
    "YRoots can also be used for optimization problems, since the common roots of the partial derivatives of a function are critical points. "
   ]
  },
  {
   "cell_type": "markdown",
   "metadata": {},
   "source": [
    "The Rosenbrock function is often used as a performace test for optimization algorithms. It is well suited to be optimized with YRoots. \n",
    "\n",
    "$$f(x,y) = (1-x)^2 + 100(y-x^2)^2$$"
   ]
  },
  {
   "cell_type": "code",
   "execution_count": null,
   "metadata": {},
   "outputs": [],
   "source": [
    "#define function\n",
    "f = lambda x,y: (1-x)**2 + 100*(y-x**2)**2\n",
    "\n",
    "#partial derivatives\n",
    "fx = lambda x,y: 2*(x-1) + 200*(y-x**2)*(-2*x)\n",
    "fy = lambda x,y: 200*(y-x**2)"
   ]
  },
  {
   "cell_type": "code",
   "execution_count": null,
   "metadata": {},
   "outputs": [],
   "source": [
    "#3D plot of the function to optimize\n",
    "x = np.linspace(-2,2, 1000)\n",
    "y = np.linspace(-1,3, 1000)\n",
    "X, Y = np.meshgrid(x, y)\n",
    "\n",
    "fig = plt.figure()\n",
    "ax = fig.add_subplot(1,1,1, projection='3d')\n",
    "ax.plot_surface(X, Y, f(X,Y))"
   ]
  },
  {
   "cell_type": "code",
   "execution_count": null,
   "metadata": {},
   "outputs": [],
   "source": [
    "#find common roots\n",
    "low = [-2,-1]\n",
    "upp = [2,3]\n",
    "%time zeros = yr.solve([fx,fy],low,upp,plot=True, polish=True)"
   ]
  },
  {
   "cell_type": "code",
   "execution_count": null,
   "metadata": {},
   "outputs": [],
   "source": [
    "#evaluate at critical points\n",
    "values = f(zeros[:,0],zeros[:,1])\n",
    "#report mimima and minimizers\n",
    "mimimizer = np.argmin(values)\n",
    "values[mimimizer], zeros[mimimizer]"
   ]
  },
  {
   "cell_type": "markdown",
   "metadata": {},
   "source": [
    "Nick Trefethen's Hundred-dollar, Hundred-digit Challenge problems include finding the minimum of the function \n",
    "$$f(x,y) = e^{\\sin(50x)} + \\sin(60e^y) + \\sin(70 \\sin (x))+\\sin(\\sin(80y)) - \\sin(10(x+y)) + 1/4(x^2 + y^2).$$\n",
    "\n",
    "(Problem 4, [here](https://en.wikipedia.org/wiki/Hundred-dollar,_Hundred-digit_Challenge_problems))"
   ]
  },
  {
   "cell_type": "code",
   "execution_count": null,
   "metadata": {},
   "outputs": [],
   "source": [
    "#define function\n",
    "f = lambda x,y : np.exp(np.sin(50*x)) + np.sin(60*np.exp(y)) + np.sin(70*np.sin(x)) + np.sin(np.sin(80*y)) \\\n",
    "                - np.sin(10*(x+y)) + .25 * (x**2 + y**2)\n",
    "\n",
    "#partial derivatives\n",
    "fx = lambda x,y : 50*np.cos(50*x)*np.exp(np.sin(50*x)) + 70*np.cos(x)*np.cos(70*np.sin(x)) - 10*np.cos(10*(x+y)) + .5 * x\n",
    "fy = lambda x,y : 60*np.exp(y)*np.cos(60*np.exp(y)) + 80*np.cos(80*y)*np.cos(np.sin(80*y))- 10*np.cos(10*(x+y)) + .5 * y"
   ]
  },
  {
   "cell_type": "code",
   "execution_count": null,
   "metadata": {},
   "outputs": [],
   "source": [
    "#3D plot of the function to optimize\n",
    "x = np.linspace(-1,1, 1000)\n",
    "X, Y = np.meshgrid(x, x)\n",
    "\n",
    "fig = plt.figure()\n",
    "ax = fig.add_subplot(1,1,1, projection='3d')\n",
    "ax.plot_surface(X, Y, f(X,Y))"
   ]
  },
  {
   "cell_type": "code",
   "execution_count": null,
   "metadata": {
    "scrolled": false
   },
   "outputs": [],
   "source": [
    "#find common roots\n",
    "low = -np.ones(2)\n",
    "upp = np.ones(2)\n",
    "%time zeros = yr.solve([fx,fy],low,upp,plot=True, polish=True)"
   ]
  },
  {
   "cell_type": "code",
   "execution_count": null,
   "metadata": {},
   "outputs": [],
   "source": [
    "#how many zeros it found\n",
    "zeros.shape"
   ]
  },
  {
   "cell_type": "code",
   "execution_count": null,
   "metadata": {},
   "outputs": [],
   "source": [
    "#maximum residuals of common roots\n",
    "np.max(np.abs(fx(zeros[:,0],zeros[:,1]))),np.max(np.abs(fy(zeros[:,0],zeros[:,1])))"
   ]
  },
  {
   "cell_type": "code",
   "execution_count": null,
   "metadata": {},
   "outputs": [],
   "source": [
    "#evaluate at critical points\n",
    "values = f(zeros[:,0],zeros[:,1])\n",
    "#report mimima and minimizers\n",
    "mimimizer = np.argmin(values)\n",
    "values[mimimizer], zeros[mimimizer]"
   ]
  },
  {
   "cell_type": "markdown",
   "metadata": {},
   "source": [
    "YRoots can solve systems in higher dimensions as well. Moving forward, our goal is to increase rootfinding feasibility for high dimensional systems.\n",
    "\n",
    "Here are examples of YRoots running on systems in three and four variables."
   ]
  },
  {
   "cell_type": "markdown",
   "metadata": {},
   "source": [
    "### Three variables, Domain $[-1,1]\\times[-1,1]\\times[-1,1]$\n",
    "\n",
    "$$ f(x,y,z) = \\sin(5x+y+z)$$\n",
    "$$ g(x,y,z) = \\sin(xyz)$$\n",
    "$$ h(x,y,z) = x^2 + y^2 - z^2 - 1$$\n"
   ]
  },
  {
   "cell_type": "code",
   "execution_count": null,
   "metadata": {},
   "outputs": [],
   "source": [
    "#define the functions and the search domain\n",
    "f = lambda x,y,z : np.sin(5*x+y+z)\n",
    "g = lambda x,y,z : np.sin(x*y*z)\n",
    "h = lambda x,y,z : x**2+y**2-z**2-1\n",
    "a = -np.ones(3)\n",
    "b = np.ones(3)"
   ]
  },
  {
   "cell_type": "code",
   "execution_count": null,
   "metadata": {},
   "outputs": [],
   "source": [
    "#solve and time\n",
    "%time roots = yr.solve([f,g,h], a, b, polish=True)\n",
    "#show the number of roots and maximal residuals\n",
    "roots.shape[0],np.max(np.abs(f(*[roots[:,i] for i in range(3)]))),np.max(np.abs(g(*[roots[:,i] for i in range(3)]))),np.max(np.abs(h(*[roots[:,i] for i in range(3)])))"
   ]
  },
  {
   "cell_type": "markdown",
   "metadata": {},
   "source": [
    "The code below graphs these level surfaces and their common roots (code is from [here](https://stackoverflow.com/questions/4680525/plotting-implicit-equations-in-3d))."
   ]
  },
  {
   "cell_type": "code",
   "execution_count": null,
   "metadata": {
    "scrolled": false
   },
   "outputs": [],
   "source": [
    "#function for plotting level surfaces in 3D\n",
    "def plot_implicit(fn, color, bbox=(-1,1)):\n",
    "    ''' create a plot of an implicit function\n",
    "    fn  ...implicit function (plot where fn==0)\n",
    "    bbox ..the x,y,and z limits of plotted interval'''\n",
    "    xmin, xmax, ymin, ymax, zmin, zmax = bbox*3\n",
    "    A = np.linspace(xmin, xmax, 100) # resolution of the contour\n",
    "    B = np.linspace(xmin, xmax, 15) # number of slices\n",
    "    A1,A2 = np.meshgrid(A,A) # grid on which the contour is plotted\n",
    "\n",
    "    for z in B: # plot contours in the XY plane\n",
    "        X,Y = A1,A2\n",
    "        Z = fn(X,Y,z)\n",
    "        cset = ax.contour(X, Y, Z+z, [z], colors=color,alpha=.2,zdir='z')\n",
    "        # [z] defines the only level to plot for this contour for this value of z\n",
    "\n",
    "    for y in B: # plot contours in the XZ plane\n",
    "        X,Z = A1,A2\n",
    "        Y = fn(X,y,Z)\n",
    "        cset = ax.contour(X, Y+y, Z, [y], colors=color,alpha=.2,zdir='y')\n",
    "\n",
    "    for x in B: # plot contours in the YZ plane\n",
    "        Y,Z = A1,A2\n",
    "        X = fn(x,Y,Z)\n",
    "        cset = ax.contour(X+x, Y, Z, [x], colors=color,alpha=.2,zdir='x')\n",
    "\n",
    "    #set plot limits\n",
    "    ax.set_zlim3d(zmin,zmax)\n",
    "    ax.set_xlim3d(xmin,xmax)\n",
    "    ax.set_ylim3d(ymin,ymax)\n",
    "    \n",
    "#plot each level surface individually, then together\n",
    "\n",
    "#f\n",
    "fig = plt.figure(figsize=(10,20))\n",
    "ax = fig.add_subplot(631, projection='3d')\n",
    "ax.scatter(*[roots[:,i] for i in range(3)],color='g')\n",
    "plot_implicit(f,'r')\n",
    "ax.set_title('$f(x,y,z)=0$')\n",
    "\n",
    "#g\n",
    "ax = fig.add_subplot(632, projection='3d')\n",
    "ax.scatter(*[roots[:,i] for i in range(3)],color='g')\n",
    "plot_implicit(g,'b')\n",
    "ax.set_title('$g(x,y,z)=0$')\n",
    "\n",
    "#h\n",
    "ax = fig.add_subplot(633, projection='3d')\n",
    "ax.scatter(*[roots[:,i] for i in range(3)],color='g')\n",
    "plot_implicit(h,'k')\n",
    "ax.set_title('$h(x,y,z)=0$')\n",
    "\n",
    "#together\n",
    "ax = fig.add_subplot(634, projection='3d')\n",
    "ax.scatter(*[roots[:,i] for i in range(3)],color='g')\n",
    "plot_implicit(f,'r')\n",
    "plot_implicit(g,'b')\n",
    "plot_implicit(h,'k')\n",
    "ax.set_title('$f,g,h = 0$ and roots')\n",
    "\n",
    "#just the roots\n",
    "ax = fig.add_subplot(635, projection='3d')\n",
    "ax.scatter(*[roots[:,i] for i in range(3)],color='g')\n",
    "ax.set_title('roots')\n",
    "ax.set_zlim3d(-1,1)\n",
    "ax.set_xlim3d(-1,1)\n",
    "ax.set_ylim3d(-1,1)"
   ]
  },
  {
   "cell_type": "markdown",
   "metadata": {},
   "source": [
    "## Four Variable Optimization\n",
    "\n",
    "As a final multivariate example, we solve the following system.\n",
    "\n",
    "$$\\cos(x_1) + x_4 = 1$$\n",
    "$$\\cos(x_2) + x_3 = 2$$\n",
    "$$\\cos(x_3) + x_2 = 3$$\n",
    "$$\\cos(x_4) + x_1 = 4$$"
   ]
  },
  {
   "cell_type": "code",
   "execution_count": null,
   "metadata": {
    "scrolled": true
   },
   "outputs": [],
   "source": [
    "#functions\n",
    "f1 = lambda x1, x2, x3, x4: np.cos(x1) + x4 - 1\n",
    "f2 = lambda x1, x2, x3, x4: np.cos(x2) + x3 - 2\n",
    "f3 = lambda x1, x2, x3, x4: np.cos(x3) + x2 - 3\n",
    "f4 = lambda x1, x2, x3, x4: np.cos(x4) + x1 - 4\n",
    "\n",
    "#domain\n",
    "a = [4,3.5,2,1.5]\n",
    "b = [4.5,4,3,2]\n",
    "\n",
    "#solve and time\n",
    "%time roots = yr.solve([f1,f2,f3,f4],a,b,polish=True)\n",
    "\n",
    "#number of roots and maximum residual\n",
    "roots.shape[0],np.max([np.abs(f(*[roots[:,i] for i in range(4)])) for f in [f1,f2,f3,f4]])"
   ]
  },
  {
   "cell_type": "markdown",
   "metadata": {},
   "source": [
    "### Univariate Functions\n",
    "\n",
    "The `yr.solve` method can also be used to quickly find the roots of a univariate function. In this case, `a` and `b` can simply be entered as floats, and the `funcs` does not need to be a list.\n",
    "\n",
    "As an example, we find the zeros of $f(x) = \\sin(e^{3x})$ on $[-1,2]$."
   ]
  },
  {
   "cell_type": "code",
   "execution_count": 4,
   "metadata": {},
   "outputs": [
    {
     "name": "stdout",
     "output_type": "stream",
     "text": [
      "\r",
      "Percent Finished: 100%                                                  \n",
      "Total intervals checked was 13\n",
      "Methods used were ['constant_term_check', 'quadratic_check', 'Base Case', 'Spectral', 'Too Deep']\n",
      "The percent solved by each was [  0.   0.   0. 100.   0.]\n"
     ]
    },
    {
     "data": {
      "image/png": "[encoded data removed]",
      "text/plain": [
       "<Figure size 432x288 with 1 Axes>"
      ]
     },
     "metadata": {
      "needs_background": "light"
     },
     "output_type": "display_data"
    },
    {
     "name": "stdout",
     "output_type": "stream",
     "text": [
      "Wall time: 296 ms\n"
     ]
    },
    {
     "data": {
      "text/plain": [
       "(128, 1.2216448847489865e-12)"
      ]
     },
     "execution_count": 4,
     "metadata": {},
     "output_type": "execute_result"
    }
   ],
   "source": [
    "#define the function and search interval\n",
    "f = lambda x : np.sin(np.exp(3*x))\n",
    "\n",
    "a = -1\n",
    "b = 2\n",
    "\n",
    "#solve and time\n",
    "%time roots = yr.solve(f, a, b, 1e-12, 1e-12, 1e10, 0, 100, 1e-5, plot=True)\n",
    "#show the number of roots and maximal residuals\n",
    "roots.size,np.max(np.abs(f(roots)))"
   ]
  },
  {
   "cell_type": "markdown",
   "metadata": {},
   "source": [
    "## Polynomials\n",
    "\n",
    "When a function in a system is a polynomial, it may be useful to pass it in as a YRoots's `Polynomial` object. `Polynomial` objects may be more cumbersome to create, but they have a special `evaluate_grid` method which allows for faster Chebyshev-approximations.\n",
    "\n",
    "If the system only includes `Polynomial` objects, it may be preferable to use the alternative `yr.polysolve` method which does not rely on Chebyshev approximations. The gains in speed depend on the degree and dimension of the system. Heuristically, these methods are faster than `yr.solve` for lower degree polynomial systems, but **these methods are only stable for roots where each coordinate has absolute value $< 1$.**\n",
    "\n",
    "We demonstrate how to create `Polynomial` objects and how to use `yr.polysolve`."
   ]
  },
  {
   "cell_type": "markdown",
   "metadata": {},
   "source": [
    "### YRoot Polynomials\n",
    "\n",
    "The two types of `Polynomial` objects are `MultiPower` and `MultiCheb`, corresponding to multivariate polynomials in the power basis and Chebyshev basis respectively. \n",
    "Polynomials in $n$-dimensions are represented by an $n$-dimensional array of coefficients. For a system with three variables, the $(i,j,k)$ spot in the coefficient tensor corresponds to the coefficients of $x^iy^jz^k$ in the power basis or $T_i(x)T_j(y)T_k(z)$ in the Chebyshev basis. It is probably easiest to construct this coefficient tensor by initializing a tensor of zeros and then setting each nonzero coefficient to the correct value.\n",
    "\n",
    "For example, $f(x,y) = 5x^3 + 4 xy^2 + 3x^2 + 2y^2 + 1$ would be initialized as \n",
    "```python\n",
    "coeff = np.zeros((4,4)) #4x4 matrix because it's a degree 3 polynomial\n",
    "coeff[3,0] = 5\n",
    "coeff[1,2] = 4\n",
    "coeff[2,0] = 3\n",
    "coeff[0,2] = 2\n",
    "coeff[0,0] = 1\n",
    "f = yr.MultiPower(coeff)```\n",
    "                         \n",
    "and $g(x,y,z) = 3T_1(x)T_2(y) + 5 T_2(z) + 2$ would be initialized as\n",
    "\n",
    "```python\n",
    "coeff = np.zeros((4,4,4))\n",
    "coeff[1,2,0] = 3\n",
    "coeff[0,0,5] = 5\n",
    "coeff[0,0,0] = 2\n",
    "g = yr.MultiCheb(coeff)```"
   ]
  },
  {
   "cell_type": "markdown",
   "metadata": {},
   "source": [
    "### Polysolve\n",
    "\n",
    "The function `yr.polysolve` has many options for polynomial rootfinding, but the default parameters are the most robust for most systems. The syntax is\n",
    "\n",
    "```python\n",
    "yr.polysolve(polys)```\n",
    "\n",
    "where `polys` is a list of polynomial objects. All of the polynomials must be represented in the same basis. For systems that come from Chebyshev approximations, it may be better to add the optional parameter `MSmatrix=-1`.\n",
    "\n",
    "As mentioned above, Polysolve is **only stable for finding roots where each coordinate has absolute value $< 1$.** Other roots near this region may be accurate, but how far away you can go before loosing accuracy depends on the degrees of the polynomials. By default, the system returns all the roots. To return only the roots which are guaranteed to be computed stably, use the optional parameter `return_all_roots=False`.\n",
    "\n",
    "Additionally, while `yr.solve` only finds real roots, `yr.polysolve` finds complex roots as well. \n",
    "\n",
    "Below, we find the common roots of \n",
    "\n",
    "$$f(x,y) = y^2 + 3xy - 4x +1$$\n",
    "$$g(x,y) = -6xy -2x^2 + 6y +3.$$\n"
   ]
  },
  {
   "cell_type": "code",
   "execution_count": 3,
   "metadata": {},
   "outputs": [
    {
     "name": "stderr",
     "output_type": "stream",
     "text": [
      "D:\\Users\\Daniel\\Documents\\Work Research\\RootFinding\\yroots\\polynomial.py:18: NumbaWarning: \u001b[1m\n",
      "Compilation is falling back to object mode WITH looplifting enabled because Function \"polyval2\" failed type inference due to: \u001b[1m\u001b[1mInvalid use of Function(<built-in function mul>) with argument(s) of type(s): (tuple(int64 x 1), Literal[int](1))\n",
      "Known signatures:\n",
      " * (int64, int64) -> int64\n",
      " * (int64, uint64) -> int64\n",
      " * (uint64, int64) -> int64\n",
      " * (uint64, uint64) -> uint64\n",
      " * (float32, float32) -> float32\n",
      " * (float64, float64) -> float64\n",
      " * (complex64, complex64) -> complex64\n",
      " * (complex128, complex128) -> complex128\n",
      " * parameterized\n",
      "\u001b[1mIn definition 0:\u001b[0m\n",
      "\u001b[1m    All templates rejected with literals.\u001b[0m\n",
      "\u001b[1mIn definition 1:\u001b[0m\n",
      "\u001b[1m    All templates rejected without literals.\u001b[0m\n",
      "\u001b[1mIn definition 2:\u001b[0m\n",
      "\u001b[1m    All templates rejected with literals.\u001b[0m\n",
      "\u001b[1mIn definition 3:\u001b[0m\n",
      "\u001b[1m    All templates rejected without literals.\u001b[0m\n",
      "\u001b[1mIn definition 4:\u001b[0m\n",
      "\u001b[1m    All templates rejected with literals.\u001b[0m\n",
      "\u001b[1mIn definition 5:\u001b[0m\n",
      "\u001b[1m    All templates rejected without literals.\u001b[0m\n",
      "\u001b[1mIn definition 6:\u001b[0m\n",
      "\u001b[1m    All templates rejected with literals.\u001b[0m\n",
      "\u001b[1mIn definition 7:\u001b[0m\n",
      "\u001b[1m    All templates rejected without literals.\u001b[0m\n",
      "\u001b[1mIn definition 8:\u001b[0m\n",
      "\u001b[1m    All templates rejected with literals.\u001b[0m\n",
      "\u001b[1mIn definition 9:\u001b[0m\n",
      "\u001b[1m    All templates rejected without literals.\u001b[0m\n",
      "\u001b[1mIn definition 10:\u001b[0m\n",
      "\u001b[1m    All templates rejected with literals.\u001b[0m\n",
      "\u001b[1mIn definition 11:\u001b[0m\n",
      "\u001b[1m    All templates rejected without literals.\u001b[0m\n",
      "\u001b[1mThis error is usually caused by passing an argument of a type that is unsupported by the named function.\u001b[0m\u001b[0m\n",
      "\u001b[0m\u001b[1m[1] During: typing of intrinsic-call at D:\\Users\\Daniel\\Documents\\Work Research\\RootFinding\\yroots\\polynomial.py (20)\u001b[0m\n",
      "\u001b[1m\n",
      "File \"yroots\\polynomial.py\", line 20:\u001b[0m\n",
      "\u001b[1mdef polyval2(x, cc): #pragma: no cover\n",
      "\u001b[1m    cc = cc.reshape(cc.shape + (1,)*x.ndim)\n",
      "\u001b[0m    \u001b[1m^\u001b[0m\u001b[0m\n",
      "\u001b[0m\n",
      "  @jit(cache=True)\n",
      "D:\\Users\\Daniel\\Documents\\Work Research\\RootFinding\\yroots\\polynomial.py:18: NumbaWarning: \u001b[1m\n",
      "Compilation is falling back to object mode WITHOUT looplifting enabled because Function \"polyval2\" failed type inference due to: \u001b[1m\u001b[1mcannot determine Numba type of <class 'numba.dispatcher.LiftedLoop'>\u001b[0m\n",
      "\u001b[1m\n",
      "File \"yroots\\polynomial.py\", line 22:\u001b[0m\n",
      "\u001b[1mdef polyval2(x, cc): #pragma: no cover\n",
      "    <source elided>\n",
      "    c0 = cc[-1]\n",
      "\u001b[1m    for i in range(2, len(cc) + 1):\n",
      "\u001b[0m    \u001b[1m^\u001b[0m\u001b[0m\n",
      "\u001b[0m\u001b[0m\n",
      "  @jit(cache=True)\n",
      "D:\\Users\\Daniel\\Anaconda3\\lib\\site-packages\\numba\\object_mode_passes.py:178: NumbaWarning: \u001b[1mFunction \"polyval2\" was compiled in object mode without forceobj=True, but has lifted loops.\n",
      "\u001b[1m\n",
      "File \"yroots\\polynomial.py\", line 19:\u001b[0m\n",
      "\u001b[1m@jit(cache=True)\n",
      "\u001b[1mdef polyval2(x, cc): #pragma: no cover\n",
      "\u001b[0m\u001b[1m^\u001b[0m\u001b[0m\n",
      "\u001b[0m\n",
      "  state.func_ir.loc))\n",
      "D:\\Users\\Daniel\\Anaconda3\\lib\\site-packages\\numba\\object_mode_passes.py:187: NumbaDeprecationWarning: \u001b[1m\n",
      "Fall-back from the nopython compilation path to the object mode compilation path has been detected, this is deprecated behaviour.\n",
      "\n",
      "For more information visit http://numba.pydata.org/numba-doc/latest/reference/deprecation.html#deprecation-of-object-mode-fall-back-behaviour-when-using-jit\n",
      "\u001b[1m\n",
      "File \"yroots\\polynomial.py\", line 19:\u001b[0m\n",
      "\u001b[1m@jit(cache=True)\n",
      "\u001b[1mdef polyval2(x, cc): #pragma: no cover\n",
      "\u001b[0m\u001b[1m^\u001b[0m\u001b[0m\n",
      "\u001b[0m\n",
      "  warnings.warn(errors.NumbaDeprecationWarning(msg, state.func_ir.loc))\n",
      "D:\\Users\\Daniel\\Documents\\Work Research\\RootFinding\\yroots\\polynomial.py:18: NumbaWarning: \u001b[1mCannot cache compiled function \"polyval2\" as it uses lifted loops\u001b[0m\n",
      "  @jit(cache=True)\n",
      "D:\\Users\\Daniel\\Documents\\Work Research\\RootFinding\\yroots\\polynomial.py:18: NumbaWarning: \u001b[1m\n",
      "Compilation is falling back to object mode WITHOUT looplifting enabled because Function \"polyval2\" failed type inference due to: \u001b[1m\u001b[1mCannot unify array(int32, 2d, C) and array(complex128, 2d, C) for 'c0', defined at D:\\Users\\Daniel\\Documents\\Work Research\\RootFinding\\yroots\\polynomial.py (22)\n",
      "\u001b[1m\n",
      "File \"yroots\\polynomial.py\", line 22:\u001b[0m\n",
      "\u001b[1mdef polyval2(x, cc): #pragma: no cover\n",
      "    <source elided>\n",
      "    c0 = cc[-1]\n",
      "\u001b[1m    for i in range(2, len(cc) + 1):\n",
      "\u001b[0m    \u001b[1m^\u001b[0m\u001b[0m\n",
      "\u001b[0m\n",
      "\u001b[0m\u001b[1m[1] During: typing of assignment at D:\\Users\\Daniel\\Documents\\Work Research\\RootFinding\\yroots\\polynomial.py (23)\u001b[0m\n",
      "\u001b[1m\n",
      "File \"yroots\\polynomial.py\", line 23:\u001b[0m\n",
      "\u001b[1mdef polyval2(x, cc): #pragma: no cover\n",
      "    <source elided>\n",
      "    for i in range(2, len(cc) + 1):\n",
      "\u001b[1m        c0 = cc[-i] + c0*x\n",
      "\u001b[0m        \u001b[1m^\u001b[0m\u001b[0m\n",
      "\u001b[0m\n",
      "  @jit(cache=True)\n",
      "D:\\Users\\Daniel\\Anaconda3\\lib\\site-packages\\numba\\object_mode_passes.py:178: NumbaWarning: \u001b[1mFunction \"polyval2\" was compiled in object mode without forceobj=True.\n",
      "\u001b[1m\n",
      "File \"yroots\\polynomial.py\", line 22:\u001b[0m\n",
      "\u001b[1mdef polyval2(x, cc): #pragma: no cover\n",
      "    <source elided>\n",
      "    c0 = cc[-1]\n",
      "\u001b[1m    for i in range(2, len(cc) + 1):\n",
      "\u001b[0m    \u001b[1m^\u001b[0m\u001b[0m\n",
      "\u001b[0m\n",
      "  state.func_ir.loc))\n",
      "D:\\Users\\Daniel\\Anaconda3\\lib\\site-packages\\numba\\object_mode_passes.py:187: NumbaDeprecationWarning: \u001b[1m\n",
      "Fall-back from the nopython compilation path to the object mode compilation path has been detected, this is deprecated behaviour.\n",
      "\n",
      "For more information visit http://numba.pydata.org/numba-doc/latest/reference/deprecation.html#deprecation-of-object-mode-fall-back-behaviour-when-using-jit\n",
      "\u001b[1m\n",
      "File \"yroots\\polynomial.py\", line 22:\u001b[0m\n",
      "\u001b[1mdef polyval2(x, cc): #pragma: no cover\n",
      "    <source elided>\n",
      "    c0 = cc[-1]\n",
      "\u001b[1m    for i in range(2, len(cc) + 1):\n",
      "\u001b[0m    \u001b[1m^\u001b[0m\u001b[0m\n",
      "\u001b[0m\n",
      "  warnings.warn(errors.NumbaDeprecationWarning(msg, state.func_ir.loc))\n"
     ]
    },
    {
     "name": "stdout",
     "output_type": "stream",
     "text": [
      "Wall time: 1.33 s\n"
     ]
    },
    {
     "name": "stderr",
     "output_type": "stream",
     "text": [
      "D:\\Users\\Daniel\\Documents\\Work Research\\RootFinding\\yroots\\polynomial.py:18: NumbaWarning: \u001b[1m\n",
      "Compilation is falling back to object mode WITH looplifting enabled because Function \"polyval2\" failed type inference due to: \u001b[1m\u001b[1mInvalid use of Function(<built-in function mul>) with argument(s) of type(s): (tuple(int64 x 1), Literal[int](1))\n",
      "Known signatures:\n",
      " * (int64, int64) -> int64\n",
      " * (int64, uint64) -> int64\n",
      " * (uint64, int64) -> int64\n",
      " * (uint64, uint64) -> uint64\n",
      " * (float32, float32) -> float32\n",
      " * (float64, float64) -> float64\n",
      " * (complex64, complex64) -> complex64\n",
      " * (complex128, complex128) -> complex128\n",
      " * parameterized\n",
      "\u001b[1mIn definition 0:\u001b[0m\n",
      "\u001b[1m    All templates rejected with literals.\u001b[0m\n",
      "\u001b[1mIn definition 1:\u001b[0m\n",
      "\u001b[1m    All templates rejected without literals.\u001b[0m\n",
      "\u001b[1mIn definition 2:\u001b[0m\n",
      "\u001b[1m    All templates rejected with literals.\u001b[0m\n",
      "\u001b[1mIn definition 3:\u001b[0m\n",
      "\u001b[1m    All templates rejected without literals.\u001b[0m\n",
      "\u001b[1mIn definition 4:\u001b[0m\n",
      "\u001b[1m    All templates rejected with literals.\u001b[0m\n",
      "\u001b[1mIn definition 5:\u001b[0m\n",
      "\u001b[1m    All templates rejected without literals.\u001b[0m\n",
      "\u001b[1mIn definition 6:\u001b[0m\n",
      "\u001b[1m    All templates rejected with literals.\u001b[0m\n",
      "\u001b[1mIn definition 7:\u001b[0m\n",
      "\u001b[1m    All templates rejected without literals.\u001b[0m\n",
      "\u001b[1mIn definition 8:\u001b[0m\n",
      "\u001b[1m    All templates rejected with literals.\u001b[0m\n",
      "\u001b[1mIn definition 9:\u001b[0m\n",
      "\u001b[1m    All templates rejected without literals.\u001b[0m\n",
      "\u001b[1mIn definition 10:\u001b[0m\n",
      "\u001b[1m    All templates rejected with literals.\u001b[0m\n",
      "\u001b[1mIn definition 11:\u001b[0m\n",
      "\u001b[1m    All templates rejected without literals.\u001b[0m\n",
      "\u001b[1mThis error is usually caused by passing an argument of a type that is unsupported by the named function.\u001b[0m\u001b[0m\n",
      "\u001b[0m\u001b[1m[1] During: typing of intrinsic-call at D:\\Users\\Daniel\\Documents\\Work Research\\RootFinding\\yroots\\polynomial.py (20)\u001b[0m\n",
      "\u001b[1m\n",
      "File \"yroots\\polynomial.py\", line 20:\u001b[0m\n",
      "\u001b[1mdef polyval2(x, cc): #pragma: no cover\n",
      "\u001b[1m    cc = cc.reshape(cc.shape + (1,)*x.ndim)\n",
      "\u001b[0m    \u001b[1m^\u001b[0m\u001b[0m\n",
      "\u001b[0m\n",
      "  @jit(cache=True)\n",
      "D:\\Users\\Daniel\\Documents\\Work Research\\RootFinding\\yroots\\polynomial.py:18: NumbaWarning: \u001b[1m\n",
      "Compilation is falling back to object mode WITHOUT looplifting enabled because Function \"polyval2\" failed type inference due to: \u001b[1m\u001b[1mcannot determine Numba type of <class 'numba.dispatcher.LiftedLoop'>\u001b[0m\n",
      "\u001b[1m\n",
      "File \"yroots\\polynomial.py\", line 22:\u001b[0m\n",
      "\u001b[1mdef polyval2(x, cc): #pragma: no cover\n",
      "    <source elided>\n",
      "    c0 = cc[-1]\n",
      "\u001b[1m    for i in range(2, len(cc) + 1):\n",
      "\u001b[0m    \u001b[1m^\u001b[0m\u001b[0m\n",
      "\u001b[0m\u001b[0m\n",
      "  @jit(cache=True)\n",
      "D:\\Users\\Daniel\\Anaconda3\\lib\\site-packages\\numba\\object_mode_passes.py:178: NumbaWarning: \u001b[1mFunction \"polyval2\" was compiled in object mode without forceobj=True, but has lifted loops.\n",
      "\u001b[1m\n",
      "File \"yroots\\polynomial.py\", line 19:\u001b[0m\n",
      "\u001b[1m@jit(cache=True)\n",
      "\u001b[1mdef polyval2(x, cc): #pragma: no cover\n",
      "\u001b[0m\u001b[1m^\u001b[0m\u001b[0m\n",
      "\u001b[0m\n",
      "  state.func_ir.loc))\n",
      "D:\\Users\\Daniel\\Anaconda3\\lib\\site-packages\\numba\\object_mode_passes.py:187: NumbaDeprecationWarning: \u001b[1m\n",
      "Fall-back from the nopython compilation path to the object mode compilation path has been detected, this is deprecated behaviour.\n",
      "\n",
      "For more information visit http://numba.pydata.org/numba-doc/latest/reference/deprecation.html#deprecation-of-object-mode-fall-back-behaviour-when-using-jit\n",
      "\u001b[1m\n",
      "File \"yroots\\polynomial.py\", line 19:\u001b[0m\n",
      "\u001b[1m@jit(cache=True)\n",
      "\u001b[1mdef polyval2(x, cc): #pragma: no cover\n",
      "\u001b[0m\u001b[1m^\u001b[0m\u001b[0m\n",
      "\u001b[0m\n",
      "  warnings.warn(errors.NumbaDeprecationWarning(msg, state.func_ir.loc))\n",
      "D:\\Users\\Daniel\\Documents\\Work Research\\RootFinding\\yroots\\polynomial.py:18: NumbaWarning: \u001b[1mCannot cache compiled function \"polyval2\" as it uses lifted loops\u001b[0m\n",
      "  @jit(cache=True)\n",
      "D:\\Users\\Daniel\\Documents\\Work Research\\RootFinding\\yroots\\polynomial.py:18: NumbaWarning: \u001b[1m\n",
      "Compilation is falling back to object mode WITHOUT looplifting enabled because Function \"polyval2\" failed type inference due to: \u001b[1m\u001b[1mCannot unify array(int32, 2d, C) and array(complex128, 2d, C) for 'c0', defined at D:\\Users\\Daniel\\Documents\\Work Research\\RootFinding\\yroots\\polynomial.py (22)\n",
      "\u001b[1m\n",
      "File \"yroots\\polynomial.py\", line 22:\u001b[0m\n",
      "\u001b[1mdef polyval2(x, cc): #pragma: no cover\n",
      "    <source elided>\n",
      "    c0 = cc[-1]\n",
      "\u001b[1m    for i in range(2, len(cc) + 1):\n",
      "\u001b[0m    \u001b[1m^\u001b[0m\u001b[0m\n",
      "\u001b[0m\n",
      "\u001b[0m\u001b[1m[1] During: typing of assignment at D:\\Users\\Daniel\\Documents\\Work Research\\RootFinding\\yroots\\polynomial.py (23)\u001b[0m\n",
      "\u001b[1m\n",
      "File \"yroots\\polynomial.py\", line 23:\u001b[0m\n",
      "\u001b[1mdef polyval2(x, cc): #pragma: no cover\n",
      "    <source elided>\n",
      "    for i in range(2, len(cc) + 1):\n",
      "\u001b[1m        c0 = cc[-i] + c0*x\n",
      "\u001b[0m        \u001b[1m^\u001b[0m\u001b[0m\n",
      "\u001b[0m\n",
      "  @jit(cache=True)\n",
      "D:\\Users\\Daniel\\Anaconda3\\lib\\site-packages\\numba\\object_mode_passes.py:178: NumbaWarning: \u001b[1mFunction \"polyval2\" was compiled in object mode without forceobj=True.\n",
      "\u001b[1m\n",
      "File \"yroots\\polynomial.py\", line 22:\u001b[0m\n",
      "\u001b[1mdef polyval2(x, cc): #pragma: no cover\n",
      "    <source elided>\n",
      "    c0 = cc[-1]\n",
      "\u001b[1m    for i in range(2, len(cc) + 1):\n",
      "\u001b[0m    \u001b[1m^\u001b[0m\u001b[0m\n",
      "\u001b[0m\n",
      "  state.func_ir.loc))\n",
      "D:\\Users\\Daniel\\Anaconda3\\lib\\site-packages\\numba\\object_mode_passes.py:187: NumbaDeprecationWarning: \u001b[1m\n",
      "Fall-back from the nopython compilation path to the object mode compilation path has been detected, this is deprecated behaviour.\n",
      "\n",
      "For more information visit http://numba.pydata.org/numba-doc/latest/reference/deprecation.html#deprecation-of-object-mode-fall-back-behaviour-when-using-jit\n",
      "\u001b[1m\n",
      "File \"yroots\\polynomial.py\", line 22:\u001b[0m\n",
      "\u001b[1mdef polyval2(x, cc): #pragma: no cover\n",
      "    <source elided>\n",
      "    c0 = cc[-1]\n",
      "\u001b[1m    for i in range(2, len(cc) + 1):\n",
      "\u001b[0m    \u001b[1m^\u001b[0m\u001b[0m\n",
      "\u001b[0m\n",
      "  warnings.warn(errors.NumbaDeprecationWarning(msg, state.func_ir.loc))\n"
     ]
    },
    {
     "data": {
      "text/plain": [
       "(4, 8.881784197001252e-16, 1.0658141036401503e-14)"
      ]
     },
     "execution_count": 3,
     "metadata": {},
     "output_type": "execute_result"
    }
   ],
   "source": [
    "#direct construction of polynomials with coefficient tensors\n",
    "f = yr.MultiPower(np.array([[1, -4, 0],[0, 3, 0],[1, 0, 0]]))\n",
    "g = yr.MultiPower(np.array([[3, 0, -2],[6, -6, 0],[0, 0, 0]]))\n",
    "\n",
    "#solve and time\n",
    "%time roots = yr.polysolve([f,g], return_all_roots=True)\n",
    "#show the number of roots and maximal residuals\n",
    "roots.shape[0],np.max(np.abs(f(roots))),np.max(np.abs(g(roots)))"
   ]
  },
  {
   "cell_type": "code",
   "execution_count": 4,
   "metadata": {},
   "outputs": [
    {
     "name": "stderr",
     "output_type": "stream",
     "text": [
      "D:\\Users\\Daniel\\Documents\\Work Research\\RootFinding\\yroots\\polynomial.py:18: NumbaWarning: \u001b[1m\n",
      "Compilation is falling back to object mode WITH looplifting enabled because Function \"polyval2\" failed type inference due to: \u001b[1m\u001b[1mInvalid use of Function(<built-in function mul>) with argument(s) of type(s): (tuple(int64 x 1), Literal[int](2))\n",
      "Known signatures:\n",
      " * (int64, int64) -> int64\n",
      " * (int64, uint64) -> int64\n",
      " * (uint64, int64) -> int64\n",
      " * (uint64, uint64) -> uint64\n",
      " * (float32, float32) -> float32\n",
      " * (float64, float64) -> float64\n",
      " * (complex64, complex64) -> complex64\n",
      " * (complex128, complex128) -> complex128\n",
      " * parameterized\n",
      "\u001b[1mIn definition 0:\u001b[0m\n",
      "\u001b[1m    All templates rejected with literals.\u001b[0m\n",
      "\u001b[1mIn definition 1:\u001b[0m\n",
      "\u001b[1m    All templates rejected without literals.\u001b[0m\n",
      "\u001b[1mIn definition 2:\u001b[0m\n",
      "\u001b[1m    All templates rejected with literals.\u001b[0m\n",
      "\u001b[1mIn definition 3:\u001b[0m\n",
      "\u001b[1m    All templates rejected without literals.\u001b[0m\n",
      "\u001b[1mIn definition 4:\u001b[0m\n",
      "\u001b[1m    All templates rejected with literals.\u001b[0m\n",
      "\u001b[1mIn definition 5:\u001b[0m\n",
      "\u001b[1m    All templates rejected without literals.\u001b[0m\n",
      "\u001b[1mIn definition 6:\u001b[0m\n",
      "\u001b[1m    All templates rejected with literals.\u001b[0m\n",
      "\u001b[1mIn definition 7:\u001b[0m\n",
      "\u001b[1m    All templates rejected without literals.\u001b[0m\n",
      "\u001b[1mIn definition 8:\u001b[0m\n",
      "\u001b[1m    All templates rejected with literals.\u001b[0m\n",
      "\u001b[1mIn definition 9:\u001b[0m\n",
      "\u001b[1m    All templates rejected without literals.\u001b[0m\n",
      "\u001b[1mIn definition 10:\u001b[0m\n",
      "\u001b[1m    All templates rejected with literals.\u001b[0m\n",
      "\u001b[1mIn definition 11:\u001b[0m\n",
      "\u001b[1m    All templates rejected without literals.\u001b[0m\n",
      "\u001b[1mThis error is usually caused by passing an argument of a type that is unsupported by the named function.\u001b[0m\u001b[0m\n",
      "\u001b[0m\u001b[1m[1] During: typing of intrinsic-call at D:\\Users\\Daniel\\Documents\\Work Research\\RootFinding\\yroots\\polynomial.py (20)\u001b[0m\n",
      "\u001b[1m\n",
      "File \"yroots\\polynomial.py\", line 20:\u001b[0m\n",
      "\u001b[1mdef polyval2(x, cc): #pragma: no cover\n",
      "\u001b[1m    cc = cc.reshape(cc.shape + (1,)*x.ndim)\n",
      "\u001b[0m    \u001b[1m^\u001b[0m\u001b[0m\n",
      "\u001b[0m\n",
      "  @jit(cache=True)\n",
      "D:\\Users\\Daniel\\Documents\\Work Research\\RootFinding\\yroots\\polynomial.py:18: NumbaWarning: \u001b[1m\n",
      "Compilation is falling back to object mode WITHOUT looplifting enabled because Function \"polyval2\" failed type inference due to: \u001b[1m\u001b[1mcannot determine Numba type of <class 'numba.dispatcher.LiftedLoop'>\u001b[0m\n",
      "\u001b[1m\n",
      "File \"yroots\\polynomial.py\", line 22:\u001b[0m\n",
      "\u001b[1mdef polyval2(x, cc): #pragma: no cover\n",
      "    <source elided>\n",
      "    c0 = cc[-1]\n",
      "\u001b[1m    for i in range(2, len(cc) + 1):\n",
      "\u001b[0m    \u001b[1m^\u001b[0m\u001b[0m\n",
      "\u001b[0m\u001b[0m\n",
      "  @jit(cache=True)\n",
      "D:\\Users\\Daniel\\Anaconda3\\lib\\site-packages\\numba\\object_mode_passes.py:178: NumbaWarning: \u001b[1mFunction \"polyval2\" was compiled in object mode without forceobj=True, but has lifted loops.\n",
      "\u001b[1m\n",
      "File \"yroots\\polynomial.py\", line 19:\u001b[0m\n",
      "\u001b[1m@jit(cache=True)\n",
      "\u001b[1mdef polyval2(x, cc): #pragma: no cover\n",
      "\u001b[0m\u001b[1m^\u001b[0m\u001b[0m\n",
      "\u001b[0m\n",
      "  state.func_ir.loc))\n",
      "D:\\Users\\Daniel\\Anaconda3\\lib\\site-packages\\numba\\object_mode_passes.py:187: NumbaDeprecationWarning: \u001b[1m\n",
      "Fall-back from the nopython compilation path to the object mode compilation path has been detected, this is deprecated behaviour.\n",
      "\n",
      "For more information visit http://numba.pydata.org/numba-doc/latest/reference/deprecation.html#deprecation-of-object-mode-fall-back-behaviour-when-using-jit\n",
      "\u001b[1m\n",
      "File \"yroots\\polynomial.py\", line 19:\u001b[0m\n",
      "\u001b[1m@jit(cache=True)\n",
      "\u001b[1mdef polyval2(x, cc): #pragma: no cover\n",
      "\u001b[0m\u001b[1m^\u001b[0m\u001b[0m\n",
      "\u001b[0m\n",
      "  warnings.warn(errors.NumbaDeprecationWarning(msg, state.func_ir.loc))\n",
      "D:\\Users\\Daniel\\Documents\\Work Research\\RootFinding\\yroots\\polynomial.py:18: NumbaWarning: \u001b[1mCannot cache compiled function \"polyval2\" as it uses lifted loops\u001b[0m\n",
      "  @jit(cache=True)\n",
      "D:\\Users\\Daniel\\Documents\\Work Research\\RootFinding\\yroots\\polynomial.py:18: NumbaWarning: \u001b[1m\n",
      "Compilation is falling back to object mode WITHOUT looplifting enabled because Function \"polyval2\" failed type inference due to: \u001b[1m\u001b[1mCannot unify array(int32, 3d, C) and array(float64, 3d, C) for 'c0', defined at D:\\Users\\Daniel\\Documents\\Work Research\\RootFinding\\yroots\\polynomial.py (22)\n",
      "\u001b[1m\n",
      "File \"yroots\\polynomial.py\", line 22:\u001b[0m\n",
      "\u001b[1mdef polyval2(x, cc): #pragma: no cover\n",
      "    <source elided>\n",
      "    c0 = cc[-1]\n",
      "\u001b[1m    for i in range(2, len(cc) + 1):\n",
      "\u001b[0m    \u001b[1m^\u001b[0m\u001b[0m\n",
      "\u001b[0m\n",
      "\u001b[0m\u001b[1m[1] During: typing of assignment at D:\\Users\\Daniel\\Documents\\Work Research\\RootFinding\\yroots\\polynomial.py (23)\u001b[0m\n",
      "\u001b[1m\n",
      "File \"yroots\\polynomial.py\", line 23:\u001b[0m\n",
      "\u001b[1mdef polyval2(x, cc): #pragma: no cover\n",
      "    <source elided>\n",
      "    for i in range(2, len(cc) + 1):\n",
      "\u001b[1m        c0 = cc[-i] + c0*x\n",
      "\u001b[0m        \u001b[1m^\u001b[0m\u001b[0m\n",
      "\u001b[0m\n",
      "  @jit(cache=True)\n",
      "D:\\Users\\Daniel\\Anaconda3\\lib\\site-packages\\numba\\object_mode_passes.py:178: NumbaWarning: \u001b[1mFunction \"polyval2\" was compiled in object mode without forceobj=True.\n",
      "\u001b[1m\n",
      "File \"yroots\\polynomial.py\", line 22:\u001b[0m\n",
      "\u001b[1mdef polyval2(x, cc): #pragma: no cover\n",
      "    <source elided>\n",
      "    c0 = cc[-1]\n",
      "\u001b[1m    for i in range(2, len(cc) + 1):\n",
      "\u001b[0m    \u001b[1m^\u001b[0m\u001b[0m\n",
      "\u001b[0m\n",
      "  state.func_ir.loc))\n",
      "D:\\Users\\Daniel\\Anaconda3\\lib\\site-packages\\numba\\object_mode_passes.py:187: NumbaDeprecationWarning: \u001b[1m\n",
      "Fall-back from the nopython compilation path to the object mode compilation path has been detected, this is deprecated behaviour.\n",
      "\n",
      "For more information visit http://numba.pydata.org/numba-doc/latest/reference/deprecation.html#deprecation-of-object-mode-fall-back-behaviour-when-using-jit\n",
      "\u001b[1m\n",
      "File \"yroots\\polynomial.py\", line 22:\u001b[0m\n",
      "\u001b[1mdef polyval2(x, cc): #pragma: no cover\n",
      "    <source elided>\n",
      "    c0 = cc[-1]\n",
      "\u001b[1m    for i in range(2, len(cc) + 1):\n",
      "\u001b[0m    \u001b[1m^\u001b[0m\u001b[0m\n",
      "\u001b[0m\n",
      "  warnings.warn(errors.NumbaDeprecationWarning(msg, state.func_ir.loc))\n",
      "D:\\Users\\Daniel\\Anaconda3\\lib\\site-packages\\numpy\\core\\_asarray.py:85: ComplexWarning: Casting complex values to real discards the imaginary part\n",
      "  return array(a, dtype, copy=False, order=order)\n"
     ]
    },
    {
     "data": {
      "text/plain": [
       "[<matplotlib.lines.Line2D at 0x1a7f1bbb388>]"
      ]
     },
     "execution_count": 4,
     "metadata": {},
     "output_type": "execute_result"
    },
    {
     "data": {
      "image/png": "[encoded data removed]",
      "text/plain": [
       "<Figure size 432x288 with 1 Axes>"
      ]
     },
     "metadata": {
      "needs_background": "light"
     },
     "output_type": "display_data"
    }
   ],
   "source": [
    "#plot f,g and roots\n",
    "x = np.linspace(-5,5,1000)\n",
    "y = np.linspace(-10,10,1000)\n",
    "X,Y = np.meshgrid(x,y)\n",
    "plt.contour(X,Y,f(np.array(list(zip(X,Y)))),levels=[0],colors='#003cff')\n",
    "plt.contour(X,Y,g(np.array(list(zip(X,Y)))),levels=[0],colors='k')\n",
    "plt.plot(roots[:,0],roots[:,1],'o',color='none',markeredgecolor='r',markersize=10)"
   ]
  },
  {
   "cell_type": "markdown",
   "metadata": {},
   "source": [
    "In this case, the polynomias are of low degree, so even the roots outside the interval $[-1,1]\\times[-1,1]$ are accurate.\n",
    "\n",
    "We now find the common roots of the randomly generated polynomials higher degree polynomials A and B. In the first case, we return all the complex roots Polyroots found, and in the second we only return roots in the unit box."
   ]
  },
  {
   "cell_type": "code",
   "execution_count": 5,
   "metadata": {},
   "outputs": [],
   "source": [
    "#get three random 2D polynomials of a certain degree in the power basis\n",
    "degree = 20\n",
    "np.random.seed(23)\n",
    "A = yr.MultiPower(np.random.rand(degree,degree))\n",
    "B = yr.MultiPower(np.random.rand(degree,degree))\n",
    "\n",
    "#A and B will have roots at infinity (which yr.polysolve cannot yet handle) \n",
    "# unless their coefficient matrices are upper left triangular\n",
    "A = yr.MultiPower(np.fliplr(np.triu(np.fliplr(A.coeff))))\n",
    "B = yr.MultiPower(np.fliplr(np.triu(np.fliplr(B.coeff))))"
   ]
  },
  {
   "cell_type": "code",
   "execution_count": 6,
   "metadata": {
    "scrolled": true
   },
   "outputs": [
    {
     "name": "stderr",
     "output_type": "stream",
     "text": [
      "D:\\Users\\Daniel\\Documents\\Work Research\\RootFinding\\yroots\\polynomial.py:18: NumbaWarning: \u001b[1m\n",
      "Compilation is falling back to object mode WITH looplifting enabled because Function \"polyval2\" failed type inference due to: \u001b[1m\u001b[1mInvalid use of Function(<built-in function mul>) with argument(s) of type(s): (tuple(int64 x 1), Literal[int](1))\n",
      "Known signatures:\n",
      " * (int64, int64) -> int64\n",
      " * (int64, uint64) -> int64\n",
      " * (uint64, int64) -> int64\n",
      " * (uint64, uint64) -> uint64\n",
      " * (float32, float32) -> float32\n",
      " * (float64, float64) -> float64\n",
      " * (complex64, complex64) -> complex64\n",
      " * (complex128, complex128) -> complex128\n",
      " * parameterized\n",
      "\u001b[1mIn definition 0:\u001b[0m\n",
      "\u001b[1m    All templates rejected with literals.\u001b[0m\n",
      "\u001b[1mIn definition 1:\u001b[0m\n",
      "\u001b[1m    All templates rejected without literals.\u001b[0m\n",
      "\u001b[1mIn definition 2:\u001b[0m\n",
      "\u001b[1m    All templates rejected with literals.\u001b[0m\n",
      "\u001b[1mIn definition 3:\u001b[0m\n",
      "\u001b[1m    All templates rejected without literals.\u001b[0m\n",
      "\u001b[1mIn definition 4:\u001b[0m\n",
      "\u001b[1m    All templates rejected with literals.\u001b[0m\n",
      "\u001b[1mIn definition 5:\u001b[0m\n",
      "\u001b[1m    All templates rejected without literals.\u001b[0m\n",
      "\u001b[1mIn definition 6:\u001b[0m\n",
      "\u001b[1m    All templates rejected with literals.\u001b[0m\n",
      "\u001b[1mIn definition 7:\u001b[0m\n",
      "\u001b[1m    All templates rejected without literals.\u001b[0m\n",
      "\u001b[1mIn definition 8:\u001b[0m\n",
      "\u001b[1m    All templates rejected with literals.\u001b[0m\n",
      "\u001b[1mIn definition 9:\u001b[0m\n",
      "\u001b[1m    All templates rejected without literals.\u001b[0m\n",
      "\u001b[1mIn definition 10:\u001b[0m\n",
      "\u001b[1m    All templates rejected with literals.\u001b[0m\n",
      "\u001b[1mIn definition 11:\u001b[0m\n",
      "\u001b[1m    All templates rejected without literals.\u001b[0m\n",
      "\u001b[1mThis error is usually caused by passing an argument of a type that is unsupported by the named function.\u001b[0m\u001b[0m\n",
      "\u001b[0m\u001b[1m[1] During: typing of intrinsic-call at D:\\Users\\Daniel\\Documents\\Work Research\\RootFinding\\yroots\\polynomial.py (20)\u001b[0m\n",
      "\u001b[1m\n",
      "File \"yroots\\polynomial.py\", line 20:\u001b[0m\n",
      "\u001b[1mdef polyval2(x, cc): #pragma: no cover\n",
      "\u001b[1m    cc = cc.reshape(cc.shape + (1,)*x.ndim)\n",
      "\u001b[0m    \u001b[1m^\u001b[0m\u001b[0m\n",
      "\u001b[0m\n",
      "  @jit(cache=True)\n",
      "D:\\Users\\Daniel\\Documents\\Work Research\\RootFinding\\yroots\\polynomial.py:18: NumbaWarning: \u001b[1m\n",
      "Compilation is falling back to object mode WITHOUT looplifting enabled because Function \"polyval2\" failed type inference due to: \u001b[1m\u001b[1mcannot determine Numba type of <class 'numba.dispatcher.LiftedLoop'>\u001b[0m\n",
      "\u001b[1m\n",
      "File \"yroots\\polynomial.py\", line 22:\u001b[0m\n",
      "\u001b[1mdef polyval2(x, cc): #pragma: no cover\n",
      "    <source elided>\n",
      "    c0 = cc[-1]\n",
      "\u001b[1m    for i in range(2, len(cc) + 1):\n",
      "\u001b[0m    \u001b[1m^\u001b[0m\u001b[0m\n",
      "\u001b[0m\u001b[0m\n",
      "  @jit(cache=True)\n",
      "D:\\Users\\Daniel\\Anaconda3\\lib\\site-packages\\numba\\object_mode_passes.py:178: NumbaWarning: \u001b[1mFunction \"polyval2\" was compiled in object mode without forceobj=True, but has lifted loops.\n",
      "\u001b[1m\n",
      "File \"yroots\\polynomial.py\", line 19:\u001b[0m\n",
      "\u001b[1m@jit(cache=True)\n",
      "\u001b[1mdef polyval2(x, cc): #pragma: no cover\n",
      "\u001b[0m\u001b[1m^\u001b[0m\u001b[0m\n",
      "\u001b[0m\n",
      "  state.func_ir.loc))\n",
      "D:\\Users\\Daniel\\Anaconda3\\lib\\site-packages\\numba\\object_mode_passes.py:187: NumbaDeprecationWarning: \u001b[1m\n",
      "Fall-back from the nopython compilation path to the object mode compilation path has been detected, this is deprecated behaviour.\n",
      "\n",
      "For more information visit http://numba.pydata.org/numba-doc/latest/reference/deprecation.html#deprecation-of-object-mode-fall-back-behaviour-when-using-jit\n",
      "\u001b[1m\n",
      "File \"yroots\\polynomial.py\", line 19:\u001b[0m\n",
      "\u001b[1m@jit(cache=True)\n",
      "\u001b[1mdef polyval2(x, cc): #pragma: no cover\n",
      "\u001b[0m\u001b[1m^\u001b[0m\u001b[0m\n",
      "\u001b[0m\n",
      "  warnings.warn(errors.NumbaDeprecationWarning(msg, state.func_ir.loc))\n",
      "D:\\Users\\Daniel\\Documents\\Work Research\\RootFinding\\yroots\\polynomial.py:18: NumbaWarning: \u001b[1mCannot cache compiled function \"polyval2\" as it uses lifted loops\u001b[0m\n",
      "  @jit(cache=True)\n",
      "D:\\Users\\Daniel\\Documents\\Work Research\\RootFinding\\yroots\\polynomial.py:18: NumbaWarning: \u001b[1m\n",
      "Compilation is falling back to object mode WITHOUT looplifting enabled because Function \"polyval2\" failed type inference due to: \u001b[1m\u001b[1mCannot unify array(float64, 2d, A) and array(complex128, 2d, C) for 'c0', defined at D:\\Users\\Daniel\\Documents\\Work Research\\RootFinding\\yroots\\polynomial.py (22)\n",
      "\u001b[1m\n",
      "File \"yroots\\polynomial.py\", line 22:\u001b[0m\n",
      "\u001b[1mdef polyval2(x, cc): #pragma: no cover\n",
      "    <source elided>\n",
      "    c0 = cc[-1]\n",
      "\u001b[1m    for i in range(2, len(cc) + 1):\n",
      "\u001b[0m    \u001b[1m^\u001b[0m\u001b[0m\n",
      "\u001b[0m\n",
      "\u001b[0m\u001b[1m[1] During: typing of assignment at D:\\Users\\Daniel\\Documents\\Work Research\\RootFinding\\yroots\\polynomial.py (23)\u001b[0m\n",
      "\u001b[1m\n",
      "File \"yroots\\polynomial.py\", line 23:\u001b[0m\n",
      "\u001b[1mdef polyval2(x, cc): #pragma: no cover\n",
      "    <source elided>\n",
      "    for i in range(2, len(cc) + 1):\n",
      "\u001b[1m        c0 = cc[-i] + c0*x\n",
      "\u001b[0m        \u001b[1m^\u001b[0m\u001b[0m\n",
      "\u001b[0m\n",
      "  @jit(cache=True)\n",
      "D:\\Users\\Daniel\\Anaconda3\\lib\\site-packages\\numba\\object_mode_passes.py:178: NumbaWarning: \u001b[1mFunction \"polyval2\" was compiled in object mode without forceobj=True.\n",
      "\u001b[1m\n",
      "File \"yroots\\polynomial.py\", line 22:\u001b[0m\n",
      "\u001b[1mdef polyval2(x, cc): #pragma: no cover\n",
      "    <source elided>\n",
      "    c0 = cc[-1]\n",
      "\u001b[1m    for i in range(2, len(cc) + 1):\n",
      "\u001b[0m    \u001b[1m^\u001b[0m\u001b[0m\n",
      "\u001b[0m\n",
      "  state.func_ir.loc))\n",
      "D:\\Users\\Daniel\\Anaconda3\\lib\\site-packages\\numba\\object_mode_passes.py:187: NumbaDeprecationWarning: \u001b[1m\n",
      "Fall-back from the nopython compilation path to the object mode compilation path has been detected, this is deprecated behaviour.\n",
      "\n",
      "For more information visit http://numba.pydata.org/numba-doc/latest/reference/deprecation.html#deprecation-of-object-mode-fall-back-behaviour-when-using-jit\n",
      "\u001b[1m\n",
      "File \"yroots\\polynomial.py\", line 22:\u001b[0m\n",
      "\u001b[1mdef polyval2(x, cc): #pragma: no cover\n",
      "    <source elided>\n",
      "    c0 = cc[-1]\n",
      "\u001b[1m    for i in range(2, len(cc) + 1):\n",
      "\u001b[0m    \u001b[1m^\u001b[0m\u001b[0m\n",
      "\u001b[0m\n",
      "  warnings.warn(errors.NumbaDeprecationWarning(msg, state.func_ir.loc))\n"
     ]
    },
    {
     "name": "stdout",
     "output_type": "stream",
     "text": [
      "Wall time: 35 s\n"
     ]
    },
    {
     "name": "stderr",
     "output_type": "stream",
     "text": [
      "D:\\Users\\Daniel\\Documents\\Work Research\\RootFinding\\yroots\\polynomial.py:18: NumbaWarning: \u001b[1m\n",
      "Compilation is falling back to object mode WITH looplifting enabled because Function \"polyval2\" failed type inference due to: \u001b[1m\u001b[1mInvalid use of Function(<built-in function mul>) with argument(s) of type(s): (tuple(int64 x 1), Literal[int](1))\n",
      "Known signatures:\n",
      " * (int64, int64) -> int64\n",
      " * (int64, uint64) -> int64\n",
      " * (uint64, int64) -> int64\n",
      " * (uint64, uint64) -> uint64\n",
      " * (float32, float32) -> float32\n",
      " * (float64, float64) -> float64\n",
      " * (complex64, complex64) -> complex64\n",
      " * (complex128, complex128) -> complex128\n",
      " * parameterized\n",
      "\u001b[1mIn definition 0:\u001b[0m\n",
      "\u001b[1m    All templates rejected with literals.\u001b[0m\n",
      "\u001b[1mIn definition 1:\u001b[0m\n",
      "\u001b[1m    All templates rejected without literals.\u001b[0m\n",
      "\u001b[1mIn definition 2:\u001b[0m\n",
      "\u001b[1m    All templates rejected with literals.\u001b[0m\n",
      "\u001b[1mIn definition 3:\u001b[0m\n",
      "\u001b[1m    All templates rejected without literals.\u001b[0m\n",
      "\u001b[1mIn definition 4:\u001b[0m\n",
      "\u001b[1m    All templates rejected with literals.\u001b[0m\n",
      "\u001b[1mIn definition 5:\u001b[0m\n",
      "\u001b[1m    All templates rejected without literals.\u001b[0m\n",
      "\u001b[1mIn definition 6:\u001b[0m\n",
      "\u001b[1m    All templates rejected with literals.\u001b[0m\n",
      "\u001b[1mIn definition 7:\u001b[0m\n",
      "\u001b[1m    All templates rejected without literals.\u001b[0m\n",
      "\u001b[1mIn definition 8:\u001b[0m\n",
      "\u001b[1m    All templates rejected with literals.\u001b[0m\n",
      "\u001b[1mIn definition 9:\u001b[0m\n",
      "\u001b[1m    All templates rejected without literals.\u001b[0m\n",
      "\u001b[1mIn definition 10:\u001b[0m\n",
      "\u001b[1m    All templates rejected with literals.\u001b[0m\n",
      "\u001b[1mIn definition 11:\u001b[0m\n",
      "\u001b[1m    All templates rejected without literals.\u001b[0m\n",
      "\u001b[1mThis error is usually caused by passing an argument of a type that is unsupported by the named function.\u001b[0m\u001b[0m\n",
      "\u001b[0m\u001b[1m[1] During: typing of intrinsic-call at D:\\Users\\Daniel\\Documents\\Work Research\\RootFinding\\yroots\\polynomial.py (20)\u001b[0m\n",
      "\u001b[1m\n",
      "File \"yroots\\polynomial.py\", line 20:\u001b[0m\n",
      "\u001b[1mdef polyval2(x, cc): #pragma: no cover\n",
      "\u001b[1m    cc = cc.reshape(cc.shape + (1,)*x.ndim)\n",
      "\u001b[0m    \u001b[1m^\u001b[0m\u001b[0m\n",
      "\u001b[0m\n",
      "  @jit(cache=True)\n",
      "D:\\Users\\Daniel\\Documents\\Work Research\\RootFinding\\yroots\\polynomial.py:18: NumbaWarning: \u001b[1m\n",
      "Compilation is falling back to object mode WITHOUT looplifting enabled because Function \"polyval2\" failed type inference due to: \u001b[1m\u001b[1mcannot determine Numba type of <class 'numba.dispatcher.LiftedLoop'>\u001b[0m\n",
      "\u001b[1m\n",
      "File \"yroots\\polynomial.py\", line 22:\u001b[0m\n",
      "\u001b[1mdef polyval2(x, cc): #pragma: no cover\n",
      "    <source elided>\n",
      "    c0 = cc[-1]\n",
      "\u001b[1m    for i in range(2, len(cc) + 1):\n",
      "\u001b[0m    \u001b[1m^\u001b[0m\u001b[0m\n",
      "\u001b[0m\u001b[0m\n",
      "  @jit(cache=True)\n",
      "D:\\Users\\Daniel\\Anaconda3\\lib\\site-packages\\numba\\object_mode_passes.py:178: NumbaWarning: \u001b[1mFunction \"polyval2\" was compiled in object mode without forceobj=True, but has lifted loops.\n",
      "\u001b[1m\n",
      "File \"yroots\\polynomial.py\", line 19:\u001b[0m\n",
      "\u001b[1m@jit(cache=True)\n",
      "\u001b[1mdef polyval2(x, cc): #pragma: no cover\n",
      "\u001b[0m\u001b[1m^\u001b[0m\u001b[0m\n",
      "\u001b[0m\n",
      "  state.func_ir.loc))\n",
      "D:\\Users\\Daniel\\Anaconda3\\lib\\site-packages\\numba\\object_mode_passes.py:187: NumbaDeprecationWarning: \u001b[1m\n",
      "Fall-back from the nopython compilation path to the object mode compilation path has been detected, this is deprecated behaviour.\n",
      "\n",
      "For more information visit http://numba.pydata.org/numba-doc/latest/reference/deprecation.html#deprecation-of-object-mode-fall-back-behaviour-when-using-jit\n",
      "\u001b[1m\n",
      "File \"yroots\\polynomial.py\", line 19:\u001b[0m\n",
      "\u001b[1m@jit(cache=True)\n",
      "\u001b[1mdef polyval2(x, cc): #pragma: no cover\n",
      "\u001b[0m\u001b[1m^\u001b[0m\u001b[0m\n",
      "\u001b[0m\n",
      "  warnings.warn(errors.NumbaDeprecationWarning(msg, state.func_ir.loc))\n",
      "D:\\Users\\Daniel\\Documents\\Work Research\\RootFinding\\yroots\\polynomial.py:18: NumbaWarning: \u001b[1mCannot cache compiled function \"polyval2\" as it uses lifted loops\u001b[0m\n",
      "  @jit(cache=True)\n",
      "D:\\Users\\Daniel\\Documents\\Work Research\\RootFinding\\yroots\\polynomial.py:18: NumbaWarning: \u001b[1m\n",
      "Compilation is falling back to object mode WITHOUT looplifting enabled because Function \"polyval2\" failed type inference due to: \u001b[1m\u001b[1mCannot unify array(float64, 2d, A) and array(complex128, 2d, C) for 'c0', defined at D:\\Users\\Daniel\\Documents\\Work Research\\RootFinding\\yroots\\polynomial.py (22)\n",
      "\u001b[1m\n",
      "File \"yroots\\polynomial.py\", line 22:\u001b[0m\n",
      "\u001b[1mdef polyval2(x, cc): #pragma: no cover\n",
      "    <source elided>\n",
      "    c0 = cc[-1]\n",
      "\u001b[1m    for i in range(2, len(cc) + 1):\n",
      "\u001b[0m    \u001b[1m^\u001b[0m\u001b[0m\n",
      "\u001b[0m\n",
      "\u001b[0m\u001b[1m[1] During: typing of assignment at D:\\Users\\Daniel\\Documents\\Work Research\\RootFinding\\yroots\\polynomial.py (23)\u001b[0m\n",
      "\u001b[1m\n",
      "File \"yroots\\polynomial.py\", line 23:\u001b[0m\n",
      "\u001b[1mdef polyval2(x, cc): #pragma: no cover\n",
      "    <source elided>\n",
      "    for i in range(2, len(cc) + 1):\n",
      "\u001b[1m        c0 = cc[-i] + c0*x\n",
      "\u001b[0m        \u001b[1m^\u001b[0m\u001b[0m\n",
      "\u001b[0m\n",
      "  @jit(cache=True)\n",
      "D:\\Users\\Daniel\\Anaconda3\\lib\\site-packages\\numba\\object_mode_passes.py:178: NumbaWarning: \u001b[1mFunction \"polyval2\" was compiled in object mode without forceobj=True.\n",
      "\u001b[1m\n",
      "File \"yroots\\polynomial.py\", line 22:\u001b[0m\n",
      "\u001b[1mdef polyval2(x, cc): #pragma: no cover\n",
      "    <source elided>\n",
      "    c0 = cc[-1]\n",
      "\u001b[1m    for i in range(2, len(cc) + 1):\n",
      "\u001b[0m    \u001b[1m^\u001b[0m\u001b[0m\n",
      "\u001b[0m\n",
      "  state.func_ir.loc))\n",
      "D:\\Users\\Daniel\\Anaconda3\\lib\\site-packages\\numba\\object_mode_passes.py:187: NumbaDeprecationWarning: \u001b[1m\n",
      "Fall-back from the nopython compilation path to the object mode compilation path has been detected, this is deprecated behaviour.\n",
      "\n",
      "For more information visit http://numba.pydata.org/numba-doc/latest/reference/deprecation.html#deprecation-of-object-mode-fall-back-behaviour-when-using-jit\n",
      "\u001b[1m\n",
      "File \"yroots\\polynomial.py\", line 22:\u001b[0m\n",
      "\u001b[1mdef polyval2(x, cc): #pragma: no cover\n",
      "    <source elided>\n",
      "    c0 = cc[-1]\n",
      "\u001b[1m    for i in range(2, len(cc) + 1):\n",
      "\u001b[0m    \u001b[1m^\u001b[0m\u001b[0m\n",
      "\u001b[0m\n",
      "  warnings.warn(errors.NumbaDeprecationWarning(msg, state.func_ir.loc))\n"
     ]
    },
    {
     "data": {
      "text/plain": [
       "(361,\n",
       " (4157.4144769272125+3576.533347848937j),\n",
       " (1.4194783432639069+0.8052419000101696j))"
      ]
     },
     "execution_count": 6,
     "metadata": {},
     "output_type": "execute_result"
    }
   ],
   "source": [
    "#All roots\n",
    "#solve and time\n",
    "%time roots = yr.polysolve([A,B], return_all_roots=True)\n",
    "#show the number of roots and maximal residuals\n",
    "roots.shape[0],np.max(A(roots)),np.max(B(roots))"
   ]
  },
  {
   "cell_type": "code",
   "execution_count": 8,
   "metadata": {},
   "outputs": [
    {
     "ename": "IndexError",
     "evalue": "boolean index did not match indexed array along dimension 0; dimension is 361 but corresponding boolean dimension is 2",
     "output_type": "error",
     "traceback": [
      "\u001b[1;31m---------------------------------------------------------------------------\u001b[0m",
      "\u001b[1;31mIndexError\u001b[0m                                Traceback (most recent call last)",
      "\u001b[1;32m<timed exec>\u001b[0m in \u001b[0;36m<module>\u001b[1;34m\u001b[0m\n",
      "\u001b[1;32mD:\\Users\\Daniel\\Documents\\Work Research\\RootFinding\\yroots\\polyroots.py\u001b[0m in \u001b[0;36msolve\u001b[1;34m(polys, MSmatrix, eigvals, verbose, return_all_roots, max_cond_num, macaulay_zero_tol)\u001b[0m\n\u001b[0;32m     69\u001b[0m             \u001b[1;32mreturn\u001b[0m \u001b[0mdivision\u001b[0m\u001b[1;33m(\u001b[0m\u001b[0mpolys\u001b[0m\u001b[1;33m,\u001b[0m \u001b[0mverbose\u001b[0m\u001b[1;33m=\u001b[0m\u001b[0mverbose\u001b[0m\u001b[1;33m,\u001b[0m \u001b[0mdivisor_var\u001b[0m\u001b[1;33m=\u001b[0m\u001b[1;33m-\u001b[0m\u001b[0mMSmatrix\u001b[0m\u001b[1;33m-\u001b[0m\u001b[1;36m1\u001b[0m\u001b[1;33m,\u001b[0m \u001b[0mreturn_all_roots\u001b[0m\u001b[1;33m=\u001b[0m\u001b[0mreturn_all_roots\u001b[0m\u001b[1;33m,\u001b[0m \u001b[0mmax_cond_num\u001b[0m\u001b[1;33m=\u001b[0m\u001b[0mmax_cond_num\u001b[0m\u001b[1;33m,\u001b[0m \u001b[0mmacaulay_zero_tol\u001b[0m\u001b[1;33m=\u001b[0m\u001b[0mmacaulay_zero_tol\u001b[0m\u001b[1;33m)\u001b[0m\u001b[1;33m\u001b[0m\u001b[1;33m\u001b[0m\u001b[0m\n\u001b[0;32m     70\u001b[0m         \u001b[1;32melse\u001b[0m\u001b[1;33m:\u001b[0m\u001b[1;33m\u001b[0m\u001b[1;33m\u001b[0m\u001b[0m\n\u001b[1;32m---> 71\u001b[1;33m             \u001b[1;32mreturn\u001b[0m \u001b[0mmultiplication\u001b[0m\u001b[1;33m(\u001b[0m\u001b[0mpolys\u001b[0m\u001b[1;33m,\u001b[0m \u001b[0mverbose\u001b[0m\u001b[1;33m=\u001b[0m\u001b[0mverbose\u001b[0m\u001b[1;33m,\u001b[0m \u001b[0mMSmatrix\u001b[0m\u001b[1;33m=\u001b[0m\u001b[0mMSmatrix\u001b[0m\u001b[1;33m,\u001b[0m \u001b[0mreturn_all_roots\u001b[0m\u001b[1;33m=\u001b[0m\u001b[0mreturn_all_roots\u001b[0m\u001b[1;33m,\u001b[0m \u001b[0mmax_cond_num\u001b[0m\u001b[1;33m=\u001b[0m\u001b[0mmax_cond_num\u001b[0m\u001b[1;33m,\u001b[0m \u001b[0mmacaulay_zero_tol\u001b[0m\u001b[1;33m=\u001b[0m\u001b[0mmacaulay_zero_tol\u001b[0m\u001b[1;33m)\u001b[0m\u001b[1;33m\u001b[0m\u001b[1;33m\u001b[0m\u001b[0m\n\u001b[0m",
      "\u001b[1;32mD:\\Users\\Daniel\\Documents\\Work Research\\RootFinding\\yroots\\Multiplication.py\u001b[0m in \u001b[0;36mmultiplication\u001b[1;34m(polys, max_cond_num, macaulay_zero_tol, verbose, MSmatrix, return_all_roots)\u001b[0m\n\u001b[0;32m    117\u001b[0m     \u001b[1;32melse\u001b[0m\u001b[1;33m:\u001b[0m\u001b[1;33m\u001b[0m\u001b[1;33m\u001b[0m\u001b[0m\n\u001b[0;32m    118\u001b[0m         \u001b[1;31m# only return roots in the unit complex hyperbox\u001b[0m\u001b[1;33m\u001b[0m\u001b[1;33m\u001b[0m\u001b[1;33m\u001b[0m\u001b[0m\n\u001b[1;32m--> 119\u001b[1;33m         \u001b[1;32mreturn\u001b[0m \u001b[0mroots\u001b[0m\u001b[1;33m[\u001b[0m\u001b[0mnp\u001b[0m\u001b[1;33m.\u001b[0m\u001b[0mall\u001b[0m\u001b[1;33m(\u001b[0m\u001b[0mnp\u001b[0m\u001b[1;33m.\u001b[0m\u001b[0mabs\u001b[0m\u001b[1;33m(\u001b[0m\u001b[0mroots\u001b[0m\u001b[1;33m)\u001b[0m \u001b[1;33m<=\u001b[0m \u001b[1;36m1\u001b[0m\u001b[1;33m,\u001b[0m\u001b[0maxis\u001b[0m \u001b[1;33m=\u001b[0m \u001b[1;36m0\u001b[0m\u001b[1;33m)\u001b[0m\u001b[1;33m]\u001b[0m\u001b[1;33m\u001b[0m\u001b[1;33m\u001b[0m\u001b[0m\n\u001b[0m\u001b[0;32m    120\u001b[0m \u001b[1;33m\u001b[0m\u001b[0m\n\u001b[0;32m    121\u001b[0m \u001b[1;32mdef\u001b[0m \u001b[0mMSMultMatrix\u001b[0m\u001b[1;33m(\u001b[0m\u001b[0mpolys\u001b[0m\u001b[1;33m,\u001b[0m \u001b[0mpoly_type\u001b[0m\u001b[1;33m,\u001b[0m \u001b[0mmax_cond_num\u001b[0m\u001b[1;33m,\u001b[0m \u001b[0mmacaulay_zero_tol\u001b[0m\u001b[1;33m,\u001b[0m \u001b[0mverbose\u001b[0m\u001b[1;33m=\u001b[0m\u001b[1;32mFalse\u001b[0m\u001b[1;33m,\u001b[0m \u001b[0mMSmatrix\u001b[0m\u001b[1;33m=\u001b[0m\u001b[1;36m0\u001b[0m\u001b[1;33m)\u001b[0m\u001b[1;33m:\u001b[0m\u001b[1;33m\u001b[0m\u001b[1;33m\u001b[0m\u001b[0m\n",
      "\u001b[1;31mIndexError\u001b[0m: boolean index did not match indexed array along dimension 0; dimension is 361 but corresponding boolean dimension is 2"
     ]
    },
    {
     "ename": "NameError",
     "evalue": "name 'accurate_roots' is not defined",
     "output_type": "error",
     "traceback": [
      "\u001b[1;31m---------------------------------------------------------------------------\u001b[0m",
      "\u001b[1;31mNameError\u001b[0m                                 Traceback (most recent call last)",
      "\u001b[1;32m<ipython-input-8-9805ace5dd78>\u001b[0m in \u001b[0;36m<module>\u001b[1;34m\u001b[0m\n\u001b[0;32m      3\u001b[0m \u001b[0mget_ipython\u001b[0m\u001b[1;33m(\u001b[0m\u001b[1;33m)\u001b[0m\u001b[1;33m.\u001b[0m\u001b[0mrun_line_magic\u001b[0m\u001b[1;33m(\u001b[0m\u001b[1;34m'time'\u001b[0m\u001b[1;33m,\u001b[0m \u001b[1;34m'accurate_roots = yr.polysolve([A,B],return_all_roots=False)'\u001b[0m\u001b[1;33m)\u001b[0m\u001b[1;33m\u001b[0m\u001b[1;33m\u001b[0m\u001b[0m\n\u001b[0;32m      4\u001b[0m \u001b[1;31m#show the number of roots and maximal residuals\u001b[0m\u001b[1;33m\u001b[0m\u001b[1;33m\u001b[0m\u001b[1;33m\u001b[0m\u001b[0m\n\u001b[1;32m----> 5\u001b[1;33m \u001b[0maccurate_roots\u001b[0m\u001b[1;33m.\u001b[0m\u001b[0mshape\u001b[0m\u001b[1;33m[\u001b[0m\u001b[1;36m0\u001b[0m\u001b[1;33m]\u001b[0m\u001b[1;33m,\u001b[0m\u001b[0mnp\u001b[0m\u001b[1;33m.\u001b[0m\u001b[0mmax\u001b[0m\u001b[1;33m(\u001b[0m\u001b[0mA\u001b[0m\u001b[1;33m(\u001b[0m\u001b[0maccurate_roots\u001b[0m\u001b[1;33m)\u001b[0m\u001b[1;33m)\u001b[0m\u001b[1;33m,\u001b[0m\u001b[0mnp\u001b[0m\u001b[1;33m.\u001b[0m\u001b[0mmax\u001b[0m\u001b[1;33m(\u001b[0m\u001b[0mB\u001b[0m\u001b[1;33m(\u001b[0m\u001b[0maccurate_roots\u001b[0m\u001b[1;33m)\u001b[0m\u001b[1;33m)\u001b[0m\u001b[1;33m\u001b[0m\u001b[1;33m\u001b[0m\u001b[0m\n\u001b[0m",
      "\u001b[1;31mNameError\u001b[0m: name 'accurate_roots' is not defined"
     ]
    }
   ],
   "source": [
    "#Roots in unit box\n",
    "#solve and time\n",
    "%time accurate_roots = yr.polysolve([A,B],return_all_roots=False)\n",
    "#show the number of roots and maximal residuals\n",
    "accurate_roots.shape[0],np.max(A(accurate_roots)),np.max(B(accurate_roots))"
   ]
  },
  {
   "cell_type": "markdown",
   "metadata": {},
   "source": [
    "Clearly, roots in the unit interval are more accurate for these higher degree systems. Still, real roots outside the region are visually perfect."
   ]
  },
  {
   "cell_type": "code",
   "execution_count": 9,
   "metadata": {},
   "outputs": [
    {
     "name": "stderr",
     "output_type": "stream",
     "text": [
      "D:\\Users\\Daniel\\Documents\\Work Research\\RootFinding\\yroots\\polynomial.py:18: NumbaWarning: \u001b[1m\n",
      "Compilation is falling back to object mode WITH looplifting enabled because Function \"polyval2\" failed type inference due to: \u001b[1m\u001b[1mInvalid use of Function(<built-in function mul>) with argument(s) of type(s): (tuple(int64 x 1), Literal[int](2))\n",
      "Known signatures:\n",
      " * (int64, int64) -> int64\n",
      " * (int64, uint64) -> int64\n",
      " * (uint64, int64) -> int64\n",
      " * (uint64, uint64) -> uint64\n",
      " * (float32, float32) -> float32\n",
      " * (float64, float64) -> float64\n",
      " * (complex64, complex64) -> complex64\n",
      " * (complex128, complex128) -> complex128\n",
      " * parameterized\n",
      "\u001b[1mIn definition 0:\u001b[0m\n",
      "\u001b[1m    All templates rejected with literals.\u001b[0m\n",
      "\u001b[1mIn definition 1:\u001b[0m\n",
      "\u001b[1m    All templates rejected without literals.\u001b[0m\n",
      "\u001b[1mIn definition 2:\u001b[0m\n",
      "\u001b[1m    All templates rejected with literals.\u001b[0m\n",
      "\u001b[1mIn definition 3:\u001b[0m\n",
      "\u001b[1m    All templates rejected without literals.\u001b[0m\n",
      "\u001b[1mIn definition 4:\u001b[0m\n",
      "\u001b[1m    All templates rejected with literals.\u001b[0m\n",
      "\u001b[1mIn definition 5:\u001b[0m\n",
      "\u001b[1m    All templates rejected without literals.\u001b[0m\n",
      "\u001b[1mIn definition 6:\u001b[0m\n",
      "\u001b[1m    All templates rejected with literals.\u001b[0m\n",
      "\u001b[1mIn definition 7:\u001b[0m\n",
      "\u001b[1m    All templates rejected without literals.\u001b[0m\n",
      "\u001b[1mIn definition 8:\u001b[0m\n",
      "\u001b[1m    All templates rejected with literals.\u001b[0m\n",
      "\u001b[1mIn definition 9:\u001b[0m\n",
      "\u001b[1m    All templates rejected without literals.\u001b[0m\n",
      "\u001b[1mIn definition 10:\u001b[0m\n",
      "\u001b[1m    All templates rejected with literals.\u001b[0m\n",
      "\u001b[1mIn definition 11:\u001b[0m\n",
      "\u001b[1m    All templates rejected without literals.\u001b[0m\n",
      "\u001b[1mThis error is usually caused by passing an argument of a type that is unsupported by the named function.\u001b[0m\u001b[0m\n",
      "\u001b[0m\u001b[1m[1] During: typing of intrinsic-call at D:\\Users\\Daniel\\Documents\\Work Research\\RootFinding\\yroots\\polynomial.py (20)\u001b[0m\n",
      "\u001b[1m\n",
      "File \"yroots\\polynomial.py\", line 20:\u001b[0m\n",
      "\u001b[1mdef polyval2(x, cc): #pragma: no cover\n",
      "\u001b[1m    cc = cc.reshape(cc.shape + (1,)*x.ndim)\n",
      "\u001b[0m    \u001b[1m^\u001b[0m\u001b[0m\n",
      "\u001b[0m\n",
      "  @jit(cache=True)\n",
      "D:\\Users\\Daniel\\Documents\\Work Research\\RootFinding\\yroots\\polynomial.py:18: NumbaWarning: \u001b[1m\n",
      "Compilation is falling back to object mode WITHOUT looplifting enabled because Function \"polyval2\" failed type inference due to: \u001b[1m\u001b[1mcannot determine Numba type of <class 'numba.dispatcher.LiftedLoop'>\u001b[0m\n",
      "\u001b[1m\n",
      "File \"yroots\\polynomial.py\", line 22:\u001b[0m\n",
      "\u001b[1mdef polyval2(x, cc): #pragma: no cover\n",
      "    <source elided>\n",
      "    c0 = cc[-1]\n",
      "\u001b[1m    for i in range(2, len(cc) + 1):\n",
      "\u001b[0m    \u001b[1m^\u001b[0m\u001b[0m\n",
      "\u001b[0m\u001b[0m\n",
      "  @jit(cache=True)\n",
      "D:\\Users\\Daniel\\Anaconda3\\lib\\site-packages\\numba\\object_mode_passes.py:178: NumbaWarning: \u001b[1mFunction \"polyval2\" was compiled in object mode without forceobj=True, but has lifted loops.\n",
      "\u001b[1m\n",
      "File \"yroots\\polynomial.py\", line 19:\u001b[0m\n",
      "\u001b[1m@jit(cache=True)\n",
      "\u001b[1mdef polyval2(x, cc): #pragma: no cover\n",
      "\u001b[0m\u001b[1m^\u001b[0m\u001b[0m\n",
      "\u001b[0m\n",
      "  state.func_ir.loc))\n",
      "D:\\Users\\Daniel\\Anaconda3\\lib\\site-packages\\numba\\object_mode_passes.py:187: NumbaDeprecationWarning: \u001b[1m\n",
      "Fall-back from the nopython compilation path to the object mode compilation path has been detected, this is deprecated behaviour.\n",
      "\n",
      "For more information visit http://numba.pydata.org/numba-doc/latest/reference/deprecation.html#deprecation-of-object-mode-fall-back-behaviour-when-using-jit\n",
      "\u001b[1m\n",
      "File \"yroots\\polynomial.py\", line 19:\u001b[0m\n",
      "\u001b[1m@jit(cache=True)\n",
      "\u001b[1mdef polyval2(x, cc): #pragma: no cover\n",
      "\u001b[0m\u001b[1m^\u001b[0m\u001b[0m\n",
      "\u001b[0m\n",
      "  warnings.warn(errors.NumbaDeprecationWarning(msg, state.func_ir.loc))\n",
      "D:\\Users\\Daniel\\Documents\\Work Research\\RootFinding\\yroots\\polynomial.py:18: NumbaWarning: \u001b[1mCannot cache compiled function \"polyval2\" as it uses lifted loops\u001b[0m\n",
      "  @jit(cache=True)\n"
     ]
    },
    {
     "data": {
      "text/plain": [
       "array([[-1.58861753+0.j,  1.66013536+0.j],\n",
       "       [ 0.57896567+0.j, -1.31114742+0.j],\n",
       "       [-0.04542403+0.j, -1.12553814+0.j],\n",
       "       [ 1.26050846+0.j, -1.25135341+0.j],\n",
       "       [ 0.98242469+0.j, -1.11103665+0.j],\n",
       "       [-0.96512672+0.j,  0.76684634+0.j],\n",
       "       [-0.38087033+0.j, -0.43197629+0.j]])"
      ]
     },
     "execution_count": 9,
     "metadata": {},
     "output_type": "execute_result"
    },
    {
     "data": {
      "image/png": "[encoded data removed]",
      "text/plain": [
       "<Figure size 432x288 with 1 Axes>"
      ]
     },
     "metadata": {
      "needs_background": "light"
     },
     "output_type": "display_data"
    }
   ],
   "source": [
    "#plot A,B and real roots\n",
    "x = np.linspace(-3,3,100)\n",
    "y = np.linspace(-3,3,100)\n",
    "X,Y = np.meshgrid(x,y)\n",
    "plt.contour(X,Y,A(np.array(list(zip(X,Y)))),levels=[0],colors='#003cff')\n",
    "plt.contour(X,Y,B(np.array(list(zip(X,Y)))),levels=[0],colors='k')\n",
    "#plot only the real roots\n",
    "real_roots = roots[np.all(np.abs(roots.imag) < 1.e-10,axis = 1)]\n",
    "plt.plot(np.real(real_roots[:,0]),np.real(real_roots[:,1]),'o',color='none',markeredgecolor='r',markersize=10)\n",
    "real_roots"
   ]
  },
  {
   "cell_type": "markdown",
   "metadata": {},
   "source": [
    "# YRoots Logo"
   ]
  },
  {
   "cell_type": "code",
   "execution_count": null,
   "metadata": {},
   "outputs": [],
   "source": [
    "#making logo\n",
    "one = lambda x,y: (y-.8)*(10*x+2.3)-.06*(2.5*x+2.3)**3+2+.2*np.sin(50*x)+.2*np.cos(50*y)\n",
    "two = lambda x,y: (y-.8)*(-10*x+2.3)-.06*(-2.5*x+2.3)**3+2+.2*np.sin(50*x)+.2*np.cos(50*y)"
   ]
  },
  {
   "cell_type": "code",
   "execution_count": null,
   "metadata": {
    "scrolled": false
   },
   "outputs": [],
   "source": [
    "%time zeros = yr.solve([one,two],-np.ones(2),np.ones(2),plot=True,plot_intervals=True, polish=True)\n",
    "#show the number of roots and maximal residuals\n",
    "zeros.shape[0],np.max(np.abs(one(zeros[:,0],zeros[:,1]))),np.max(np.abs(two(zeros[:,0],zeros[:,1])))"
   ]
  },
  {
   "cell_type": "code",
   "execution_count": null,
   "metadata": {},
   "outputs": [],
   "source": []
  }
 ],
 "metadata": {
  "kernelspec": {
   "display_name": "Python 3",
   "language": "python",
   "name": "python3"
  },
  "language_info": {
   "codemirror_mode": {
    "name": "ipython",
    "version": 3
   },
   "file_extension": ".py",
   "mimetype": "text/x-python",
   "name": "python",
   "nbconvert_exporter": "python",
   "pygments_lexer": "ipython3",
   "version": "3.7.4"
  },
  "varInspector": {
   "cols": {
    "lenName": 16,
    "lenType": 16,
    "lenVar": 40
   },
   "kernels_config": {
    "python": {
     "delete_cmd_postfix": "",
     "delete_cmd_prefix": "del ",
     "library": "var_list.py",
     "varRefreshCmd": "print(var_dic_list())"
    },
    "r": {
     "delete_cmd_postfix": ") ",
     "delete_cmd_prefix": "rm(",
     "library": "var_list.r",
     "varRefreshCmd": "cat(var_dic_list()) "
    }
   },
   "types_to_exclude": [
    "module",
    "function",
    "builtin_function_or_method",
    "instance",
    "_Feature"
   ],
   "window_display": false
  }
 },
 "nbformat": 4,
 "nbformat_minor": 2
}
